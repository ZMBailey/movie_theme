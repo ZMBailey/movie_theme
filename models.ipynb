{
 "cells": [
  {
   "cell_type": "code",
   "execution_count": 35,
   "metadata": {},
   "outputs": [
    {
     "name": "stderr",
     "output_type": "stream",
     "text": [
      "[nltk_data] Downloading package wordnet to\n",
      "[nltk_data]     /Users/alexanderbailey/nltk_data...\n",
      "[nltk_data]   Package wordnet is already up-to-date!\n",
      "[nltk_data] Downloading package stopwords to\n",
      "[nltk_data]     /Users/alexanderbailey/nltk_data...\n",
      "[nltk_data]   Package stopwords is already up-to-date!\n"
     ]
    },
    {
     "data": {
      "text/plain": [
       "True"
      ]
     },
     "execution_count": 35,
     "metadata": {},
     "output_type": "execute_result"
    }
   ],
   "source": [
    "import pandas as pd\n",
    "import numpy as np\n",
    "import gensim\n",
    "import nltk\n",
    "import datetime\n",
    "import time\n",
    "import pickle\n",
    "from gensim.utils import simple_preprocess\n",
    "from gensim.parsing.preprocessing import STOPWORDS\n",
    "from gensim.models import CoherenceModel,Phrases\n",
    "from gensim.models.phrases import Phraser\n",
    "from gensim.models import word2vec\n",
    "from nltk import word_tokenize\n",
    "from nltk.tag import StanfordNERTagger \n",
    "from nltk.corpus import stopwords\n",
    "from nltk.stem import WordNetLemmatizer, SnowballStemmer\n",
    "import numpy as np\n",
    "import matplotlib.pyplot as plt\n",
    "from sklearn.ensemble import RandomForestClassifier\n",
    "from sklearn.svm import SVC\n",
    "from sklearn.linear_model import LogisticRegression\n",
    "from sklearn.pipeline import Pipeline\n",
    "from sklearn.model_selection import cross_val_score\n",
    "from xgboost import XGBClassifier\n",
    "%matplotlib inline\n",
    "%config InlineBackend.figure_format = 'retina'\n",
    "np.random.seed(1960)\n",
    "\n",
    "nltk.download('wordnet')\n",
    "nltk.download('stopwords')"
   ]
  },
  {
   "cell_type": "code",
   "execution_count": 144,
   "metadata": {},
   "outputs": [
    {
     "name": "stdout",
     "output_type": "stream",
     "text": [
      "(56005, 2)\n"
     ]
    },
    {
     "data": {
      "text/html": [
       "<div>\n",
       "<style scoped>\n",
       "    .dataframe tbody tr th:only-of-type {\n",
       "        vertical-align: middle;\n",
       "    }\n",
       "\n",
       "    .dataframe tbody tr th {\n",
       "        vertical-align: top;\n",
       "    }\n",
       "\n",
       "    .dataframe thead th {\n",
       "        text-align: right;\n",
       "    }\n",
       "</style>\n",
       "<table border=\"1\" class=\"dataframe\">\n",
       "  <thead>\n",
       "    <tr style=\"text-align: right;\">\n",
       "      <th></th>\n",
       "      <th>summary</th>\n",
       "      <th>title</th>\n",
       "    </tr>\n",
       "  </thead>\n",
       "  <tbody>\n",
       "    <tr>\n",
       "      <th>0</th>\n",
       "      <td>nown as 1 Life On The Limit is a 2013 document...</td>\n",
       "      <td>1 (2013 film)</td>\n",
       "    </tr>\n",
       "    <tr>\n",
       "      <th>1</th>\n",
       "      <td>While on the phone with his girlfriend Jill w...</td>\n",
       "      <td>+1 (film)</td>\n",
       "    </tr>\n",
       "    <tr>\n",
       "      <th>10</th>\n",
       "      <td>Gully Mercer Mick Rossi leads a group of prol...</td>\n",
       "      <td>2:22 (2008 film)</td>\n",
       "    </tr>\n",
       "    <tr>\n",
       "      <th>100</th>\n",
       "      <td>o Christmas is a Ghanaian drama movie about Re...</td>\n",
       "      <td>6 Hours To Christmas</td>\n",
       "    </tr>\n",
       "    <tr>\n",
       "      <th>1000</th>\n",
       "      <td>r is a 1995 American romantic drama television...</td>\n",
       "      <td>The Affair (1995 film)</td>\n",
       "    </tr>\n",
       "  </tbody>\n",
       "</table>\n",
       "</div>"
      ],
      "text/plain": [
       "                                                summary  \\\n",
       "0     nown as 1 Life On The Limit is a 2013 document...   \n",
       "1      While on the phone with his girlfriend Jill w...   \n",
       "10     Gully Mercer Mick Rossi leads a group of prol...   \n",
       "100   o Christmas is a Ghanaian drama movie about Re...   \n",
       "1000  r is a 1995 American romantic drama television...   \n",
       "\n",
       "                       title  \n",
       "0              1 (2013 film)  \n",
       "1                  +1 (film)  \n",
       "10          2:22 (2008 film)  \n",
       "100     6 Hours To Christmas  \n",
       "1000  The Affair (1995 film)  "
      ]
     },
     "execution_count": 144,
     "metadata": {},
     "output_type": "execute_result"
    }
   ],
   "source": [
    "movies1_df = pd.read_json('data/eng_1_430.json')\n",
    "movies2_df = pd.read_json('data/eng_431_601.json')\n",
    "movies = movies1_df.append(movies2_df)\n",
    "print(movies.shape)\n",
    "movies.head()"
   ]
  },
  {
   "cell_type": "code",
   "execution_count": null,
   "metadata": {},
   "outputs": [],
   "source": [
    "movies.shape"
   ]
  },
  {
   "cell_type": "code",
   "execution_count": null,
   "metadata": {},
   "outputs": [],
   "source": [
    "import random\n",
    "sample = random.sample(list(movies['summary']),25000)\n",
    "sample1 = sample[:12501]\n",
    "sample2 = sample[12501:]\n",
    "sample3 = list(movies['summary'])[30000:45001]\n",
    "sample4 = list(movies['summary'])[45000:]"
   ]
  },
  {
   "cell_type": "code",
   "execution_count": 165,
   "metadata": {},
   "outputs": [
    {
     "data": {
      "text/plain": [
       "25002"
      ]
     },
     "execution_count": 165,
     "metadata": {},
     "output_type": "execute_result"
    }
   ],
   "source": [
    "titles = movies.loc[movies['summary'].isin(sample)]\n",
    "len(titles)"
   ]
  },
  {
   "cell_type": "code",
   "execution_count": 166,
   "metadata": {},
   "outputs": [],
   "source": [
    "titles = titles[(titles.title != 'Island of Death (film)') & (titles.title != \"God's Clay (1919 film)\")]"
   ]
  },
  {
   "cell_type": "code",
   "execution_count": null,
   "metadata": {},
   "outputs": [],
   "source": [
    "st = StanfordNERTagger('english.all.3class.distsim.crf.ser.gz',\n",
    "                       '/Users/alexanderbailey/Documents/stanford-ner-2018-10-16/stanford-ner.jar')\n",
    "#names2 = tag_words(sample2, st)"
   ]
  },
  {
   "cell_type": "code",
   "execution_count": 132,
   "metadata": {},
   "outputs": [
    {
     "data": {
      "text/plain": [
       "113746"
      ]
     },
     "execution_count": 132,
     "metadata": {},
     "output_type": "execute_result"
    }
   ],
   "source": [
    "list(names)[:10]\n",
    "len(names.union(set(map(lambda x: x.lower(),names))))"
   ]
  },
  {
   "cell_type": "code",
   "execution_count": null,
   "metadata": {},
   "outputs": [],
   "source": [
    "# with open('data/names_list1.pkl', 'wb') as f:\n",
    "#     pickle.dump(names, f)"
   ]
  },
  {
   "cell_type": "code",
   "execution_count": 101,
   "metadata": {},
   "outputs": [],
   "source": [
    "#st = StanfordNERTagger('english.all.3class.distsim.crf.ser.gz',\n",
    "#                        '/Users/alexanderbailey/Documents/stanford-ner-2018-10-16/stanford-ner.jar')\n",
    "#names = tag_words(list(movies['summary']))\n",
    "with open('data/names_list1.pkl', 'rb') as f1:\n",
    "    names1 = pickle.load(f1)\n",
    "with open('data/names_list2.pkl', 'rb') as f2:\n",
    "    names2 = pickle.load(f2)\n",
    "    \n",
    "names = set(names1).union(set(names2))"
   ]
  },
  {
   "cell_type": "code",
   "execution_count": 131,
   "metadata": {},
   "outputs": [],
   "source": [
    "names = names.union(set(map(lambda x: x.lower(),names)))\n",
    "stop_words = stopwords.words('english')\n",
    "stop_words += ['film', 'directed', 'film_directed', 'series',\n",
    "               'story', 'american', 'starring', 'films', 'direct',\n",
    "               'produced', 'stars', 'released','premiered','features',\n",
    "              'featuring','interviews','release','version','performances',\n",
    "              'performance','perform','titled','title','distributed','featured',\n",
    "              'adaptation','character','role','including']\n",
    "# different, bands, performances, titled, ideas, significant, musicians, issue, perform, performed, \n",
    "# Topic 12: \n",
    "# role, including, shown, debut, character, september, distributed, adaptation, november, featured, \n",
    "stop_words = set(stop_words).union(names)"
   ]
  },
  {
   "cell_type": "code",
   "execution_count": 217,
   "metadata": {},
   "outputs": [],
   "source": [
    "def get_tag(idx,doc,st):\n",
    "    if idx % 1000:\n",
    "        print(idx)\n",
    "        return st.tag(doc.split())\n",
    "\n",
    "def tag_words(texts, st):\n",
    "    tags = [get_tag(idx,doc,st) for idx,doc in enumerate(texts)]\n",
    "    names = [set([word for word,tag in doc if tag != 'O']) for doc in tags]\n",
    "    return set.union(*names)\n",
    "\n",
    "def remove_stopwords(texts):\n",
    "    return [[word for word in simple_preprocess(str(doc)) if word not in stop_words] for doc in texts]\n",
    "\n",
    "def remove_sw(doc):\n",
    "    return [word for word in simple_preprocess(str(doc)) if word not in stop_words]\n",
    "\n",
    "def get_single_corpus(doc,id2word):\n",
    "    words = remove_sw(doc)\n",
    "    bigram_mod = bigrams(words)\n",
    "    bigram = bigram_mod[words]\n",
    "    corpus = id2word.doc2bow(bigram)\n",
    "    return corpus\n",
    "\n",
    "def bigrams(words, bi_min=15, tri_min=10):\n",
    "    bigram = Phrases(words, min_count = bi_min)\n",
    "    bigram_mod = Phraser(bigram)\n",
    "    return bigram_mod\n",
    "\n",
    "def refactor_corpus(bigram):\n",
    "    id2word = gensim.corpora.Dictionary(bigram)\n",
    "    id2word.filter_extremes(no_below=15, no_above=0.35)\n",
    "    id2word.compactify()\n",
    "    corpus = [id2word.doc2bow(text) for text in bigram]\n",
    "    return corpus, id2word\n",
    "\n",
    "def get_corpus(df):\n",
    "    #words = list(df['summary'])\n",
    "    words = remove_stopwords(df)\n",
    "    bigram_mod = bigrams(words)\n",
    "    bigram = [bigram_mod[plot] for plot in words]\n",
    "    id2word = gensim.corpora.Dictionary(bigram)\n",
    "    id2word.filter_extremes(no_below=15, no_above=0.35)\n",
    "    id2word.compactify()\n",
    "    corpus = [id2word.doc2bow(text) for text in bigram]\n",
    "    return corpus, id2word, bigram"
   ]
  },
  {
   "cell_type": "code",
   "execution_count": 133,
   "metadata": {},
   "outputs": [
    {
     "name": "stdout",
     "output_type": "stream",
     "text": [
      "Time:  0:00:19.972509\n"
     ]
    }
   ],
   "source": [
    "now = datetime.datetime.now()\n",
    "m_corpus, m_id2word, bigram = get_corpus(sample)\n",
    "later = datetime.datetime.now()\n",
    "elapsed = later-now\n",
    "print(\"Time: \", elapsed)"
   ]
  },
  {
   "cell_type": "code",
   "execution_count": null,
   "metadata": {},
   "outputs": [],
   "source": [
    "# with open('samples.pkl','wb') as f:\n",
    "#     pickle.dump([m_corpus,m_id2word,sample,sample1,sample2],f)"
   ]
  },
  {
   "cell_type": "code",
   "execution_count": 36,
   "metadata": {},
   "outputs": [],
   "source": [
    "# with open('samples.pkl','rb') as f:\n",
    "#     data = pickle.load(f)\n",
    "# m_corpus = data[0]\n",
    "# m_id2word = data[1]\n",
    "# sample = data[2]\n",
    "# sample1 = data[3]\n",
    "# sample2 = data[4]"
   ]
  },
  {
   "cell_type": "code",
   "execution_count": null,
   "metadata": {},
   "outputs": [],
   "source": [
    "dictionary  = gensim.corpora.Dictionary(processed_docs)\n",
    "\n",
    "count = 0\n",
    "for k, v in dictionary.iteritems():\n",
    "    count += 1\n",
    "    if count > 10:\n",
    "        break"
   ]
  },
  {
   "cell_type": "code",
   "execution_count": null,
   "metadata": {},
   "outputs": [],
   "source": [
    "dictionary.filter_extremes(no_below=20, no_above=0.5, keep_n=100000)"
   ]
  },
  {
   "cell_type": "code",
   "execution_count": null,
   "metadata": {},
   "outputs": [],
   "source": [
    "bow_corpus = [dictionary.doc2bow(doc) for doc in processed_docs]"
   ]
  },
  {
   "cell_type": "code",
   "execution_count": null,
   "metadata": {},
   "outputs": [],
   "source": [
    "from gensim import corpora, models\n",
    "\n",
    "tfidf = models.TfidfModel(bow_corpus)\n",
    "corpus_tfidf = tfidf[bow_corpus]\n"
   ]
  },
  {
   "cell_type": "code",
   "execution_count": null,
   "metadata": {},
   "outputs": [],
   "source": [
    "hdp_model = gensim.models.HdpModel(corpus=m_corpus, id2word=m_id2word, random_state=56)\n"
   ]
  },
  {
   "cell_type": "code",
   "execution_count": null,
   "metadata": {},
   "outputs": [],
   "source": [
    "for idx, topic in hdp_model.print_topics(num_topics=-1, num_words=5):\n",
    "    print('Topic : {} Word: {}'.format(idx, topic))"
   ]
  },
  {
   "cell_type": "code",
   "execution_count": null,
   "metadata": {},
   "outputs": [],
   "source": [
    "lda_model = gensim.models.LdaMulticore(corpus=m_corpus,\n",
    "                                       num_topics=20,\n",
    "                                       id2word=m_id2word,\n",
    "                                       chunksize=100,\n",
    "                                       eval_every=1,\n",
    "                                       per_word_topics=True,\n",
    "                                       passes=20,\n",
    "                                       workers=4)\n",
    "\n",
    "for idx, topic in lda_model.print_topics(num_topics=-1):\n",
    "    print('Topic : {} Word: {}'.format(idx, topic))"
   ]
  },
  {
   "cell_type": "markdown",
   "metadata": {},
   "source": [
    "0: Medical/Academic\n",
    "1: \n",
    "2: Dramatic Thriller\n",
    "3: Romance\n",
    "4: Family\n",
    "5: Political Trhiller\n",
    "6: Acting/Musicians\n",
    "7: Violence/War"
   ]
  },
  {
   "cell_type": "code",
   "execution_count": 204,
   "metadata": {},
   "outputs": [],
   "source": [
    "coherence_values = []\n",
    "model_list = []\n",
    "for num_topics in range(5,10,1):\n",
    "    model = gensim.models.LdaMulticore(corpus=m_corpus,\n",
    "                                       num_topics=num_topics,\n",
    "                                       id2word=m_id2word,\n",
    "                                       chunksize=100,\n",
    "                                       eval_every=1,\n",
    "                                       per_word_topics=True,\n",
    "                                       passes=20,\n",
    "                                       workers=3)\n",
    "    model_list.append(model)\n",
    "    \n",
    "    coherencemodel = CoherenceModel(model=model, \n",
    "                                    texts=bigram,\n",
    "                                    dictionary=m_id2word,\n",
    "                                   coherence='c_v')\n",
    "    print('model with ' + num_topics + ' topics')\n",
    "    coherence_values.append(coherencemodel.get_coherence())"
   ]
  },
  {
   "cell_type": "code",
   "execution_count": 206,
   "metadata": {},
   "outputs": [
    {
     "data": {
      "image/png": "[encoded data removed]",
      "text/plain": [
       "<Figure size 432x288 with 1 Axes>"
      ]
     },
     "metadata": {
      "image/png": {
       "height": 263,
       "width": 400
      },
      "needs_background": "light"
     },
     "output_type": "display_data"
    }
   ],
   "source": [
    "\n",
    "X = np.arange(5,10,1)\n",
    "\n",
    "fig, ax = plt.subplots()\n",
    "ax.plot(X, coherence_values, label=\"Coherence Values\")\n",
    "ax.set_xlabel('Num Topics')\n",
    "ax.set_ylabel('Coherence Score')\n",
    "plt.legend()\n",
    "plt.show()"
   ]
  },
  {
   "cell_type": "code",
   "execution_count": 207,
   "metadata": {},
   "outputs": [
    {
     "name": "stdout",
     "output_type": "stream",
     "text": [
      "Num Topics = 5  has Coherence Value of 0.3847\n",
      "Num Topics = 6  has Coherence Value of 0.4043\n",
      "Num Topics = 7  has Coherence Value of 0.3749\n",
      "Num Topics = 8  has Coherence Value of 0.376\n",
      "Num Topics = 9  has Coherence Value of 0.3796\n"
     ]
    }
   ],
   "source": [
    "for m, cv in zip(X, coherence_values):\n",
    "    print(\"Num Topics =\", m, \" has Coherence Value of\", round(cv, 4))"
   ]
  },
  {
   "cell_type": "code",
   "execution_count": 197,
   "metadata": {},
   "outputs": [],
   "source": [
    "models2 = model_list\n",
    "coherence2 = coherence_values"
   ]
  },
  {
   "cell_type": "code",
   "execution_count": 209,
   "metadata": {},
   "outputs": [
    {
     "name": "stdout",
     "output_type": "stream",
     "text": [
      "Topic 0: \n",
      "killed, reveals, named, captured, plan, led, attempt, others, attempts, manages, \n",
      "Topic 1: \n",
      "begins, causing, uses, attempts, causes, rope, turns, onto, precode, open, \n",
      "Topic 2: \n",
      "tries, leave, runs, killed, begins, starts, apartment, turns, attempts, named, \n",
      "Topic 3: \n",
      "played, th, shown, includes, final, debut, received, career, romantic, writer, \n",
      "Topic 4: \n",
      "decides, meets, relationship, become, would, begins, agrees, makes, gives, leave, \n",
      "Topic 5: \n",
      "ship, plane, flight, pilot, passengers, ships, launch, engine, lands, available, \n"
     ]
    }
   ],
   "source": [
    "for topic in range(6):\n",
    "    print('Topic ' + str(topic) + ': ')\n",
    "    for word in range(10):\n",
    "        print(model_list[1].show_topic(topic)[word][0] + \", \", end=\"\")\n",
    "    print('')\n"
   ]
  },
  {
   "cell_type": "markdown",
   "metadata": {},
   "source": [
    "### Topics 1\n",
    "\n",
    "Topic 0: War\n",
    "ship, plane, bomb, pilot, flight, helicopter, passengers, ships, surface, launch, \n",
    "Topic 1: Books/Based on Book\n",
    "th, shown, received, final, debut, played, september, career, inspired, writer, \n",
    "Topic 2: Prison\n",
    "map, starred, prisoners, wallet, era, inmates, produce, wins, plague, arrange, \n",
    "Topic 3: Espionage\n",
    "killed, reveals, named, attempts, discovers, discover, others, attacked, taken, attempt, \n",
    "Topic 4: Drama\n",
    "apartment, plan, meets, killed, pay, agrees, tries, arrest, turns, named, \n",
    "Topic 5: Romance\n",
    "relationship, decides, begins, meets, become, would, leave, married, gives, makes, \n",
    "Topic 6: \n",
    "played, concerns, focuses, romantic, roles, includes, screened, bands, appeared, composed, \n",
    "Topic 7: \n",
    "tries, runs, starts, begins, leave, turns, makes, causing, bed, attempts, "
   ]
  },
  {
   "cell_type": "markdown",
   "metadata": {},
   "source": [
    "### Topics 2\n",
    "\n",
    "Topic 0: Crime Drama\n",
    "tape, killed, cop, thugs, involved, arrest, led, dealer, attempts, become,\n",
    "\n",
    "Topic 1: On the Run\n",
    "tries, begins, runs, leave, attempts, turns, starts, causing, try, named, \n",
    "\n",
    "Topic 2: Flight Thriller\n",
    "plane, flight, pilot, passengers, infected, aired, bombing, engine, airplane, climbing,\n",
    "\n",
    "Topic 3: Murder Mystery\n",
    "killed, reveals, discovers, murdered, died, claims, apartment, evidence, begins, investigate,\n",
    "\n",
    "Topic 4: Relationship Drama\n",
    "th, played, includes, concerns, september, received, romantic, shown, november, december, \n",
    "\n",
    "Topic 5: Heist\n",
    "plan, named, plans, scheme, fake, pay, minister, thief, hired, turns, \n",
    "\n",
    "Topic 6: Jail\n",
    "trial, sent, prisoners, execution, sentenced, taken, lawyer, guilty, sentence, member, \n",
    "\n",
    "Topic 7: Highschool\n",
    "contract, script, paying, prom, championship, teams, composer, involves, debate, current, \n",
    "\n",
    "Topic 8: Romance\n",
    "relationship, become, begins, decides, must, would, yearold, seems, married, career, \n",
    "\n",
    "Topic 9: Action\n",
    "killed, ship, reveals, captured, attempt, bomb, led, remaining, others, plan, \n",
    "\n",
    "Topic 10: Decisions\n",
    "leave, meets, decides, gives, agrees, tries, makes, apartment, offers, reveals, \n",
    "\n",
    "Topic 11: Hospital\n",
    "debut, shown, patients, called, narrator, starred, composed, appeared, available, patient,"
   ]
  },
  {
   "cell_type": "code",
   "execution_count": 139,
   "metadata": {},
   "outputs": [],
   "source": [
    "topic_vecs = []\n",
    "for i in range(len(sample)):\n",
    "    top_topics = model_list[2].get_document_topics(m_corpus[i], minimum_probability=0.0)\n",
    "    topic_vec = [top_topics[i][1] for i in range(12)]\n",
    "    topic_vecs.append(topic_vec)"
   ]
  },
  {
   "cell_type": "code",
   "execution_count": 227,
   "metadata": {},
   "outputs": [
    {
     "data": {
      "text/plain": [
       "'On the Run'"
      ]
     },
     "execution_count": 227,
     "metadata": {},
     "output_type": "execute_result"
    }
   ],
   "source": [
    "unseen = 'As people are enjoying drinks in a bar, a man covered in blood—identified onscreen as \"Hero\" '\n",
    "unseen += '(Eric Dane)—enters through the door and warns them all of impending danger. No one heeds his warning, '\n",
    "unseen += 'so he shows the bar patrons the head of a repulsive creature to make them take him seriously. He is soon '\n",
    "unseen += 'pulled through a window and decapitated by one of the monsters. After the carnage, a woman—\"Heroine\" '\n",
    "unseen += '(Navi Rawat)—bursts through the door and reveals herself to be the recently deceased mans wife. After a brief '\n",
    "unseen += 'sentimental moment between the wife and her late husband, the bar patrons begin boarding up the windows in '\n",
    "unseen += 'the bar. Despite their efforts, a young monster bursts through an uncovered window and begins attacking. As a '\n",
    "unseen += 'monster outside bursts its hand through \"Vet\" (Anthony \"Treach\" Criss), \"Edgy Cat\" (Jason Mewes) has his face '\n",
    "unseen += 'torn off and is accidentally shot dead, and the little monster cuts off the leg of one of the women — \"Harley Mom\" '\n",
    "unseen += ' (Diane Ayala Goldner)—who is initially assumed to have died from massive blood loss. The monster disappears '\n",
    "unseen += 'for some time, then is found attempting to sexually penetrate one of the deer heads nailed to the wall. '\n",
    "unseen += 'A shotgun blast removes the deer head and monster. The monster drops into a freezer which is then sealed shut, '\n",
    "unseen += 'trapping it inside. Following this, the remaining windows are boarded up and the bar patrons are given a moment '\n",
    "unseen += 'of peace. Trying to call for help, they learn that the only phone in the bar has been hit by a stray shotgun '\n",
    "unseen += 'blast and rendered useless. One of the women—\"Tuffy\" (Krista Allen)—suddenly realizes that her son Cody '\n",
    "unseen += '(Tyler Patrick Jones) is still upstairs and runs to get him. Once she finds her child the group rejoices '\n",
    "unseen += 'until the boy is pulled through a window and eaten by one of the monsters, leaving only his right foot behind.'\n",
    "unseen += ' Tuffy is incapacitated by grief, while the monster vomits a stream of slime at one of the group—\"Beer Guy\" '\n",
    "unseen += '(Judah Friedlander). As the remaining people regroup downstairs, they realize that the slime has a decomposing'\n",
    "unseen += ' effect and that Beer Guy is being slowly overcome by its effects.'\n",
    "\n",
    "corp = get_single_corpus(unseen,m_id2word)\n",
    "\n",
    "topic = models2[2].get_document_topics(corp, minimum_probability=0.0)\n",
    "idx, scores = zip(*topic)\n",
    "topic_names[scores.index(max(scores))]"
   ]
  },
  {
   "cell_type": "code",
   "execution_count": 140,
   "metadata": {},
   "outputs": [
    {
     "data": {
      "text/plain": [
       "[0.00087786873,\n",
       " 0.16741757,\n",
       " 0.0008778598,\n",
       " 0.00087787234,\n",
       " 0.0008778833,\n",
       " 0.16576791,\n",
       " 0.00087788934,\n",
       " 0.0008778703,\n",
       " 0.19216758,\n",
       " 0.45579526,\n",
       " 0.00087789266,\n",
       " 0.012706535]"
      ]
     },
     "execution_count": 140,
     "metadata": {},
     "output_type": "execute_result"
    }
   ],
   "source": [
    "topic_vecs[0]"
   ]
  },
  {
   "cell_type": "code",
   "execution_count": null,
   "metadata": {},
   "outputs": [],
   "source": [
    "topic = topic_vecs[0].index(max(topic_vecs[0]))"
   ]
  },
  {
   "cell_type": "markdown",
   "metadata": {},
   "source": [
    "### Extracting Target"
   ]
  },
  {
   "cell_type": "code",
   "execution_count": 141,
   "metadata": {},
   "outputs": [
    {
     "data": {
      "text/plain": [
       "{'Crime Drama': 0,\n",
       " 'On the Run': 1,\n",
       " 'Thriller involving Planes': 2,\n",
       " 'Murder Mystery': 3,\n",
       " 'Relationship Drama': 4,\n",
       " 'Heist': 5,\n",
       " 'Jail': 6,\n",
       " 'Highschool': 7,\n",
       " 'Romance': 8,\n",
       " 'Action': 9,\n",
       " 'Tough Decisions': 10,\n",
       " 'Hospitals': 11}"
      ]
     },
     "execution_count": 141,
     "metadata": {},
     "output_type": "execute_result"
    }
   ],
   "source": [
    "# topic_names = ['Crime Drama','On the Run','Thriller involving Planes','Murder Mystery','Relationship Drama',\n",
    "#                'Heist','Jail','Highschool','Romance','Action',\n",
    "#                'Tough Decisions','Hospitals']\n",
    "topic_names = []\n",
    "topics_numbered = {t:idx for idx,t in enumerate(topic_names)}\n",
    "topics_numbered"
   ]
  },
  {
   "cell_type": "code",
   "execution_count": 147,
   "metadata": {},
   "outputs": [
    {
     "data": {
      "text/plain": [
       "25000"
      ]
     },
     "execution_count": 147,
     "metadata": {},
     "output_type": "execute_result"
    }
   ],
   "source": [
    "topic_nums = [vec.index(max(vec)) for vec in topic_vecs]\n",
    "topics = np.array([topic_names[topic] for topic in topic_nums])\n",
    "len(topics)"
   ]
  },
  {
   "cell_type": "code",
   "execution_count": 167,
   "metadata": {},
   "outputs": [],
   "source": [
    "df_movies = titles.copy()\n",
    "df_movies.loc[:,'label'] = topics\n",
    "df_movies = df_movies.reset_index()\n",
    "df_movies = df_movies.drop('index',axis=1)\n",
    "df_movies.head()\n",
    "#df_movies.to_json('labeled_movies.json')"
   ]
  },
  {
   "cell_type": "markdown",
   "metadata": {},
   "source": [
    "### Word Embedding"
   ]
  },
  {
   "cell_type": "code",
   "execution_count": 168,
   "metadata": {},
   "outputs": [],
   "source": [
    "#df_movies = pd.read_json('labeled_movies.json')\n",
    "texts = df_movies['summary']\n",
    "total_vocabulary = set(word for summary in texts for word in summary)"
   ]
  },
  {
   "cell_type": "code",
   "execution_count": 169,
   "metadata": {},
   "outputs": [
    {
     "data": {
      "text/html": [
       "<div>\n",
       "<style scoped>\n",
       "    .dataframe tbody tr th:only-of-type {\n",
       "        vertical-align: middle;\n",
       "    }\n",
       "\n",
       "    .dataframe tbody tr th {\n",
       "        vertical-align: top;\n",
       "    }\n",
       "\n",
       "    .dataframe thead th {\n",
       "        text-align: right;\n",
       "    }\n",
       "</style>\n",
       "<table border=\"1\" class=\"dataframe\">\n",
       "  <thead>\n",
       "    <tr style=\"text-align: right;\">\n",
       "      <th></th>\n",
       "      <th>summary</th>\n",
       "      <th>title</th>\n",
       "      <th>label</th>\n",
       "    </tr>\n",
       "  </thead>\n",
       "  <tbody>\n",
       "    <tr>\n",
       "      <th>0</th>\n",
       "      <td>While on the phone with his girlfriend Jill w...</td>\n",
       "      <td>+1 (film)</td>\n",
       "      <td>9</td>\n",
       "    </tr>\n",
       "    <tr>\n",
       "      <th>1</th>\n",
       "      <td>Gully Mercer Mick Rossi leads a group of prol...</td>\n",
       "      <td>2:22 (2008 film)</td>\n",
       "      <td>3</td>\n",
       "    </tr>\n",
       "    <tr>\n",
       "      <th>10</th>\n",
       "      <td>Dyan Cannon plays Madie Levrington a wealthy ...</td>\n",
       "      <td>Coast to Coast (1980 film)</td>\n",
       "      <td>3</td>\n",
       "    </tr>\n",
       "    <tr>\n",
       "      <th>100</th>\n",
       "      <td>Gallery owner Farnsworth takes a painting out...</td>\n",
       "      <td>Color Me Blood Red</td>\n",
       "      <td>10</td>\n",
       "    </tr>\n",
       "    <tr>\n",
       "      <th>1000</th>\n",
       "      <td>Daffy is taking a bubble bath in a pond when ...</td>\n",
       "      <td>Ain't That Ducky</td>\n",
       "      <td>1</td>\n",
       "    </tr>\n",
       "  </tbody>\n",
       "</table>\n",
       "</div>"
      ],
      "text/plain": [
       "                                                summary  \\\n",
       "0      While on the phone with his girlfriend Jill w...   \n",
       "1      Gully Mercer Mick Rossi leads a group of prol...   \n",
       "10     Dyan Cannon plays Madie Levrington a wealthy ...   \n",
       "100    Gallery owner Farnsworth takes a painting out...   \n",
       "1000   Daffy is taking a bubble bath in a pond when ...   \n",
       "\n",
       "                           title  label  \n",
       "0                      +1 (film)      9  \n",
       "1               2:22 (2008 film)      3  \n",
       "10    Coast to Coast (1980 film)      3  \n",
       "100           Color Me Blood Red     10  \n",
       "1000            Ain't That Ducky      1  "
      ]
     },
     "execution_count": 169,
     "metadata": {},
     "output_type": "execute_result"
    }
   ],
   "source": [
    "df_movies['label'] = df_movies['label'].map(topics_numbered)\n",
    "df_movies.head()"
   ]
  },
  {
   "cell_type": "code",
   "execution_count": 170,
   "metadata": {},
   "outputs": [],
   "source": [
    "labels = df_movies['label']"
   ]
  },
  {
   "cell_type": "code",
   "execution_count": 4,
   "metadata": {},
   "outputs": [],
   "source": [
    "glove = {}\n",
    "with open('glove.6B.50d.txt', 'rb') as f:\n",
    "    for line in f:\n",
    "        parts = line.split()\n",
    "        word = parts[0].decode('utf-8')\n",
    "        if word in total_vocabulary:\n",
    "            vector = np.array(parts[1:], dtype=np.float32)\n",
    "            glove[word] = vector"
   ]
  },
  {
   "cell_type": "code",
   "execution_count": 5,
   "metadata": {},
   "outputs": [],
   "source": [
    "class W2vVectorizer(object):\n",
    "    \n",
    "    def __init__(self, w2v):\n",
    "        # takes in a dictionary of words and vectors as input\n",
    "        self.w2v = w2v\n",
    "        if len(w2v) == 0:\n",
    "            self.dimensions = 0\n",
    "        else:\n",
    "            self.dimensions = len(w2v[next(iter(glove))])\n",
    "    \n",
    "    def fit(self, X, y):\n",
    "        return self\n",
    "            \n",
    "    def transform(self, X):\n",
    "        return np.array([\n",
    "            np.mean([self.w2v[w] for w in words if w in self.w2v]\n",
    "                   or [np.zeros(self.dimensions)], axis=0) for words in X])"
   ]
  },
  {
   "cell_type": "code",
   "execution_count": 190,
   "metadata": {},
   "outputs": [
    {
     "data": {
      "text/plain": [
       "CountVectorizer(analyzer='word', binary=False, decode_error='strict',\n",
       "                dtype=<class 'numpy.int64'>, encoding='utf-8', input='content',\n",
       "                lowercase=True, max_df=1.0, max_features=None, min_df=1,\n",
       "                ngram_range=(1, 1), preprocessor=None, stop_words=None,\n",
       "                strip_accents=None, token_pattern='(?u)\\\\b\\\\w\\\\w+\\\\b',\n",
       "                tokenizer=None, vocabulary=None)"
      ]
     },
     "execution_count": 190,
     "metadata": {},
     "output_type": "execute_result"
    }
   ],
   "source": [
    "from sklearn.feature_extraction.text import CountVectorizer\n",
    "from sklearn.model_selection import train_test_split\n",
    "\n",
    "vectorizer = CountVectorizer()\n",
    "vectorizer.fit(df_movies['summary'])"
   ]
  },
  {
   "cell_type": "markdown",
   "metadata": {},
   "source": [
    "## Classification Model"
   ]
  },
  {
   "cell_type": "code",
   "execution_count": 194,
   "metadata": {},
   "outputs": [],
   "source": [
    "rf =  Pipeline([(\"Word2Vec Vectorizer\", W2vVectorizer(glove)),\n",
    "              (\"Random Forest\", RandomForestClassifier(n_estimators=100, verbose=True))])\n",
    "svc = Pipeline([(\"Word2Vec Vectorizer\", W2vVectorizer(glove)),\n",
    "                ('Support Vector Machine', SVC(gamma='auto'))])\n",
    "lr = Pipeline([(\"Word2Vec Vectorizer\", W2vVectorizer(glove)),\n",
    "              ('Logistic Regression', LogisticRegression(solver='lbfgs',max_iter=1000,multi_class='auto'))])\n",
    "xgb = Pipeline([('Word2Vec Vectorizer', W2vVectorizer(glove)),\n",
    "              ('XGBoost',XGBClassifier(n_estimators=100))])"
   ]
  },
  {
   "cell_type": "code",
   "execution_count": 172,
   "metadata": {},
   "outputs": [],
   "source": [
    "tokenized_text = df_movies['summary'].map(word_tokenize).values"
   ]
  },
  {
   "cell_type": "code",
   "execution_count": 195,
   "metadata": {},
   "outputs": [
    {
     "name": "stderr",
     "output_type": "stream",
     "text": [
      "[Parallel(n_jobs=1)]: Using backend SequentialBackend with 1 concurrent workers.\n",
      "[Parallel(n_jobs=1)]: Done 100 out of 100 | elapsed:    2.5s finished\n",
      "[Parallel(n_jobs=1)]: Using backend SequentialBackend with 1 concurrent workers.\n",
      "[Parallel(n_jobs=1)]: Done 100 out of 100 | elapsed:    0.2s finished\n",
      "[Parallel(n_jobs=1)]: Using backend SequentialBackend with 1 concurrent workers.\n",
      "[Parallel(n_jobs=1)]: Done 100 out of 100 | elapsed:    2.0s finished\n",
      "[Parallel(n_jobs=1)]: Using backend SequentialBackend with 1 concurrent workers.\n",
      "[Parallel(n_jobs=1)]: Done 100 out of 100 | elapsed:    0.1s finished\n"
     ]
    }
   ],
   "source": [
    "models = [('Random Forest', rf),\n",
    "          (\"Support Vector Machine\", svc),\n",
    "          (\"Logistic Regression\", lr),\n",
    "          ('XGBoost', xgb)]\n",
    "scores = [(name, cross_val_score(model, tokenized_text, labels, cv=2).mean()) for name, model, in models]"
   ]
  },
  {
   "cell_type": "code",
   "execution_count": 193,
   "metadata": {},
   "outputs": [
    {
     "data": {
      "text/plain": [
       "[('Random Forest', 0.13920021921793263),\n",
       " ('Support Vector Machine', 0.16123999968742397),\n",
       " ('Logistic Regression', 0.13039960431101721),\n",
       " ('XGBoost', 0.1518795191482603)]"
      ]
     },
     "execution_count": 193,
     "metadata": {},
     "output_type": "execute_result"
    }
   ],
   "source": [
    "scores"
   ]
  },
  {
   "cell_type": "code",
   "execution_count": 176,
   "metadata": {},
   "outputs": [],
   "source": [
    "from keras.preprocessing.sequence import pad_sequences\n",
    "from keras.layers import Input, Dense, LSTM, Embedding\n",
    "from keras.layers import Dropout, Activation, Bidirectional, GlobalMaxPool1D\n",
    "from keras.models import Model\n",
    "from keras import initializers, regularizers, constraints, optimizers, layers\n",
    "from keras.preprocessing import text, sequence"
   ]
  },
  {
   "cell_type": "code",
   "execution_count": 177,
   "metadata": {},
   "outputs": [],
   "source": [
    "tokenizer = text.Tokenizer(num_words=20000)\n",
    "tokenizer.fit_on_texts(list(df_movies.summary))\n",
    "list_tokenized_headlines = tokenizer.texts_to_sequences(df_movies.summary)\n",
    "X_t = sequence.pad_sequences(list_tokenized_headlines, maxlen=500)\n",
    "y = pd.get_dummies(labels).values"
   ]
  },
  {
   "cell_type": "code",
   "execution_count": 181,
   "metadata": {},
   "outputs": [],
   "source": [
    "embedding_size = 128\n",
    "input_ = Input(shape=(500,))\n",
    "x = Embedding(20000, embedding_size)(input_)\n",
    "x = LSTM(25, return_sequences=True)(x)\n",
    "x = GlobalMaxPool1D()(x)\n",
    "x = Dropout(0.5)(x)\n",
    "x = Dense(50, activation='relu')(x)\n",
    "x = Dropout(0.5)(x)\n",
    "# There are 41 different possible classes, so we use 41 neurons in our output layer\n",
    "x = Dense(12, activation='softmax')(x)\n",
    "\n",
    "model = Model(inputs=input_, outputs=x)"
   ]
  },
  {
   "cell_type": "code",
   "execution_count": 182,
   "metadata": {},
   "outputs": [],
   "source": [
    "model.compile(loss='categorical_crossentropy', optimizer='adam', metrics=['accuracy'])"
   ]
  },
  {
   "cell_type": "code",
   "execution_count": 183,
   "metadata": {},
   "outputs": [
    {
     "name": "stdout",
     "output_type": "stream",
     "text": [
      "Train on 20000 samples, validate on 5000 samples\n",
      "Epoch 1/5\n",
      "20000/20000 [==============================] - 672s 34ms/step - loss: 2.3254 - acc: 0.1442 - val_loss: 2.2785 - val_acc: 0.1630\n",
      "Epoch 2/5\n",
      "20000/20000 [==============================] - 649s 32ms/step - loss: 2.2929 - acc: 0.1515 - val_loss: 2.2801 - val_acc: 0.1630\n",
      "Epoch 3/5\n",
      "20000/20000 [==============================] - 658s 33ms/step - loss: 2.2779 - acc: 0.1575 - val_loss: 2.2844 - val_acc: 0.1634\n",
      "Epoch 4/5\n",
      "20000/20000 [==============================] - 628s 31ms/step - loss: 2.2435 - acc: 0.1683 - val_loss: 2.3048 - val_acc: 0.1588\n",
      "Epoch 5/5\n",
      "20000/20000 [==============================] - 643s 32ms/step - loss: 2.1740 - acc: 0.1878 - val_loss: 2.3558 - val_acc: 0.1440\n"
     ]
    },
    {
     "data": {
      "text/plain": [
       "<keras.callbacks.History at 0x1c521d17b8>"
      ]
     },
     "execution_count": 183,
     "metadata": {},
     "output_type": "execute_result"
    }
   ],
   "source": [
    "model.fit(X_t, y, epochs=5, batch_size=32, validation_split=0.2)"
   ]
  },
  {
   "cell_type": "code",
   "execution_count": 91,
   "metadata": {},
   "outputs": [
    {
     "data": {
      "text/plain": [
       "1386.0223982081434"
      ]
     },
     "execution_count": 91,
     "metadata": {},
     "output_type": "execute_result"
    }
   ],
   "source": [
    "df_movies.summary.apply(lambda x: len(x))"
   ]
  },
  {
   "cell_type": "code",
   "execution_count": null,
   "metadata": {},
   "outputs": [],
   "source": []
  }
 ],
 "metadata": {
  "kernelspec": {
   "display_name": "learn-env",
   "language": "python",
   "name": "learn-env"
  },
  "language_info": {
   "codemirror_mode": {
    "name": "ipython",
    "version": 3
   },
   "file_extension": ".py",
   "mimetype": "text/x-python",
   "name": "python",
   "nbconvert_exporter": "python",
   "pygments_lexer": "ipython3",
   "version": "3.7.1"
  }
 },
 "nbformat": 4,
 "nbformat_minor": 2
}

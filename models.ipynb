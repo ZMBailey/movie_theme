{
 "cells": [
  {
   "cell_type": "code",
   "execution_count": 141,
   "metadata": {},
   "outputs": [
    {
     "name": "stderr",
     "output_type": "stream",
     "text": [
      "[nltk_data] Downloading package wordnet to\n",
      "[nltk_data]     /Users/alexanderbailey/nltk_data...\n",
      "[nltk_data]   Package wordnet is already up-to-date!\n",
      "[nltk_data] Downloading package stopwords to\n",
      "[nltk_data]     /Users/alexanderbailey/nltk_data...\n",
      "[nltk_data]   Package stopwords is already up-to-date!\n"
     ]
    },
    {
     "data": {
      "text/plain": [
       "True"
      ]
     },
     "execution_count": 141,
     "metadata": {},
     "output_type": "execute_result"
    }
   ],
   "source": [
    "import pandas as pd\n",
    "import numpy as np\n",
    "import gensim\n",
    "import nltk\n",
    "import datetime\n",
    "import time\n",
    "from gensim.utils import simple_preprocess\n",
    "from gensim.parsing.preprocessing import STOPWORDS\n",
    "from gensim.models import CoherenceModel,Phrases\n",
    "from gensim.models.phrases import Phraser\n",
    "from gensim.models import word2vec\n",
    "from nltk import word_tokenize\n",
    "from nltk.corpus import stopwords\n",
    "from nltk.stem import WordNetLemmatizer, SnowballStemmer\n",
    "from nltk.stem.porter import *\n",
    "import numpy as np\n",
    "import matplotlib.pyplot as plt\n",
    "from sklearn.ensemble import RandomForestClassifier\n",
    "from sklearn.svm import SVC\n",
    "from sklearn.linear_model import LogisticRegression\n",
    "from sklearn.pipeline import Pipeline\n",
    "from sklearn.model_selection import cross_val_score\n",
    "%matplotlib inline\n",
    "%config InlineBackend.figure_format = 'retina'\n",
    "np.random.seed(1960)\n",
    "\n",
    "nltk.download('wordnet')\n",
    "nltk.download('stopwords')"
   ]
  },
  {
   "cell_type": "code",
   "execution_count": 130,
   "metadata": {},
   "outputs": [
    {
     "name": "stdout",
     "output_type": "stream",
     "text": [
      "(56005, 2)\n"
     ]
    },
    {
     "data": {
      "text/html": [
       "<div>\n",
       "<style scoped>\n",
       "    .dataframe tbody tr th:only-of-type {\n",
       "        vertical-align: middle;\n",
       "    }\n",
       "\n",
       "    .dataframe tbody tr th {\n",
       "        vertical-align: top;\n",
       "    }\n",
       "\n",
       "    .dataframe thead th {\n",
       "        text-align: right;\n",
       "    }\n",
       "</style>\n",
       "<table border=\"1\" class=\"dataframe\">\n",
       "  <thead>\n",
       "    <tr style=\"text-align: right;\">\n",
       "      <th></th>\n",
       "      <th>summary</th>\n",
       "      <th>title</th>\n",
       "    </tr>\n",
       "  </thead>\n",
       "  <tbody>\n",
       "    <tr>\n",
       "      <th>0</th>\n",
       "      <td>nown as 1 Life On The Limit is a 2013 document...</td>\n",
       "      <td>1 (2013 film)</td>\n",
       "    </tr>\n",
       "    <tr>\n",
       "      <th>1</th>\n",
       "      <td>While on the phone with his girlfriend Jill w...</td>\n",
       "      <td>+1 (film)</td>\n",
       "    </tr>\n",
       "    <tr>\n",
       "      <th>10</th>\n",
       "      <td>Gully Mercer Mick Rossi leads a group of prol...</td>\n",
       "      <td>2:22 (2008 film)</td>\n",
       "    </tr>\n",
       "    <tr>\n",
       "      <th>100</th>\n",
       "      <td>o Christmas is a Ghanaian drama movie about Re...</td>\n",
       "      <td>6 Hours To Christmas</td>\n",
       "    </tr>\n",
       "    <tr>\n",
       "      <th>1000</th>\n",
       "      <td>r is a 1995 American romantic drama television...</td>\n",
       "      <td>The Affair (1995 film)</td>\n",
       "    </tr>\n",
       "  </tbody>\n",
       "</table>\n",
       "</div>"
      ],
      "text/plain": [
       "                                                summary  \\\n",
       "0     nown as 1 Life On The Limit is a 2013 document...   \n",
       "1      While on the phone with his girlfriend Jill w...   \n",
       "10     Gully Mercer Mick Rossi leads a group of prol...   \n",
       "100   o Christmas is a Ghanaian drama movie about Re...   \n",
       "1000  r is a 1995 American romantic drama television...   \n",
       "\n",
       "                       title  \n",
       "0              1 (2013 film)  \n",
       "1                  +1 (film)  \n",
       "10          2:22 (2008 film)  \n",
       "100     6 Hours To Christmas  \n",
       "1000  The Affair (1995 film)  "
      ]
     },
     "execution_count": 130,
     "metadata": {},
     "output_type": "execute_result"
    }
   ],
   "source": [
    "movies1_df = pd.read_json('data/eng_1_430.json')\n",
    "movies2_df = pd.read_json('data/eng_431_601.json')\n",
    "movies = movies1_df.append(movies2_df)\n",
    "print(movies.shape)\n",
    "movies.head()"
   ]
  },
  {
   "cell_type": "code",
   "execution_count": 135,
   "metadata": {},
   "outputs": [
    {
     "data": {
      "text/plain": [
       "(56005, 2)"
      ]
     },
     "execution_count": 135,
     "metadata": {},
     "output_type": "execute_result"
    }
   ],
   "source": [
    "movies.shape"
   ]
  },
  {
   "cell_type": "code",
   "execution_count": 142,
   "metadata": {},
   "outputs": [],
   "source": [
    "stop_words = stopwords.words('english')\n",
    "stop_words += ['film', 'directed', 'film_directed', 'series', 'story', 'american', 'starring', ]\n",
    "\n",
    "def remove_stopwords(texts):\n",
    "    return [[word for word in simple_preprocess(str(doc)) if word not in stop_words] for doc in texts]\n",
    "\n",
    "def bigrams(words, bi_min=15, tri_min=10):\n",
    "    bigram = Phrases(words, min_count = bi_min)\n",
    "    bigram_mod = Phraser(bigram)\n",
    "    return bigram_mod\n",
    "\n",
    "def get_corpus(df):\n",
    "    words = list(df['summary'])\n",
    "    words = remove_stopwords(words)\n",
    "    bigram_mod = bigrams(words)\n",
    "    bigram = [bigram_mod[plot] for plot in words]\n",
    "    id2word = gensim.corpora.Dictionary(bigram)\n",
    "    id2word.filter_extremes(no_below=15, no_above=0.35)\n",
    "    id2word.compactify()\n",
    "    corpus = [id2word.doc2bow(text) for text in bigram]\n",
    "    return corpus, id2word, bigram"
   ]
  },
  {
   "cell_type": "code",
   "execution_count": 143,
   "metadata": {},
   "outputs": [
    {
     "name": "stdout",
     "output_type": "stream",
     "text": [
      "Time:  0:01:56.023613\n"
     ]
    }
   ],
   "source": [
    "now = datetime.datetime.now()\n",
    "m_corpus, m_id2word, bigram = get_corpus(movies)\n",
    "later = datetime.datetime.now()\n",
    "elapsed = later-now\n",
    "print(\"Time: \", elapsed) "
   ]
  },
  {
   "cell_type": "code",
   "execution_count": 35,
   "metadata": {},
   "outputs": [],
   "source": [
    "def lemmatize_stemming(text):\n",
    "    stemmer = SnowballStemmer('english')\n",
    "    return stemmer.stem(WordNetLemmatizer().lemmatize(text,pos='v'))\n",
    "\n",
    "def preprocess(text):\n",
    "    result = []\n",
    "    for token in gensim.utils.simple_preprocess(text):\n",
    "        if token not in gensim.parsing.preprocessing.STOPWORDS and len(token) > 3:\n",
    "            result.append(lemmatize_stemming(token))\n",
    "    return result"
   ]
  },
  {
   "cell_type": "code",
   "execution_count": 137,
   "metadata": {},
   "outputs": [
    {
     "name": "stdout",
     "output_type": "stream",
     "text": [
      "original document: \n",
      "['', 'Early', 'one', 'morning', 'a', 'taxi', 'pulls', 'up', 'in', 'front', 'of', 'Tiffany', '', 'Co', '', 'and', 'from', 'it', 'emerges', 'elegantly', 'dressed', 'Holly', 'Golightly', 'carrying', 'a', 'paper', 'bag', 'containing', 'her', 'breakfast', 'After', 'looking', 'into', 'its', 'windows', 'she', 'strolls', 'to', 'her', 'apartment', 'and', 'has', 'to', 'fend', 'off', 'her', 'date', 'from', 'the', 'night', 'before', 'Once', 'inside', 'Holly', 'cannot', 'find', 'her', 'keys', 'so', 'she', 'buzzes', 'her', 'landlord', 'Mr', 'Yunioshi', 'to', 'let', 'her', 'in', 'Later', 'she', 'is', 'awakened', 'by', 'new', 'neighbor', 'Paul', 'Varjak', 'who', 'rings', 'her', 'doorbell', 'to', 'get', 'into', 'the', 'building', 'The', 'pair', 'chat', 'as', 'she', 'dresses', 'to', 'leave', 'for', 'her', 'weekly', 'visit', 'to', 'Sally', 'Tomato', 'a', 'mobster', 'incarcerated', 'at', 'Sing', 'Sing', 'Tomatos', 'lawyer', 'pays', 'her', '100', 'a', 'week', 'to', 'deliver', 'the', 'weather', 'report', '', 'As', 'she', 'is', 'leaving', 'Holly', 'is', 'introduced', 'to', 'Pauls', 'decorator', 'wealthy', 'older', 'woman', 'Emily', 'Eustace', 'Failenson', 'whom', 'Paul', 'nicknames', '2E', 'That', 'night', 'when', 'Holly', 'goes', 'out', 'onto', 'the', 'fire', 'escape', 'to', 'elude', 'an', 'overeager', 'date', 'she', 'peeks', 'into', 'Pauls', 'apartment', 'and', 'sees', '2E', 'leaving', 'money', 'and', 'kissing', 'him', 'goodbye', 'Holly', 'visits', 'Paul', 'later', 'and', 'learns', 'he', 'is', 'a', 'writer', 'who', 'has', 'not', 'had', 'anything', 'published', 'since', 'a', 'book', 'of', 'vignettes', 'five', 'years', 'before', 'Holly', 'in', 'turn', 'explains', 'she', 'is', 'trying', 'to', 'save', 'money', 'to', 'support', 'her', 'brother', 'Fred', 'The', 'pair', 'fall', 'asleep', 'but', 'are', 'awakened', 'when', 'Holly', 'has', 'a', 'nightmare', 'about', 'her', 'brother', 'When', 'Paul', 'questions', 'her', 'about', 'this', 'Holly', 'chides', 'him', 'for', 'prying', 'She', 'later', 'buys', 'Paul', 'a', 'typewriter', 'ribbon', 'to', 'apologize', 'and', 'invites', 'him', 'to', 'a', 'wild', 'party', 'at', 'her', 'apartment', 'There', 'Paul', 'meets', 'her', 'Hollywood', 'agent', 'who', 'describes', 'Hollys', 'transformation', 'from', 'a', 'country', 'girl', 'into', 'a', 'Manhattan', 'socialite', 'He', 'is', 'also', 'introduced', 'to', 'José', 'da', 'Silva', 'Pereira', 'a', 'wealthy', 'Brazilian', 'politician', 'and', 'Rusty', 'Trawler', 'the', 'ninth', 'richest', 'man', 'in', 'America', 'under', '50', 'The', 'next', 'day', '2E', 'enters', 'Pauls', 'apartment', 'worried', 'she', 'is', 'being', 'followed', 'Paul', 'tells', 'her', 'he', 'will', 'investigate', 'and', 'eventually', 'confronts', 'Doc', 'Golightly', 'Hollys', 'estranged', 'husband', 'Doc', 'explains', 'that', 'Hollys', 'real', 'name', 'is', 'Lula', 'Mae', 'Barnes', 'and', 'that', 'they', 'were', 'married', 'when', 'she', 'was', '14', 'Now', 'he', 'wants', 'to', 'take', 'her', 'back', 'to', 'rural', 'Texas', 'After', 'Paul', 'reunites', 'Holly', 'and', 'Doc', 'she', 'informs', 'Paul', 'that', 'the', 'marriage', 'was', 'annulled', 'At', 'the', 'Greyhound', 'bus', 'station', 'she', 'tells', 'Doc', 'she', 'will', 'not', 'return', 'with', 'him', 'and', 'he', 'leaves', 'brokenhearted', 'After', 'drinking', 'at', 'a', 'club', 'Paul', 'and', 'Holly', 'return', 'to', 'her', 'apartment', 'where', 'she', 'drunkenly', 'tells', 'him', 'that', 'she', 'plans', 'to', 'marry', 'Trawler', 'for', 'his', 'money', '', 'A', 'few', 'days', 'later', 'Paul', 'learns', 'that', 'one', 'of', 'his', 'short', 'stories', 'will', 'be', 'published', 'On', 'the', 'way', 'to', 'tell', 'Holly', 'he', 'sees', 'a', 'newspaper', 'headline', 'stating', 'that', 'Trawler', 'has', 'married', 'someone', 'else', 'Holly', 'and', 'Paul', 'agree', 'to', 'spend', 'the', 'day', 'together', 'taking', 'turns', 'doing', 'things', 'each', 'has', 'never', 'done', 'before', '', 'At', 'Tiffanys', 'Paul', 'has', 'the', 'ring', 'from', 'Doc', 'Golightlys', 'box', 'of', 'Cracker', 'Jack', 'engraved', 'as', 'a', 'present', 'for', 'Holly', 'After', 'spending', 'the', 'night', 'together', 'he', 'awakens', 'to', 'find', 'her', 'gone', 'When', '2E', 'arrives', 'Paul', 'ends', 'their', 'relationship', 'She', 'calmly', 'accepts', 'having', 'earlier', 'concluded', 'that', 'he', 'was', 'in', 'love', 'with', 'someone', 'else', 'Holly', 'now', 'schemes', 'to', 'marry', 'José', 'for', 'his', 'money', 'but', 'after', 'she', 'receives', 'a', 'telegram', 'notifying', 'her', 'of', 'her', 'brother’s', 'death', 'she', 'trashes', 'her', 'apartment', 'Months', 'later', 'Paul', 'is', 'invited', 'to', 'dinner', 'by', 'Holly', 'who', 'is', 'leaving', 'the', 'next', 'morning', 'for', 'Brazil', 'to', 'continue', 'her', 'relationship', 'with', 'José', 'However', 'they', 'are', 'arrested', 'in', 'connection', 'with', 'Sally', 'Tomatos', 'drug', 'ring', 'and', 'Holly', 'spends', 'the', 'night', 'in', 'jail', 'The', 'next', 'morning', 'Holly', 'is', 'released', 'on', 'bail', 'Paul', 'is', 'waiting', 'for', 'her', 'in', 'a', 'cab', 'bringing', 'her', 'cat', 'and', 'a', 'letter', 'from', 'José', 'explaining', 'that', 'he', 'must', 'end', 'their', 'relationship', 'due', 'to', 'her', 'arrest', 'Holly', 'insists', 'that', 'she', 'will', 'go', 'to', 'Brazil', 'anyway', 'she', 'asks', 'the', 'cab', 'to', 'pull', 'over', 'and', 'releases', 'the', 'cat', 'into', 'the', 'pouring', 'rain', 'Paul', 'then', 'storms', 'out', 'of', 'the', 'cab', 'tossing', 'the', 'engraved', 'ring', 'into', 'her', 'lap', 'and', 'telling', 'her', 'to', 'examine', 'her', 'life', 'She', 'goes', 'through', 'a', 'decisionmaking', 'moment', 'puts', 'on', 'the', 'ring', 'and', 'runs', 'after', 'Paul', 'who', 'has', 'gone', 'looking', 'for', 'the', 'cat', 'Finally', 'Holly', 'finds', 'it', 'sheltering', 'in', 'an', 'alley', 'and', 'with', 'it', 'tucked', 'into', 'her', 'coat', 'she', 'and', 'Paul', 'embrace', '', '', '']\n",
      "\n",
      "\n",
      " tokenized and lemmatized document: \n",
      "['earli', 'morn', 'taxi', 'pull', 'tiffani', 'emerg', 'eleg', 'dress', 'holli', 'golight', 'carri', 'paper', 'contain', 'breakfast', 'look', 'window', 'stroll', 'apart', 'fend', 'date', 'night', 'insid', 'holli', 'key', 'buzz', 'landlord', 'yunioshi', 'later', 'awaken', 'neighbor', 'paul', 'varjak', 'ring', 'doorbel', 'build', 'pair', 'chat', 'dress', 'leav', 'week', 'visit', 'salli', 'tomato', 'mobster', 'incarcer', 'sing', 'sing', 'tomato', 'lawyer', 'pay', 'week', 'deliv', 'weather', 'report', 'leav', 'holli', 'introduc', 'paul', 'decor', 'wealthi', 'older', 'woman', 'emili', 'eustac', 'failenson', 'paul', 'nicknam', 'night', 'holli', 'go', 'escap', 'elud', 'overeag', 'date', 'peek', 'paul', 'apart', 'see', 'leav', 'money', 'kiss', 'goodby', 'holli', 'visit', 'paul', 'later', 'learn', 'writer', 'publish', 'book', 'vignett', 'year', 'holli', 'turn', 'explain', 'tri', 'save', 'money', 'support', 'brother', 'fred', 'pair', 'fall', 'asleep', 'awaken', 'holli', 'nightmar', 'brother', 'paul', 'question', 'holli', 'chide', 'pri', 'later', 'buy', 'paul', 'typewrit', 'ribbon', 'apolog', 'invit', 'wild', 'parti', 'apart', 'paul', 'meet', 'hollywood', 'agent', 'describ', 'holli', 'transform', 'countri', 'girl', 'manhattan', 'socialit', 'introduc', 'josé', 'silva', 'pereira', 'wealthi', 'brazilian', 'politician', 'rusti', 'trawler', 'ninth', 'richest', 'america', 'enter', 'paul', 'apart', 'worri', 'follow', 'paul', 'tell', 'investig', 'eventu', 'confront', 'golight', 'holli', 'estrang', 'husband', 'explain', 'holli', 'real', 'lula', 'barn', 'marri', 'want', 'rural', 'texa', 'paul', 'reunit', 'holli', 'inform', 'paul', 'marriag', 'annul', 'greyhound', 'station', 'tell', 'return', 'leav', 'brokenheart', 'drink', 'club', 'paul', 'holli', 'return', 'apart', 'drunken', 'tell', 'plan', 'marri', 'trawler', 'money', 'day', 'later', 'paul', 'learn', 'short', 'stori', 'publish', 'tell', 'holli', 'see', 'newspap', 'headlin', 'state', 'trawler', 'marri', 'holli', 'paul', 'agre', 'spend', 'take', 'turn', 'thing', 'tiffani', 'paul', 'ring', 'golight', 'cracker', 'jack', 'engrav', 'present', 'holli', 'spend', 'night', 'awaken', 'go', 'arriv', 'paul', 'end', 'relationship', 'calm', 'accept', 'have', 'earlier', 'conclud', 'love', 'holli', 'scheme', 'marri', 'josé', 'money', 'receiv', 'telegram', 'notifi', 'brother', 'death', 'trash', 'apart', 'month', 'later', 'paul', 'invit', 'dinner', 'holli', 'leav', 'morn', 'brazil', 'continu', 'relationship', 'josé', 'arrest', 'connect', 'salli', 'tomato', 'drug', 'ring', 'holli', 'spend', 'night', 'jail', 'morn', 'holli', 'releas', 'bail', 'paul', 'wait', 'bring', 'letter', 'josé', 'explain', 'relationship', 'arrest', 'holli', 'insist', 'brazil', 'ask', 'pull', 'releas', 'pour', 'rain', 'paul', 'storm', 'toss', 'engrav', 'ring', 'tell', 'examin', 'life', 'go', 'decisionmak', 'moment', 'put', 'ring', 'run', 'paul', 'go', 'look', 'final', 'holli', 'find', 'shelter', 'alley', 'tuck', 'coat', 'paul', 'embrac']\n"
     ]
    }
   ],
   "source": [
    "doc_sample = movies[movies['title'] == \"Breakfast at Tiffany's (film)\"].values[0][0]\n",
    "\n",
    "print('original document: ')\n",
    "words = []\n",
    "for word in doc_sample.split(' '):\n",
    "    words.append(word)\n",
    "print(words)\n",
    "print('\\n\\n tokenized and lemmatized document: ')\n",
    "print(preprocess(doc_sample))"
   ]
  },
  {
   "cell_type": "code",
   "execution_count": 39,
   "metadata": {},
   "outputs": [],
   "source": [
    "processed_docs = movies['summary'].map(preprocess)\n"
   ]
  },
  {
   "cell_type": "code",
   "execution_count": 40,
   "metadata": {},
   "outputs": [],
   "source": [
    "dictionary  = gensim.corpora.Dictionary(processed_docs)\n",
    "\n",
    "count = 0\n",
    "for k, v in dictionary.iteritems():\n",
    "    count += 1\n",
    "    if count > 10:\n",
    "        break"
   ]
  },
  {
   "cell_type": "code",
   "execution_count": 41,
   "metadata": {},
   "outputs": [],
   "source": [
    "dictionary.filter_extremes(no_below=20, no_above=0.5, keep_n=100000)"
   ]
  },
  {
   "cell_type": "code",
   "execution_count": 42,
   "metadata": {},
   "outputs": [],
   "source": [
    "bow_corpus = [dictionary.doc2bow(doc) for doc in processed_docs]"
   ]
  },
  {
   "cell_type": "code",
   "execution_count": 43,
   "metadata": {},
   "outputs": [],
   "source": [
    "from gensim import corpora, models\n",
    "\n",
    "tfidf = models.TfidfModel(bow_corpus)\n",
    "corpus_tfidf = tfidf[bow_corpus]\n"
   ]
  },
  {
   "cell_type": "code",
   "execution_count": 144,
   "metadata": {},
   "outputs": [
    {
     "name": "stdout",
     "output_type": "stream",
     "text": [
      "Topic : 0 Word: 0.008*\"police\" + 0.006*\"killed\" + 0.006*\"car\" + 0.005*\"man\" + 0.005*\"kill\" + 0.005*\"tells\" + 0.005*\"john\" + 0.005*\"finds\" + 0.004*\"one\" + 0.004*\"gang\"\n",
      "Topic : 1 Word: 0.007*\"documentary\" + 0.006*\"films\" + 0.005*\"written\" + 0.005*\"first\" + 0.005*\"produced\" + 0.005*\"stars\" + 0.005*\"also\" + 0.004*\"released\" + 0.004*\"john\" + 0.004*\"movie\"\n",
      "Topic : 2 Word: 0.005*\"joe\" + 0.005*\"school\" + 0.005*\"new\" + 0.004*\"money\" + 0.004*\"charlie\" + 0.004*\"get\" + 0.003*\"bill\" + 0.003*\"one\" + 0.003*\"johnny\" + 0.003*\"steve\"\n",
      "Topic : 3 Word: 0.037*\"sam\" + 0.035*\"david\" + 0.027*\"michael\" + 0.019*\"sarah\" + 0.017*\"henry\" + 0.015*\"matt\" + 0.014*\"martin\" + 0.013*\"bugs\" + 0.012*\"dan\" + 0.011*\"claire\"\n",
      "Topic : 4 Word: 0.008*\"father\" + 0.007*\"tells\" + 0.007*\"family\" + 0.006*\"mother\" + 0.006*\"life\" + 0.005*\"home\" + 0.005*\"wife\" + 0.005*\"love\" + 0.004*\"husband\" + 0.004*\"finds\"\n",
      "Topic : 5 Word: 0.007*\"back\" + 0.006*\"house\" + 0.005*\"one\" + 0.005*\"find\" + 0.004*\"tells\" + 0.004*\"finds\" + 0.003*\"two\" + 0.003*\"sees\" + 0.003*\"begins\" + 0.003*\"get\"\n",
      "Topic : 6 Word: 0.004*\"one\" + 0.004*\"men\" + 0.003*\"war\" + 0.003*\"captain\" + 0.003*\"ship\" + 0.003*\"group\" + 0.003*\"killed\" + 0.003*\"king\" + 0.003*\"two\" + 0.003*\"escape\"\n",
      "Topic : 7 Word: 0.042*\"tom\" + 0.041*\"jack\" + 0.020*\"harry\" + 0.020*\"jerry\" + 0.014*\"alice\" + 0.014*\"max\" + 0.014*\"kate\" + 0.013*\"tommy\" + 0.013*\"danny\" + 0.008*\"andy\"\n"
     ]
    }
   ],
   "source": [
    "lda_model = gensim.models.LdaMulticore(corpus=m_corpus,\n",
    "                                       num_topics=8,\n",
    "                                       id2word=m_id2word,\n",
    "                                       chunksize=100,\n",
    "                                       eval_every=1,\n",
    "                                       per_word_topics=True,\n",
    "                                       passes=20,\n",
    "                                       workers=4)\n",
    "\n",
    "for idx, topic in lda_model.print_topics(-1):\n",
    "    print('Topic : {} Word: {}'.format(idx, topic))"
   ]
  },
  {
   "cell_type": "code",
   "execution_count": 146,
   "metadata": {},
   "outputs": [],
   "source": [
    "coherence_values = []\n",
    "model_list = []\n",
    "for num_topics in range(2,50,6):\n",
    "    model = gensim.models.LdaMulticore(corpus=m_corpus,\n",
    "                                       num_topics=num_topics,\n",
    "                                       id2word=m_id2word,\n",
    "                                       chunksize=100,\n",
    "                                       eval_every=1,\n",
    "                                       per_word_topics=True,\n",
    "                                       passes=20,\n",
    "                                       workers=4)\n",
    "    model_list.append(model)\n",
    "    \n",
    "    coherencemodel = CoherenceModel(model=model, \n",
    "                                    texts=bigram,\n",
    "                                    dictionary=m_id2word,\n",
    "                                   coherence='c_v')\n",
    "    coherence_values.append(coherencemodel.get_coherence())"
   ]
  },
  {
   "cell_type": "code",
   "execution_count": 147,
   "metadata": {},
   "outputs": [
    {
     "data": {
      "image/png": "[encoded data removed]",
      "text/plain": [
       "<Figure size 432x288 with 1 Axes>"
      ]
     },
     "metadata": {
      "image/png": {
       "height": 263,
       "width": 393
      },
      "needs_background": "light"
     },
     "output_type": "display_data"
    }
   ],
   "source": [
    "\n",
    "X = np.arange(2,50,6)\n",
    "\n",
    "fig, ax = plt.subplots()\n",
    "ax.plot(X, coherence_values, label=\"Coherence Values\")\n",
    "ax.set_xlabel('Num Topics')\n",
    "ax.set_ylabel('Coherence Score')\n",
    "plt.legend()\n",
    "plt.show()"
   ]
  },
  {
   "cell_type": "code",
   "execution_count": 106,
   "metadata": {},
   "outputs": [
    {
     "name": "stdout",
     "output_type": "stream",
     "text": [
      "Num Topics = 2  has Coherence Value of 0.4265\n",
      "Num Topics = 8  has Coherence Value of 0.4833\n",
      "Num Topics = 14  has Coherence Value of 0.421\n",
      "Num Topics = 20  has Coherence Value of 0.4513\n",
      "Num Topics = 26  has Coherence Value of 0.4389\n",
      "Num Topics = 32  has Coherence Value of 0.4396\n",
      "Num Topics = 38  has Coherence Value of 0.443\n"
     ]
    }
   ],
   "source": [
    "for m, cv in zip(X, coherence_values):\n",
    "    print(\"Num Topics =\", m, \" has Coherence Value of\", round(cv, 4))"
   ]
  },
  {
   "cell_type": "code",
   "execution_count": 69,
   "metadata": {},
   "outputs": [],
   "source": [
    "train_vecs = []\n",
    "for i in range(len(movies)):\n",
    "    top_topics = lda_model.get_document_topics(corpus_tfidf[i], minimum_probability=0.0)\n",
    "    topic_vec = [top_topics[i][1] for i in range(8)]\n",
    "    train_vecs.append(topic_vec)"
   ]
  },
  {
   "cell_type": "code",
   "execution_count": 123,
   "metadata": {},
   "outputs": [
    {
     "data": {
      "text/plain": [
       "[0.012516569,\n",
       " 0.12139622,\n",
       " 0.54146653,\n",
       " 0.012518243,\n",
       " 0.0125198215,\n",
       " 0.088762626,\n",
       " 0.012531708,\n",
       " 0.1982883]"
      ]
     },
     "execution_count": 123,
     "metadata": {},
     "output_type": "execute_result"
    }
   ],
   "source": [
    "train_vecs[0]"
   ]
  },
  {
   "cell_type": "code",
   "execution_count": 120,
   "metadata": {},
   "outputs": [],
   "source": [
    "topic = train_vecs[0].index(max(train_vecs[0]))"
   ]
  },
  {
   "cell_type": "markdown",
   "metadata": {},
   "source": [
    "### Extracting Target"
   ]
  },
  {
   "cell_type": "code",
   "execution_count": 121,
   "metadata": {},
   "outputs": [
    {
     "data": {
      "text/plain": [
       "'Topic3'"
      ]
     },
     "execution_count": 121,
     "metadata": {},
     "output_type": "execute_result"
    }
   ],
   "source": [
    "topic_names = ['Topic1','Topic2','Topic3','Topic4','Topic5','Topic6','Topic7','Topic8']\n",
    "topic_names[topic]"
   ]
  },
  {
   "cell_type": "code",
   "execution_count": 125,
   "metadata": {},
   "outputs": [
    {
     "data": {
      "text/plain": [
       "array(['Topic3', 'Topic3', 'Topic3', 'Topic3', 'Topic3', 'Topic7',\n",
       "       'Topic7', 'Topic7', 'Topic3', 'Topic8'], dtype='<U6')"
      ]
     },
     "execution_count": 125,
     "metadata": {},
     "output_type": "execute_result"
    }
   ],
   "source": [
    "topic_nums = [vec.index(max(vec)) for vec in train_vecs]\n",
    "topics = np.array([topic_names[topic] for topic in topic_nums])\n",
    "topics[:10]"
   ]
  },
  {
   "cell_type": "code",
   "execution_count": 126,
   "metadata": {},
   "outputs": [
    {
     "data": {
      "text/html": [
       "<div>\n",
       "<style scoped>\n",
       "    .dataframe tbody tr th:only-of-type {\n",
       "        vertical-align: middle;\n",
       "    }\n",
       "\n",
       "    .dataframe tbody tr th {\n",
       "        vertical-align: top;\n",
       "    }\n",
       "\n",
       "    .dataframe thead th {\n",
       "        text-align: right;\n",
       "    }\n",
       "</style>\n",
       "<table border=\"1\" class=\"dataframe\">\n",
       "  <thead>\n",
       "    <tr style=\"text-align: right;\">\n",
       "      <th></th>\n",
       "      <th>summary</th>\n",
       "      <th>title</th>\n",
       "      <th>label</th>\n",
       "    </tr>\n",
       "  </thead>\n",
       "  <tbody>\n",
       "    <tr>\n",
       "      <th>0</th>\n",
       "      <td>In 1699 Dr Lemuel Gulliver Kerwin Mathews is ...</td>\n",
       "      <td>The 3 Worlds of Gulliver</td>\n",
       "      <td>Topic3</td>\n",
       "    </tr>\n",
       "    <tr>\n",
       "      <th>1</th>\n",
       "      <td>The Man Edmond OBrien is the accomplice of Ma...</td>\n",
       "      <td>The 3rd Voice</td>\n",
       "      <td>Topic3</td>\n",
       "    </tr>\n",
       "    <tr>\n",
       "      <th>10</th>\n",
       "      <td>AbdullaMahipal is a smart and brave young man...</td>\n",
       "      <td>Abdulla (1960 film)</td>\n",
       "      <td>Topic3</td>\n",
       "    </tr>\n",
       "    <tr>\n",
       "      <th>100</th>\n",
       "      <td>is a French film directed by Julien Duvivier ...</td>\n",
       "      <td>Boulevard (1960 film)</td>\n",
       "      <td>Topic3</td>\n",
       "    </tr>\n",
       "    <tr>\n",
       "      <th>1000</th>\n",
       "      <td>A Greek military hero named Darios Rory Calho...</td>\n",
       "      <td>The Colossus of Rhodes (film)</td>\n",
       "      <td>Topic3</td>\n",
       "    </tr>\n",
       "  </tbody>\n",
       "</table>\n",
       "</div>"
      ],
      "text/plain": [
       "                                                summary  \\\n",
       "0      In 1699 Dr Lemuel Gulliver Kerwin Mathews is ...   \n",
       "1      The Man Edmond OBrien is the accomplice of Ma...   \n",
       "10     AbdullaMahipal is a smart and brave young man...   \n",
       "100    is a French film directed by Julien Duvivier ...   \n",
       "1000   A Greek military hero named Darios Rory Calho...   \n",
       "\n",
       "                              title   label  \n",
       "0          The 3 Worlds of Gulliver  Topic3  \n",
       "1                     The 3rd Voice  Topic3  \n",
       "10              Abdulla (1960 film)  Topic3  \n",
       "100           Boulevard (1960 film)  Topic3  \n",
       "1000  The Colossus of Rhodes (film)  Topic3  "
      ]
     },
     "execution_count": 126,
     "metadata": {},
     "output_type": "execute_result"
    }
   ],
   "source": [
    "movies['label'] = topics\n",
    "movies.head()"
   ]
  },
  {
   "cell_type": "markdown",
   "metadata": {},
   "source": [
    "### Word Embedding"
   ]
  },
  {
   "cell_type": "code",
   "execution_count": 114,
   "metadata": {},
   "outputs": [],
   "source": [
    "text = movies['summary']\n",
    "total_vocabulary = set(word for summary in text for word in summary)"
   ]
  },
  {
   "cell_type": "code",
   "execution_count": 115,
   "metadata": {},
   "outputs": [],
   "source": [
    "glove = {}\n",
    "with open('glove.6B.50d.txt', 'rb') as f:\n",
    "    for line in f:\n",
    "        parts = line.split()\n",
    "        word = parts[0].decode('utf-8')\n",
    "        if word in total_vocabulary:\n",
    "            vector = np.array(parts[1:], dtype=np.float32)\n",
    "            glove[word] = vector"
   ]
  },
  {
   "cell_type": "code",
   "execution_count": 116,
   "metadata": {},
   "outputs": [],
   "source": [
    "class W2vVectorizer(object):\n",
    "    \n",
    "    def __init__(self, w2v):\n",
    "        # takes in a dictionary of words and vectors as input\n",
    "        self.w2v = w2v\n",
    "        if len(w2v) == 0:\n",
    "            self.dimensions = 0\n",
    "        else:\n",
    "            self.dimensions = len(w2v[next(iter(glove))])\n",
    "    \n",
    "    def fit(self, X, y):\n",
    "        return self\n",
    "            \n",
    "    def transform(self, X):\n",
    "        return np.array([\n",
    "            np.mean([self.w2v[w] for w in words if w in self.w2v]\n",
    "                   or [np.zeros(self.dimensions)], axis=0) for words in X])"
   ]
  },
  {
   "cell_type": "code",
   "execution_count": 117,
   "metadata": {},
   "outputs": [],
   "source": [
    "rf =  Pipeline([(\"Word2Vec Vectorizer\", W2vVectorizer(glove)),\n",
    "              (\"Random Forest\", RandomForestClassifier(n_estimators=100, verbose=True))])\n",
    "svc = Pipeline([(\"Word2Vec Vectorizer\", W2vVectorizer(glove)),\n",
    "                ('Support Vector Machine', SVC())])\n",
    "lr = Pipeline([(\"Word2Vec Vectorizer\", W2vVectorizer(glove)),\n",
    "              ('Logistic Regression', LogisticRegression())])"
   ]
  },
  {
   "cell_type": "code",
   "execution_count": 127,
   "metadata": {},
   "outputs": [
    {
     "name": "stderr",
     "output_type": "stream",
     "text": [
      "[Parallel(n_jobs=1)]: Using backend SequentialBackend with 1 concurrent workers.\n",
      "[Parallel(n_jobs=1)]: Done 100 out of 100 | elapsed:    6.6s finished\n",
      "[Parallel(n_jobs=1)]: Using backend SequentialBackend with 1 concurrent workers.\n",
      "[Parallel(n_jobs=1)]: Done 100 out of 100 | elapsed:    0.1s finished\n",
      "[Parallel(n_jobs=1)]: Using backend SequentialBackend with 1 concurrent workers.\n",
      "[Parallel(n_jobs=1)]: Done 100 out of 100 | elapsed:    6.9s finished\n",
      "[Parallel(n_jobs=1)]: Using backend SequentialBackend with 1 concurrent workers.\n",
      "[Parallel(n_jobs=1)]: Done 100 out of 100 | elapsed:    0.1s finished\n",
      "/anaconda3/lib/python3.7/site-packages/sklearn/svm/base.py:193: FutureWarning: The default value of gamma will change from 'auto' to 'scale' in version 0.22 to account better for unscaled features. Set gamma explicitly to 'auto' or 'scale' to avoid this warning.\n",
      "  \"avoid this warning.\", FutureWarning)\n",
      "/anaconda3/lib/python3.7/site-packages/sklearn/svm/base.py:193: FutureWarning: The default value of gamma will change from 'auto' to 'scale' in version 0.22 to account better for unscaled features. Set gamma explicitly to 'auto' or 'scale' to avoid this warning.\n",
      "  \"avoid this warning.\", FutureWarning)\n",
      "/anaconda3/lib/python3.7/site-packages/sklearn/linear_model/logistic.py:432: FutureWarning: Default solver will be changed to 'lbfgs' in 0.22. Specify a solver to silence this warning.\n",
      "  FutureWarning)\n",
      "/anaconda3/lib/python3.7/site-packages/sklearn/linear_model/logistic.py:469: FutureWarning: Default multi_class will be changed to 'auto' in 0.22. Specify the multi_class option to silence this warning.\n",
      "  \"this warning.\", FutureWarning)\n",
      "/anaconda3/lib/python3.7/site-packages/sklearn/linear_model/logistic.py:432: FutureWarning: Default solver will be changed to 'lbfgs' in 0.22. Specify a solver to silence this warning.\n",
      "  FutureWarning)\n",
      "/anaconda3/lib/python3.7/site-packages/sklearn/linear_model/logistic.py:469: FutureWarning: Default multi_class will be changed to 'auto' in 0.22. Specify the multi_class option to silence this warning.\n",
      "  \"this warning.\", FutureWarning)\n"
     ]
    }
   ],
   "source": [
    "models = [('Random Forest', rf),\n",
    "          (\"Support Vector Machine\", svc),\n",
    "          (\"Logistic Regression\", lr)]\n",
    "scores = [(name, cross_val_score(model, text, topic_nums, cv=2).mean()) for name, model, in models]"
   ]
  },
  {
   "cell_type": "code",
   "execution_count": 128,
   "metadata": {},
   "outputs": [
    {
     "data": {
      "text/plain": [
       "[('Random Forest', 0.7227161659272903),\n",
       " ('Support Vector Machine', 0.6471982785354672),\n",
       " ('Logistic Regression', 0.6902572904075763)]"
      ]
     },
     "execution_count": 128,
     "metadata": {},
     "output_type": "execute_result"
    }
   ],
   "source": [
    "scores"
   ]
  },
  {
   "cell_type": "code",
   "execution_count": null,
   "metadata": {},
   "outputs": [],
   "source": []
  }
 ],
 "metadata": {
  "kernelspec": {
   "display_name": "learn-env",
   "language": "python",
   "name": "learn-env"
  },
  "language_info": {
   "codemirror_mode": {
    "name": "ipython",
    "version": 3
   },
   "file_extension": ".py",
   "mimetype": "text/x-python",
   "name": "python",
   "nbconvert_exporter": "python",
   "pygments_lexer": "ipython3",
   "version": "3.7.1"
  }
 },
 "nbformat": 4,
 "nbformat_minor": 2
}

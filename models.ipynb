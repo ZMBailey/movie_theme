{
 "cells": [
  {
   "cell_type": "code",
   "execution_count": 156,
   "metadata": {},
   "outputs": [
    {
     "name": "stderr",
     "output_type": "stream",
     "text": [
      "[nltk_data] Downloading package wordnet to\n",
      "[nltk_data]     /Users/alexanderbailey/nltk_data...\n",
      "[nltk_data]   Package wordnet is already up-to-date!\n",
      "[nltk_data] Downloading package stopwords to\n",
      "[nltk_data]     /Users/alexanderbailey/nltk_data...\n",
      "[nltk_data]   Package stopwords is already up-to-date!\n"
     ]
    },
    {
     "data": {
      "text/plain": [
       "True"
      ]
     },
     "execution_count": 156,
     "metadata": {},
     "output_type": "execute_result"
    }
   ],
   "source": [
    "import pandas as pd\n",
    "import numpy as np\n",
    "import gensim\n",
    "import nltk\n",
    "import datetime\n",
    "import time\n",
    "from gensim.utils import simple_preprocess\n",
    "from gensim.parsing.preprocessing import STOPWORDS\n",
    "from gensim.models import CoherenceModel,Phrases\n",
    "from gensim.models.phrases import Phraser\n",
    "from gensim.models import word2vec\n",
    "from nltk import word_tokenize\n",
    "from nltk.tag import StanfordNERTagger \n",
    "from nltk.corpus import stopwords\n",
    "from nltk.stem import WordNetLemmatizer, SnowballStemmer\n",
    "from nltk.stem.porter import *\n",
    "import numpy as np\n",
    "import matplotlib.pyplot as plt\n",
    "from sklearn.ensemble import RandomForestClassifier\n",
    "from sklearn.svm import SVC\n",
    "from sklearn.linear_model import LogisticRegression\n",
    "from sklearn.pipeline import Pipeline\n",
    "from sklearn.model_selection import cross_val_score\n",
    "%matplotlib inline\n",
    "%config InlineBackend.figure_format = 'retina'\n",
    "np.random.seed(1960)\n",
    "\n",
    "nltk.download('wordnet')\n",
    "nltk.download('stopwords')"
   ]
  },
  {
   "cell_type": "code",
   "execution_count": 130,
   "metadata": {},
   "outputs": [
    {
     "name": "stdout",
     "output_type": "stream",
     "text": [
      "(56005, 2)\n"
     ]
    },
    {
     "data": {
      "text/html": [
       "<div>\n",
       "<style scoped>\n",
       "    .dataframe tbody tr th:only-of-type {\n",
       "        vertical-align: middle;\n",
       "    }\n",
       "\n",
       "    .dataframe tbody tr th {\n",
       "        vertical-align: top;\n",
       "    }\n",
       "\n",
       "    .dataframe thead th {\n",
       "        text-align: right;\n",
       "    }\n",
       "</style>\n",
       "<table border=\"1\" class=\"dataframe\">\n",
       "  <thead>\n",
       "    <tr style=\"text-align: right;\">\n",
       "      <th></th>\n",
       "      <th>summary</th>\n",
       "      <th>title</th>\n",
       "    </tr>\n",
       "  </thead>\n",
       "  <tbody>\n",
       "    <tr>\n",
       "      <th>0</th>\n",
       "      <td>nown as 1 Life On The Limit is a 2013 document...</td>\n",
       "      <td>1 (2013 film)</td>\n",
       "    </tr>\n",
       "    <tr>\n",
       "      <th>1</th>\n",
       "      <td>While on the phone with his girlfriend Jill w...</td>\n",
       "      <td>+1 (film)</td>\n",
       "    </tr>\n",
       "    <tr>\n",
       "      <th>10</th>\n",
       "      <td>Gully Mercer Mick Rossi leads a group of prol...</td>\n",
       "      <td>2:22 (2008 film)</td>\n",
       "    </tr>\n",
       "    <tr>\n",
       "      <th>100</th>\n",
       "      <td>o Christmas is a Ghanaian drama movie about Re...</td>\n",
       "      <td>6 Hours To Christmas</td>\n",
       "    </tr>\n",
       "    <tr>\n",
       "      <th>1000</th>\n",
       "      <td>r is a 1995 American romantic drama television...</td>\n",
       "      <td>The Affair (1995 film)</td>\n",
       "    </tr>\n",
       "  </tbody>\n",
       "</table>\n",
       "</div>"
      ],
      "text/plain": [
       "                                                summary  \\\n",
       "0     nown as 1 Life On The Limit is a 2013 document...   \n",
       "1      While on the phone with his girlfriend Jill w...   \n",
       "10     Gully Mercer Mick Rossi leads a group of prol...   \n",
       "100   o Christmas is a Ghanaian drama movie about Re...   \n",
       "1000  r is a 1995 American romantic drama television...   \n",
       "\n",
       "                       title  \n",
       "0              1 (2013 film)  \n",
       "1                  +1 (film)  \n",
       "10          2:22 (2008 film)  \n",
       "100     6 Hours To Christmas  \n",
       "1000  The Affair (1995 film)  "
      ]
     },
     "execution_count": 130,
     "metadata": {},
     "output_type": "execute_result"
    }
   ],
   "source": [
    "movies1_df = pd.read_json('data/eng_1_430.json')\n",
    "movies2_df = pd.read_json('data/eng_431_601.json')\n",
    "movies = movies1_df.append(movies2_df)\n",
    "print(movies.shape)\n",
    "movies.head()"
   ]
  },
  {
   "cell_type": "code",
   "execution_count": 135,
   "metadata": {},
   "outputs": [
    {
     "data": {
      "text/plain": [
       "(56005, 2)"
      ]
     },
     "execution_count": 135,
     "metadata": {},
     "output_type": "execute_result"
    }
   ],
   "source": [
    "movies.shape"
   ]
  },
  {
   "cell_type": "code",
   "execution_count": 187,
   "metadata": {},
   "outputs": [],
   "source": [
    "import random\n",
    "sample = random.sample(list(movies['summary']),25000)\n",
    "sample1 = sample[:12501]\n",
    "sample2 = sample[12501:]\n",
    "sample3 = list(movies['summary'])[30000:45001]\n",
    "sample4 = list(movies['summary'])[45000:]"
   ]
  },
  {
   "cell_type": "code",
   "execution_count": 264,
   "metadata": {},
   "outputs": [],
   "source": [
    "df_movies = movies.loc[movies['summary'].isin(sample1)]"
   ]
  },
  {
   "cell_type": "code",
   "execution_count": 188,
   "metadata": {},
   "outputs": [],
   "source": [
    "st = StanfordNERTagger('english.all.3class.distsim.crf.ser.gz',\n",
    "                       '/Users/alexanderbailey/Documents/stanford-ner-2018-10-16/stanford-ner.jar')\n",
    "#names = tag_words(sample1, st)"
   ]
  },
  {
   "cell_type": "code",
   "execution_count": 218,
   "metadata": {},
   "outputs": [
    {
     "data": {
      "text/plain": [
       "73851"
      ]
     },
     "execution_count": 218,
     "metadata": {},
     "output_type": "execute_result"
    }
   ],
   "source": [
    "list(names)[:10]\n",
    "names.union(set(map(lambda x: x.lower(),names)))"
   ]
  },
  {
   "cell_type": "code",
   "execution_count": 192,
   "metadata": {},
   "outputs": [],
   "source": [
    "import pickle\n",
    "with open('data/names_list1.pkl', 'wb') as f:\n",
    "    pickle.dump(names, f)"
   ]
  },
  {
   "cell_type": "code",
   "execution_count": 219,
   "metadata": {},
   "outputs": [],
   "source": [
    "#st = StanfordNERTagger('english.all.3class.distsim.crf.ser.gz',\n",
    "#                        '/Users/alexanderbailey/Documents/stanford-ner-2018-10-16/stanford-ner.jar')\n",
    "#names = tag_words(list(movies['summary']))\n",
    "names = names.union(set(map(lambda x: x.lower(),names)))\n",
    "stop_words = stopwords.words('english')\n",
    "stop_words += ['film', 'directed', 'film_directed', 'series',\n",
    "               'story', 'american', 'starring', 'films', 'direct',\n",
    "               'produced', 'stars', 'released']\n",
    "stop_words = set(stop_words).union(names)\n"
   ]
  },
  {
   "cell_type": "code",
   "execution_count": 197,
   "metadata": {},
   "outputs": [],
   "source": [
    "def get_tag(idx,doc,st):\n",
    "    if idx % 1000:\n",
    "        print(idx)\n",
    "        return st.tag(doc.split())\n",
    "\n",
    "def tag_words(texts, st):\n",
    "    tags = [get_tag(idx,doc,st) for idx,doc in enumerate(texts)]\n",
    "    names = [set([word for word,tag in doc if tag != 'O']) for doc in tags]\n",
    "    return set.union(*names)\n",
    "\n",
    "def remove_stopwords(texts):\n",
    "    return [[word for word in simple_preprocess(str(doc)) if word not in stop_words] for doc in texts]\n",
    "\n",
    "def bigrams(words, bi_min=15, tri_min=10):\n",
    "    bigram = Phrases(words, min_count = bi_min)\n",
    "    bigram_mod = Phraser(bigram)\n",
    "    return bigram_mod\n",
    "\n",
    "def refactor_corpus(bigram):\n",
    "    id2word = gensim.corpora.Dictionary(bigram)\n",
    "    id2word.filter_extremes(no_below=15, no_above=0.35)\n",
    "    id2word.compactify()\n",
    "    corpus = [id2word.doc2bow(text) for text in bigram]\n",
    "    return corpus, id2word\n",
    "\n",
    "def get_corpus(df):\n",
    "    #words = list(df['summary'])\n",
    "    words = remove_stopwords(df)\n",
    "    bigram_mod = bigrams(words)\n",
    "    bigram = [bigram_mod[plot] for plot in words]\n",
    "    id2word = gensim.corpora.Dictionary(bigram)\n",
    "    id2word.filter_extremes(no_below=15, no_above=0.35)\n",
    "    id2word.compactify()\n",
    "    corpus = [id2word.doc2bow(text) for text in bigram]\n",
    "    return corpus, id2word, bigram"
   ]
  },
  {
   "cell_type": "code",
   "execution_count": 220,
   "metadata": {},
   "outputs": [
    {
     "name": "stdout",
     "output_type": "stream",
     "text": [
      "Time:  0:00:11.615815\n"
     ]
    }
   ],
   "source": [
    "now = datetime.datetime.now()\n",
    "m_corpus, m_id2word, bigram = get_corpus(sample1)\n",
    "later = datetime.datetime.now()\n",
    "elapsed = later-now\n",
    "print(\"Time: \", elapsed)"
   ]
  },
  {
   "cell_type": "code",
   "execution_count": 137,
   "metadata": {},
   "outputs": [
    {
     "name": "stdout",
     "output_type": "stream",
     "text": [
      "original document: \n",
      "['', 'Early', 'one', 'morning', 'a', 'taxi', 'pulls', 'up', 'in', 'front', 'of', 'Tiffany', '', 'Co', '', 'and', 'from', 'it', 'emerges', 'elegantly', 'dressed', 'Holly', 'Golightly', 'carrying', 'a', 'paper', 'bag', 'containing', 'her', 'breakfast', 'After', 'looking', 'into', 'its', 'windows', 'she', 'strolls', 'to', 'her', 'apartment', 'and', 'has', 'to', 'fend', 'off', 'her', 'date', 'from', 'the', 'night', 'before', 'Once', 'inside', 'Holly', 'cannot', 'find', 'her', 'keys', 'so', 'she', 'buzzes', 'her', 'landlord', 'Mr', 'Yunioshi', 'to', 'let', 'her', 'in', 'Later', 'she', 'is', 'awakened', 'by', 'new', 'neighbor', 'Paul', 'Varjak', 'who', 'rings', 'her', 'doorbell', 'to', 'get', 'into', 'the', 'building', 'The', 'pair', 'chat', 'as', 'she', 'dresses', 'to', 'leave', 'for', 'her', 'weekly', 'visit', 'to', 'Sally', 'Tomato', 'a', 'mobster', 'incarcerated', 'at', 'Sing', 'Sing', 'Tomatos', 'lawyer', 'pays', 'her', '100', 'a', 'week', 'to', 'deliver', 'the', 'weather', 'report', '', 'As', 'she', 'is', 'leaving', 'Holly', 'is', 'introduced', 'to', 'Pauls', 'decorator', 'wealthy', 'older', 'woman', 'Emily', 'Eustace', 'Failenson', 'whom', 'Paul', 'nicknames', '2E', 'That', 'night', 'when', 'Holly', 'goes', 'out', 'onto', 'the', 'fire', 'escape', 'to', 'elude', 'an', 'overeager', 'date', 'she', 'peeks', 'into', 'Pauls', 'apartment', 'and', 'sees', '2E', 'leaving', 'money', 'and', 'kissing', 'him', 'goodbye', 'Holly', 'visits', 'Paul', 'later', 'and', 'learns', 'he', 'is', 'a', 'writer', 'who', 'has', 'not', 'had', 'anything', 'published', 'since', 'a', 'book', 'of', 'vignettes', 'five', 'years', 'before', 'Holly', 'in', 'turn', 'explains', 'she', 'is', 'trying', 'to', 'save', 'money', 'to', 'support', 'her', 'brother', 'Fred', 'The', 'pair', 'fall', 'asleep', 'but', 'are', 'awakened', 'when', 'Holly', 'has', 'a', 'nightmare', 'about', 'her', 'brother', 'When', 'Paul', 'questions', 'her', 'about', 'this', 'Holly', 'chides', 'him', 'for', 'prying', 'She', 'later', 'buys', 'Paul', 'a', 'typewriter', 'ribbon', 'to', 'apologize', 'and', 'invites', 'him', 'to', 'a', 'wild', 'party', 'at', 'her', 'apartment', 'There', 'Paul', 'meets', 'her', 'Hollywood', 'agent', 'who', 'describes', 'Hollys', 'transformation', 'from', 'a', 'country', 'girl', 'into', 'a', 'Manhattan', 'socialite', 'He', 'is', 'also', 'introduced', 'to', 'José', 'da', 'Silva', 'Pereira', 'a', 'wealthy', 'Brazilian', 'politician', 'and', 'Rusty', 'Trawler', 'the', 'ninth', 'richest', 'man', 'in', 'America', 'under', '50', 'The', 'next', 'day', '2E', 'enters', 'Pauls', 'apartment', 'worried', 'she', 'is', 'being', 'followed', 'Paul', 'tells', 'her', 'he', 'will', 'investigate', 'and', 'eventually', 'confronts', 'Doc', 'Golightly', 'Hollys', 'estranged', 'husband', 'Doc', 'explains', 'that', 'Hollys', 'real', 'name', 'is', 'Lula', 'Mae', 'Barnes', 'and', 'that', 'they', 'were', 'married', 'when', 'she', 'was', '14', 'Now', 'he', 'wants', 'to', 'take', 'her', 'back', 'to', 'rural', 'Texas', 'After', 'Paul', 'reunites', 'Holly', 'and', 'Doc', 'she', 'informs', 'Paul', 'that', 'the', 'marriage', 'was', 'annulled', 'At', 'the', 'Greyhound', 'bus', 'station', 'she', 'tells', 'Doc', 'she', 'will', 'not', 'return', 'with', 'him', 'and', 'he', 'leaves', 'brokenhearted', 'After', 'drinking', 'at', 'a', 'club', 'Paul', 'and', 'Holly', 'return', 'to', 'her', 'apartment', 'where', 'she', 'drunkenly', 'tells', 'him', 'that', 'she', 'plans', 'to', 'marry', 'Trawler', 'for', 'his', 'money', '', 'A', 'few', 'days', 'later', 'Paul', 'learns', 'that', 'one', 'of', 'his', 'short', 'stories', 'will', 'be', 'published', 'On', 'the', 'way', 'to', 'tell', 'Holly', 'he', 'sees', 'a', 'newspaper', 'headline', 'stating', 'that', 'Trawler', 'has', 'married', 'someone', 'else', 'Holly', 'and', 'Paul', 'agree', 'to', 'spend', 'the', 'day', 'together', 'taking', 'turns', 'doing', 'things', 'each', 'has', 'never', 'done', 'before', '', 'At', 'Tiffanys', 'Paul', 'has', 'the', 'ring', 'from', 'Doc', 'Golightlys', 'box', 'of', 'Cracker', 'Jack', 'engraved', 'as', 'a', 'present', 'for', 'Holly', 'After', 'spending', 'the', 'night', 'together', 'he', 'awakens', 'to', 'find', 'her', 'gone', 'When', '2E', 'arrives', 'Paul', 'ends', 'their', 'relationship', 'She', 'calmly', 'accepts', 'having', 'earlier', 'concluded', 'that', 'he', 'was', 'in', 'love', 'with', 'someone', 'else', 'Holly', 'now', 'schemes', 'to', 'marry', 'José', 'for', 'his', 'money', 'but', 'after', 'she', 'receives', 'a', 'telegram', 'notifying', 'her', 'of', 'her', 'brother’s', 'death', 'she', 'trashes', 'her', 'apartment', 'Months', 'later', 'Paul', 'is', 'invited', 'to', 'dinner', 'by', 'Holly', 'who', 'is', 'leaving', 'the', 'next', 'morning', 'for', 'Brazil', 'to', 'continue', 'her', 'relationship', 'with', 'José', 'However', 'they', 'are', 'arrested', 'in', 'connection', 'with', 'Sally', 'Tomatos', 'drug', 'ring', 'and', 'Holly', 'spends', 'the', 'night', 'in', 'jail', 'The', 'next', 'morning', 'Holly', 'is', 'released', 'on', 'bail', 'Paul', 'is', 'waiting', 'for', 'her', 'in', 'a', 'cab', 'bringing', 'her', 'cat', 'and', 'a', 'letter', 'from', 'José', 'explaining', 'that', 'he', 'must', 'end', 'their', 'relationship', 'due', 'to', 'her', 'arrest', 'Holly', 'insists', 'that', 'she', 'will', 'go', 'to', 'Brazil', 'anyway', 'she', 'asks', 'the', 'cab', 'to', 'pull', 'over', 'and', 'releases', 'the', 'cat', 'into', 'the', 'pouring', 'rain', 'Paul', 'then', 'storms', 'out', 'of', 'the', 'cab', 'tossing', 'the', 'engraved', 'ring', 'into', 'her', 'lap', 'and', 'telling', 'her', 'to', 'examine', 'her', 'life', 'She', 'goes', 'through', 'a', 'decisionmaking', 'moment', 'puts', 'on', 'the', 'ring', 'and', 'runs', 'after', 'Paul', 'who', 'has', 'gone', 'looking', 'for', 'the', 'cat', 'Finally', 'Holly', 'finds', 'it', 'sheltering', 'in', 'an', 'alley', 'and', 'with', 'it', 'tucked', 'into', 'her', 'coat', 'she', 'and', 'Paul', 'embrace', '', '', '']\n",
      "\n",
      "\n",
      " tokenized and lemmatized document: \n",
      "['earli', 'morn', 'taxi', 'pull', 'tiffani', 'emerg', 'eleg', 'dress', 'holli', 'golight', 'carri', 'paper', 'contain', 'breakfast', 'look', 'window', 'stroll', 'apart', 'fend', 'date', 'night', 'insid', 'holli', 'key', 'buzz', 'landlord', 'yunioshi', 'later', 'awaken', 'neighbor', 'paul', 'varjak', 'ring', 'doorbel', 'build', 'pair', 'chat', 'dress', 'leav', 'week', 'visit', 'salli', 'tomato', 'mobster', 'incarcer', 'sing', 'sing', 'tomato', 'lawyer', 'pay', 'week', 'deliv', 'weather', 'report', 'leav', 'holli', 'introduc', 'paul', 'decor', 'wealthi', 'older', 'woman', 'emili', 'eustac', 'failenson', 'paul', 'nicknam', 'night', 'holli', 'go', 'escap', 'elud', 'overeag', 'date', 'peek', 'paul', 'apart', 'see', 'leav', 'money', 'kiss', 'goodby', 'holli', 'visit', 'paul', 'later', 'learn', 'writer', 'publish', 'book', 'vignett', 'year', 'holli', 'turn', 'explain', 'tri', 'save', 'money', 'support', 'brother', 'fred', 'pair', 'fall', 'asleep', 'awaken', 'holli', 'nightmar', 'brother', 'paul', 'question', 'holli', 'chide', 'pri', 'later', 'buy', 'paul', 'typewrit', 'ribbon', 'apolog', 'invit', 'wild', 'parti', 'apart', 'paul', 'meet', 'hollywood', 'agent', 'describ', 'holli', 'transform', 'countri', 'girl', 'manhattan', 'socialit', 'introduc', 'josé', 'silva', 'pereira', 'wealthi', 'brazilian', 'politician', 'rusti', 'trawler', 'ninth', 'richest', 'america', 'enter', 'paul', 'apart', 'worri', 'follow', 'paul', 'tell', 'investig', 'eventu', 'confront', 'golight', 'holli', 'estrang', 'husband', 'explain', 'holli', 'real', 'lula', 'barn', 'marri', 'want', 'rural', 'texa', 'paul', 'reunit', 'holli', 'inform', 'paul', 'marriag', 'annul', 'greyhound', 'station', 'tell', 'return', 'leav', 'brokenheart', 'drink', 'club', 'paul', 'holli', 'return', 'apart', 'drunken', 'tell', 'plan', 'marri', 'trawler', 'money', 'day', 'later', 'paul', 'learn', 'short', 'stori', 'publish', 'tell', 'holli', 'see', 'newspap', 'headlin', 'state', 'trawler', 'marri', 'holli', 'paul', 'agre', 'spend', 'take', 'turn', 'thing', 'tiffani', 'paul', 'ring', 'golight', 'cracker', 'jack', 'engrav', 'present', 'holli', 'spend', 'night', 'awaken', 'go', 'arriv', 'paul', 'end', 'relationship', 'calm', 'accept', 'have', 'earlier', 'conclud', 'love', 'holli', 'scheme', 'marri', 'josé', 'money', 'receiv', 'telegram', 'notifi', 'brother', 'death', 'trash', 'apart', 'month', 'later', 'paul', 'invit', 'dinner', 'holli', 'leav', 'morn', 'brazil', 'continu', 'relationship', 'josé', 'arrest', 'connect', 'salli', 'tomato', 'drug', 'ring', 'holli', 'spend', 'night', 'jail', 'morn', 'holli', 'releas', 'bail', 'paul', 'wait', 'bring', 'letter', 'josé', 'explain', 'relationship', 'arrest', 'holli', 'insist', 'brazil', 'ask', 'pull', 'releas', 'pour', 'rain', 'paul', 'storm', 'toss', 'engrav', 'ring', 'tell', 'examin', 'life', 'go', 'decisionmak', 'moment', 'put', 'ring', 'run', 'paul', 'go', 'look', 'final', 'holli', 'find', 'shelter', 'alley', 'tuck', 'coat', 'paul', 'embrac']\n"
     ]
    }
   ],
   "source": [
    "doc_sample = movies[movies['title'] == \"Breakfast at Tiffany's (film)\"].values[0][0]\n",
    "\n",
    "print('original document: ')\n",
    "words = []\n",
    "for word in doc_sample.split(' '):\n",
    "    words.append(word)\n",
    "print(words)\n",
    "print('\\n\\n tokenized and lemmatized document: ')\n",
    "print(preprocess(doc_sample))"
   ]
  },
  {
   "cell_type": "code",
   "execution_count": 39,
   "metadata": {},
   "outputs": [],
   "source": [
    "processed_docs = movies['summary'].map(preprocess)\n"
   ]
  },
  {
   "cell_type": "code",
   "execution_count": 40,
   "metadata": {},
   "outputs": [],
   "source": [
    "dictionary  = gensim.corpora.Dictionary(processed_docs)\n",
    "\n",
    "count = 0\n",
    "for k, v in dictionary.iteritems():\n",
    "    count += 1\n",
    "    if count > 10:\n",
    "        break"
   ]
  },
  {
   "cell_type": "code",
   "execution_count": 41,
   "metadata": {},
   "outputs": [],
   "source": [
    "dictionary.filter_extremes(no_below=20, no_above=0.5, keep_n=100000)"
   ]
  },
  {
   "cell_type": "code",
   "execution_count": 42,
   "metadata": {},
   "outputs": [],
   "source": [
    "bow_corpus = [dictionary.doc2bow(doc) for doc in processed_docs]"
   ]
  },
  {
   "cell_type": "code",
   "execution_count": 43,
   "metadata": {},
   "outputs": [],
   "source": [
    "from gensim import corpora, models\n",
    "\n",
    "tfidf = models.TfidfModel(bow_corpus)\n",
    "corpus_tfidf = tfidf[bow_corpus]\n"
   ]
  },
  {
   "cell_type": "code",
   "execution_count": 148,
   "metadata": {},
   "outputs": [],
   "source": [
    "hdp_model = gensim.models.HdpModel(corpus=m_corpus, id2word=m_id2word, random_state=56)\n"
   ]
  },
  {
   "cell_type": "code",
   "execution_count": 153,
   "metadata": {},
   "outputs": [],
   "source": [
    "for idx, topic in hdp_model.print_topics(num_topics=-1, num_words=5):\n",
    "    print('Topic : {} Word: {}'.format(idx, topic))"
   ]
  },
  {
   "cell_type": "code",
   "execution_count": 221,
   "metadata": {},
   "outputs": [
    {
     "name": "stdout",
     "output_type": "stream",
     "text": [
      "Topic : 0 Word: 0.014*\"students\" + 0.009*\"begins\" + 0.009*\"must\" + 0.008*\"become\" + 0.008*\"becomes\" + 0.006*\"patients\" + 0.005*\"patient\" + 0.005*\"creatures\" + 0.005*\"trial\" + 0.004*\"schools\"\n",
      "Topic : 1 Word: 0.011*\"tries\" + 0.010*\"says\" + 0.010*\"away\" + 0.008*\"begins\" + 0.008*\"leave\" + 0.007*\"apartment\" + 0.006*\"runs\" + 0.006*\"starts\" + 0.005*\"reveals\" + 0.005*\"attempts\"\n",
      "Topic : 2 Word: 0.024*\"novel\" + 0.016*\"character\" + 0.015*\"romantic\" + 0.014*\"thriller\" + 0.014*\"concerns\" + 0.011*\"name\" + 0.011*\"upcoming\" + 0.011*\"rebels\" + 0.010*\"writer\" + 0.010*\"tail\"\n",
      "Topic : 3 Word: 0.009*\"becomes\" + 0.009*\"decides\" + 0.008*\"work\" + 0.008*\"relationship\" + 0.008*\"meets\" + 0.006*\"become\" + 0.006*\"parents\" + 0.005*\"would\" + 0.005*\"agrees\" + 0.005*\"married\"\n",
      "Topic : 4 Word: 0.016*\"named\" + 0.009*\"work\" + 0.007*\"parents\" + 0.007*\"grandmother\" + 0.006*\"uses\" + 0.005*\"sell\" + 0.005*\"visit\" + 0.005*\"plantation\" + 0.005*\"pet\" + 0.005*\"painting\"\n",
      "Topic : 5 Word: 0.025*\"president\" + 0.019*\"known\" + 0.013*\"release\" + 0.012*\"premiere\" + 0.011*\"september\" + 0.010*\"plot\" + 0.009*\"november\" + 0.009*\"july\" + 0.008*\"formula\" + 0.007*\"robbers\"\n",
      "Topic : 6 Word: 0.020*\"silent\" + 0.017*\"played\" + 0.013*\"th\" + 0.012*\"including\" + 0.011*\"role\" + 0.010*\"well\" + 0.010*\"concert\" + 0.009*\"premiered\" + 0.009*\"members\" + 0.008*\"received\"\n",
      "Topic : 7 Word: 0.014*\"killed\" + 0.007*\"orders\" + 0.007*\"ship\" + 0.006*\"reveals\" + 0.006*\"killing\" + 0.005*\"manages\" + 0.005*\"away\" + 0.005*\"named\" + 0.005*\"plan\" + 0.004*\"uses\"\n"
     ]
    }
   ],
   "source": [
    "lda_model = gensim.models.LdaMulticore(corpus=m_corpus,\n",
    "                                       num_topics=8,\n",
    "                                       id2word=m_id2word,\n",
    "                                       chunksize=100,\n",
    "                                       eval_every=1,\n",
    "                                       per_word_topics=True,\n",
    "                                       passes=20,\n",
    "                                       workers=4)\n",
    "\n",
    "for idx, topic in lda_model.print_topics(num_topics=-1):\n",
    "    print('Topic : {} Word: {}'.format(idx, topic))"
   ]
  },
  {
   "cell_type": "markdown",
   "metadata": {},
   "source": [
    "0: Medical/Academic\n",
    "1: \n",
    "2: Dramatic Thriller\n",
    "3: Romance\n",
    "4: Family\n",
    "5: Political Trhiller\n",
    "6: Acting/Musicians\n",
    "7: Violence/War"
   ]
  },
  {
   "cell_type": "code",
   "execution_count": 223,
   "metadata": {},
   "outputs": [],
   "source": [
    "coherence_values = []\n",
    "model_list = []\n",
    "for num_topics in range(2,100,6):\n",
    "    model = gensim.models.LdaMulticore(corpus=m_corpus,\n",
    "                                       num_topics=num_topics,\n",
    "                                       id2word=m_id2word,\n",
    "                                       chunksize=100,\n",
    "                                       eval_every=1,\n",
    "                                       per_word_topics=True,\n",
    "                                       passes=20,\n",
    "                                       workers=4)\n",
    "    model_list.append(model)\n",
    "    \n",
    "    coherencemodel = CoherenceModel(model=model, \n",
    "                                    texts=bigram,\n",
    "                                    dictionary=m_id2word,\n",
    "                                   coherence='c_v')\n",
    "    coherence_values.append(coherencemodel.get_coherence())"
   ]
  },
  {
   "cell_type": "code",
   "execution_count": 224,
   "metadata": {},
   "outputs": [
    {
     "data": {
      "image/png": "[encoded data removed]",
      "text/plain": [
       "<Figure size 432x288 with 1 Axes>"
      ]
     },
     "metadata": {
      "image/png": {
       "height": 263,
       "width": 393
      },
      "needs_background": "light"
     },
     "output_type": "display_data"
    }
   ],
   "source": [
    "\n",
    "X = np.arange(2,100,6)\n",
    "\n",
    "fig, ax = plt.subplots()\n",
    "ax.plot(X, coherence_values, label=\"Coherence Values\")\n",
    "ax.set_xlabel('Num Topics')\n",
    "ax.set_ylabel('Coherence Score')\n",
    "plt.legend()\n",
    "plt.show()"
   ]
  },
  {
   "cell_type": "code",
   "execution_count": 240,
   "metadata": {},
   "outputs": [
    {
     "name": "stdout",
     "output_type": "stream",
     "text": [
      "Topic : 0 Words: \n",
      "player, players, playing, teams, present, spell, games, goal, subjects, explores, \n",
      "Topic : 1 Words: \n",
      "parents, silent, couple, concerns, yearold, illness, gifts, middleaged, abortion, paying, \n",
      "Topic : 2 Words: \n",
      "murdered, named, begins, victims, killing, search, alive, becomes, discover, disappearance, \n",
      "Topic : 3 Words: \n",
      "decides, gives, agrees, leave, marry, give, meets, business, married, tries, \n",
      "Topic : 4 Words: \n",
      "relationship, begins, becomes, apartment, work, meets, move, parents, become, boyfriend, \n",
      "Topic : 5 Words: \n",
      "killed, evidence, robbery, killing, arrest, trial, jail, involved, criminals, murdered, \n",
      "Topic : 6 Words: \n",
      "killed, led, diary, torture, vengeance, corruption, completed, scheduled, serum, drown, \n",
      "Topic : 7 Words: \n",
      "would, final, dies, becomes, begins, attempt, sent, died, become, must, \n",
      "Topic : 8 Words: \n",
      "novel, role, release, character, name, premiere, nominated, thriller, writer, received, \n",
      "Topic : 9 Words: \n",
      "work, becomes, named, sell, discovers, plans, turns, casino, gambling, plan, \n",
      "Topic : 10 Words: \n",
      "including, concert, interviews, featuring, premiered, members, september, well, release, version, \n",
      "Topic : 11 Words: \n",
      "played, wish, cattle, roles, drivers, wishes, notorious, comedydrama, character, affair, \n",
      "Topic : 12 Words: \n",
      "comic, script, internet, online, used, document, documents, tape, performed, exwife, \n",
      "Topic : 13 Words: \n",
      "president, mine, chief, spy, plot, program, americans, work, enemy, put, \n",
      "Topic : 14 Words: \n",
      "students, known, romantic, distributed, schools, pride, shown, inspired, adapted, considered, \n",
      "Topic : 15 Words: \n",
      "killed, ship, orders, killing, captured, reveals, attempts, uses, manages, attacked, \n",
      "Topic : 16 Words: \n",
      "th, plantation, villagers, slave, curse, tent, adaptation, starred, genie, called, \n",
      "Topic : 17 Words: \n",
      "away, tries, says, leave, runs, begins, reveals, explains, starts, turns, \n",
      "Topic : 18 Words: \n",
      "pub, robbers, sets_designed, promote, alternative, laser, course, published, could, often, \n",
      "Topic : 19 Words: \n",
      "plane, pilot, flight, passengers, fighter, depression, passenger, engine, commercial, pilots, \n"
     ]
    }
   ],
   "source": [
    "for topic in range(20):\n",
    "    print('Topic : ' + str(topic) + ' Words: ')\n",
    "    for word in range(10):\n",
    "        print(model_list[3].show_topic(topic)[word][0] + \", \", end=\"\")\n",
    "    print('')\n",
    "#model_list[4].show_topic(3)[2][0]"
   ]
  },
  {
   "cell_type": "markdown",
   "metadata": {},
   "source": [
    "Topic 0: Sports/Games\n",
    "player, players, playing, teams, present, spell, games, goal, subjects, explores\n",
    "\n",
    "Topic 1: Family Drama\n",
    "parents, silent, couple, concerns, yearold, illness, gifts, middleaged, abortion, paying\n",
    "\n",
    "Topic 2: Crime/Murder\n",
    "murdered, named, begins, victims, killing, search, alive, becomes, discover, disappearance\n",
    "\n",
    "Topic 3: Agreement,Contract\n",
    "decides, gives, agrees, leave, marry, give, meets, business, married, tries\n",
    "\n",
    "Topic 4: Early Romance\n",
    "relationship, begins, becomes, apartment, work, meets, move, parents, become, boyfriend\n",
    "\n",
    "Topic 5: Crime/Cops/Courts\n",
    "killed, evidence, robbery, killing, arrest, trial, jail, involved, criminals, murdered\n",
    "\n",
    "Topic 6: Cerebral Crime/Thriller\n",
    "killed, led, diary, torture, vengeance, corruption, completed, scheduled, serum, drown\n",
    "\n",
    "Topic 7: Existential\n",
    "would, final, dies, becomes, begins, attempt, sent, died, become, must\n",
    "\n",
    "Topic 8: Based on Book/About a Book\n",
    "novel, role, release, character, name, premiere, nominated, thriller, writer, received\n",
    "\n",
    "Topic 9: Heist\n",
    "work, becomes, named, sell, discovers, plans, turns, casino, gambling, plan\n",
    "\n",
    "Topic 10: Theater/Performance\n",
    "including, concert, interviews, featuring, premiered, members, september, well, release, version\n",
    "\n",
    "Topic 11: Western/Melodrama\n",
    "played, wish, cattle, roles, drivers, wishes, notorious, comedydrama, character, affair\n",
    "\n",
    "Topic 12: Comedy/Performance\n",
    "comic, script, internet, online, used, document, documents, tape, performed, exwife\n",
    "\n",
    "Topic 13: War/Politics\n",
    "president, mine, chief, spy, plot, program, americans, work, enemy, put\n",
    "\n",
    "Topic 14: Highschool/Students\n",
    "students, known, romantic, distributed, schools, pride, shown, inspired, adapted, considered\n",
    "\n",
    "Topic 15: Boats,Thriller\n",
    "killed, ship, orders, killing, captured, reveals, attempts, uses, manages, attacked\n",
    "\n",
    "Topic 16: Seeking Freedom\n",
    "th, plantation, villagers, slave, curse, tent, adaptation, starred, genie, called\n",
    "\n",
    "Topic 17: On the Run\n",
    "away, tries, says, leave, runs, begins, reveals, explains, starts, turns\n",
    "\n",
    "Topic 18: Production\n",
    "pub, robbers, sets_designed, promote, alternative, laser, course, published, could, often\n",
    "\n",
    "Topic 19: Planes\n",
    "plane, pilot, flight, passengers, fighter, depression, passenger, engine, commercial, pilots"
   ]
  },
  {
   "cell_type": "code",
   "execution_count": 226,
   "metadata": {},
   "outputs": [
    {
     "name": "stdout",
     "output_type": "stream",
     "text": [
      "Num Topics = 2  has Coherence Value of 0.2549\n",
      "Num Topics = 8  has Coherence Value of 0.35\n",
      "Num Topics = 14  has Coherence Value of 0.3527\n",
      "Num Topics = 20  has Coherence Value of 0.3653\n",
      "Num Topics = 26  has Coherence Value of 0.3759\n",
      "Num Topics = 32  has Coherence Value of 0.3647\n",
      "Num Topics = 38  has Coherence Value of 0.3695\n",
      "Num Topics = 44  has Coherence Value of 0.359\n",
      "Num Topics = 50  has Coherence Value of 0.3529\n",
      "Num Topics = 56  has Coherence Value of 0.3355\n",
      "Num Topics = 62  has Coherence Value of 0.3443\n",
      "Num Topics = 68  has Coherence Value of 0.3525\n",
      "Num Topics = 74  has Coherence Value of 0.3482\n",
      "Num Topics = 80  has Coherence Value of 0.3466\n",
      "Num Topics = 86  has Coherence Value of 0.3438\n",
      "Num Topics = 92  has Coherence Value of 0.3411\n",
      "Num Topics = 98  has Coherence Value of 0.3504\n"
     ]
    }
   ],
   "source": [
    "for m, cv in zip(X, coherence_values):\n",
    "    print(\"Num Topics =\", m, \" has Coherence Value of\", round(cv, 4))"
   ]
  },
  {
   "cell_type": "code",
   "execution_count": 241,
   "metadata": {},
   "outputs": [],
   "source": [
    "topic_vecs = []\n",
    "for i in range(len(sample1)):\n",
    "    top_topics = model_list[3].get_document_topics(m_corpus[i], minimum_probability=0.0)\n",
    "    topic_vec = [top_topics[i][1] for i in range(20)]\n",
    "    topic_vecs.append(topic_vec)"
   ]
  },
  {
   "cell_type": "code",
   "execution_count": 256,
   "metadata": {},
   "outputs": [
    {
     "data": {
      "text/plain": [
       "[0.24095818,\n",
       " 0.00043120372,\n",
       " 0.00043120372,\n",
       " 0.046507515,\n",
       " 0.00043120372,\n",
       " 0.00043120372,\n",
       " 0.00043120372,\n",
       " 0.00043120372,\n",
       " 0.00043120372,\n",
       " 0.00043120372,\n",
       " 0.00043120372,\n",
       " 0.00043120372,\n",
       " 0.00043120372,\n",
       " 0.023426555,\n",
       " 0.00043120372,\n",
       " 0.6104636,\n",
       " 0.00043120372,\n",
       " 0.0493013,\n",
       " 0.02330595,\n",
       " 0.00043120372]"
      ]
     },
     "execution_count": 256,
     "metadata": {},
     "output_type": "execute_result"
    }
   ],
   "source": [
    "topic_vecs[0]"
   ]
  },
  {
   "cell_type": "code",
   "execution_count": 244,
   "metadata": {},
   "outputs": [],
   "source": [
    "topic = topic_vecs[0].index(max(topic_vecs[0]))"
   ]
  },
  {
   "cell_type": "markdown",
   "metadata": {},
   "source": [
    "### Extracting Target"
   ]
  },
  {
   "cell_type": "code",
   "execution_count": 258,
   "metadata": {},
   "outputs": [
    {
     "data": {
      "text/plain": [
       "'Thriller involving Boats'"
      ]
     },
     "execution_count": 258,
     "metadata": {},
     "output_type": "execute_result"
    }
   ],
   "source": [
    "topic_names = ['Sports/Games','Family Drama','Crime/Mystery','Contracts','Beginning Romance',\n",
    "               'Crime/Courtroom Drama','Cerebral Thriller','Existential','Books/Based on Book','Heist',\n",
    "               'Performance/Theater','Western/Melodrama','Performance/Comedy','War/Politics','Highschool/Students',\n",
    "               'Thriller involving Boats','Seeking Freedom', 'On the Run', 'Production', 'Planes']\n",
    "topic_names[topic]"
   ]
  },
  {
   "cell_type": "code",
   "execution_count": 259,
   "metadata": {},
   "outputs": [
    {
     "data": {
      "text/plain": [
       "array(['Thriller involving Boats', 'Heist', 'Performance/Comedy',\n",
       "       'Western/Melodrama', 'On the Run', 'Heist', 'On the Run',\n",
       "       'Performance/Theater', 'Beginning Romance', 'Heist'], dtype='<U24')"
      ]
     },
     "execution_count": 259,
     "metadata": {},
     "output_type": "execute_result"
    }
   ],
   "source": [
    "topic_nums = [vec.index(max(vec)) for vec in topic_vecs]\n",
    "topics = np.array([topic_names[topic] for topic in topic_nums])\n",
    "topics[:10]"
   ]
  },
  {
   "cell_type": "code",
   "execution_count": 268,
   "metadata": {},
   "outputs": [
    {
     "data": {
      "text/html": [
       "<div>\n",
       "<style scoped>\n",
       "    .dataframe tbody tr th:only-of-type {\n",
       "        vertical-align: middle;\n",
       "    }\n",
       "\n",
       "    .dataframe tbody tr th {\n",
       "        vertical-align: top;\n",
       "    }\n",
       "\n",
       "    .dataframe thead th {\n",
       "        text-align: right;\n",
       "    }\n",
       "</style>\n",
       "<table border=\"1\" class=\"dataframe\">\n",
       "  <thead>\n",
       "    <tr style=\"text-align: right;\">\n",
       "      <th></th>\n",
       "      <th>summary</th>\n",
       "      <th>title</th>\n",
       "      <th>label</th>\n",
       "    </tr>\n",
       "  </thead>\n",
       "  <tbody>\n",
       "    <tr>\n",
       "      <th>1</th>\n",
       "      <td>While on the phone with his girlfriend Jill w...</td>\n",
       "      <td>+1 (film)</td>\n",
       "      <td>Thriller involving Boats</td>\n",
       "    </tr>\n",
       "    <tr>\n",
       "      <th>10</th>\n",
       "      <td>Gully Mercer Mick Rossi leads a group of prol...</td>\n",
       "      <td>2:22 (2008 film)</td>\n",
       "      <td>Heist</td>\n",
       "    </tr>\n",
       "    <tr>\n",
       "      <th>10002</th>\n",
       "      <td>Cher Horowitz lives in a Beverly Hills mansio...</td>\n",
       "      <td>Clueless (film)</td>\n",
       "      <td>Performance/Comedy</td>\n",
       "    </tr>\n",
       "    <tr>\n",
       "      <th>10009</th>\n",
       "      <td>In 1999 Ken Carter takes over the head coachi...</td>\n",
       "      <td>Coach Carter</td>\n",
       "      <td>Western/Melodrama</td>\n",
       "    </tr>\n",
       "    <tr>\n",
       "      <th>10011</th>\n",
       "      <td>Jim Brandon Robert Conrad a former player for...</td>\n",
       "      <td>Coach of the Year (film)</td>\n",
       "      <td>On the Run</td>\n",
       "    </tr>\n",
       "  </tbody>\n",
       "</table>\n",
       "</div>"
      ],
      "text/plain": [
       "                                                 summary  \\\n",
       "1       While on the phone with his girlfriend Jill w...   \n",
       "10      Gully Mercer Mick Rossi leads a group of prol...   \n",
       "10002   Cher Horowitz lives in a Beverly Hills mansio...   \n",
       "10009   In 1999 Ken Carter takes over the head coachi...   \n",
       "10011   Jim Brandon Robert Conrad a former player for...   \n",
       "\n",
       "                          title                     label  \n",
       "1                     +1 (film)  Thriller involving Boats  \n",
       "10             2:22 (2008 film)                     Heist  \n",
       "10002           Clueless (film)        Performance/Comedy  \n",
       "10009              Coach Carter         Western/Melodrama  \n",
       "10011  Coach of the Year (film)                On the Run  "
      ]
     },
     "execution_count": 268,
     "metadata": {},
     "output_type": "execute_result"
    }
   ],
   "source": [
    "df_movies.loc[:,'label'] = topics\n",
    "df_movies.head()\n",
    "df_movies.to_json('labeled_movies.json')"
   ]
  },
  {
   "cell_type": "markdown",
   "metadata": {},
   "source": [
    "### Word Embedding"
   ]
  },
  {
   "cell_type": "code",
   "execution_count": 272,
   "metadata": {},
   "outputs": [],
   "source": [
    "text = df_movies['summary']\n",
    "total_vocabulary = set(word for summary in text for word in summary)"
   ]
  },
  {
   "cell_type": "code",
   "execution_count": 115,
   "metadata": {},
   "outputs": [],
   "source": [
    "glove = {}\n",
    "with open('glove.6B.50d.txt', 'rb') as f:\n",
    "    for line in f:\n",
    "        parts = line.split()\n",
    "        word = parts[0].decode('utf-8')\n",
    "        if word in total_vocabulary:\n",
    "            vector = np.array(parts[1:], dtype=np.float32)\n",
    "            glove[word] = vector"
   ]
  },
  {
   "cell_type": "code",
   "execution_count": 116,
   "metadata": {},
   "outputs": [],
   "source": [
    "class W2vVectorizer(object):\n",
    "    \n",
    "    def __init__(self, w2v):\n",
    "        # takes in a dictionary of words and vectors as input\n",
    "        self.w2v = w2v\n",
    "        if len(w2v) == 0:\n",
    "            self.dimensions = 0\n",
    "        else:\n",
    "            self.dimensions = len(w2v[next(iter(glove))])\n",
    "    \n",
    "    def fit(self, X, y):\n",
    "        return self\n",
    "            \n",
    "    def transform(self, X):\n",
    "        return np.array([\n",
    "            np.mean([self.w2v[w] for w in words if w in self.w2v]\n",
    "                   or [np.zeros(self.dimensions)], axis=0) for words in X])"
   ]
  },
  {
   "cell_type": "code",
   "execution_count": 275,
   "metadata": {},
   "outputs": [],
   "source": [
    "rf =  Pipeline([(\"Word2Vec Vectorizer\", W2vVectorizer(glove)),\n",
    "              (\"Random Forest\", RandomForestClassifier(n_estimators=100, verbose=True))])\n",
    "svc = Pipeline([(\"Word2Vec Vectorizer\", W2vVectorizer(glove)),\n",
    "                ('Support Vector Machine', SVC())])\n",
    "lr = Pipeline([(\"Word2Vec Vectorizer\", W2vVectorizer(glove)),\n",
    "              ('Logistic Regression', LogisticRegression())])"
   ]
  },
  {
   "cell_type": "code",
   "execution_count": 276,
   "metadata": {},
   "outputs": [
    {
     "name": "stderr",
     "output_type": "stream",
     "text": [
      "[Parallel(n_jobs=1)]: Using backend SequentialBackend with 1 concurrent workers.\n",
      "[Parallel(n_jobs=1)]: Done 100 out of 100 | elapsed:    6.3s finished\n",
      "[Parallel(n_jobs=1)]: Using backend SequentialBackend with 1 concurrent workers.\n",
      "[Parallel(n_jobs=1)]: Done 100 out of 100 | elapsed:    0.1s finished\n",
      "[Parallel(n_jobs=1)]: Using backend SequentialBackend with 1 concurrent workers.\n",
      "[Parallel(n_jobs=1)]: Done 100 out of 100 | elapsed:    6.1s finished\n",
      "[Parallel(n_jobs=1)]: Using backend SequentialBackend with 1 concurrent workers.\n",
      "[Parallel(n_jobs=1)]: Done 100 out of 100 | elapsed:    0.1s finished\n",
      "/anaconda3/lib/python3.7/site-packages/sklearn/svm/base.py:193: FutureWarning: The default value of gamma will change from 'auto' to 'scale' in version 0.22 to account better for unscaled features. Set gamma explicitly to 'auto' or 'scale' to avoid this warning.\n",
      "  \"avoid this warning.\", FutureWarning)\n",
      "/anaconda3/lib/python3.7/site-packages/sklearn/svm/base.py:193: FutureWarning: The default value of gamma will change from 'auto' to 'scale' in version 0.22 to account better for unscaled features. Set gamma explicitly to 'auto' or 'scale' to avoid this warning.\n",
      "  \"avoid this warning.\", FutureWarning)\n",
      "/anaconda3/lib/python3.7/site-packages/sklearn/linear_model/logistic.py:432: FutureWarning: Default solver will be changed to 'lbfgs' in 0.22. Specify a solver to silence this warning.\n",
      "  FutureWarning)\n",
      "/anaconda3/lib/python3.7/site-packages/sklearn/linear_model/logistic.py:469: FutureWarning: Default multi_class will be changed to 'auto' in 0.22. Specify the multi_class option to silence this warning.\n",
      "  \"this warning.\", FutureWarning)\n",
      "/anaconda3/lib/python3.7/site-packages/sklearn/linear_model/logistic.py:432: FutureWarning: Default solver will be changed to 'lbfgs' in 0.22. Specify a solver to silence this warning.\n",
      "  FutureWarning)\n",
      "/anaconda3/lib/python3.7/site-packages/sklearn/linear_model/logistic.py:469: FutureWarning: Default multi_class will be changed to 'auto' in 0.22. Specify the multi_class option to silence this warning.\n",
      "  \"this warning.\", FutureWarning)\n"
     ]
    }
   ],
   "source": [
    "models = [('Random Forest', rf),\n",
    "          (\"Support Vector Machine\", svc),\n",
    "          (\"Logistic Regression\", lr)]\n",
    "scores = [(name, cross_val_score(model, text, topic_nums, cv=2).mean()) for name, model, in models]"
   ]
  },
  {
   "cell_type": "code",
   "execution_count": 277,
   "metadata": {},
   "outputs": [
    {
     "data": {
      "text/plain": [
       "[('Random Forest', 0.15126566156296117),\n",
       " ('Support Vector Machine', 0.177265874316186),\n",
       " ('Logistic Regression', 0.1775054520573457)]"
      ]
     },
     "execution_count": 277,
     "metadata": {},
     "output_type": "execute_result"
    }
   ],
   "source": [
    "scores"
   ]
  },
  {
   "cell_type": "code",
   "execution_count": null,
   "metadata": {},
   "outputs": [],
   "source": []
  }
 ],
 "metadata": {
  "kernelspec": {
   "display_name": "learn-env",
   "language": "python",
   "name": "learn-env"
  },
  "language_info": {
   "codemirror_mode": {
    "name": "ipython",
    "version": 3
   },
   "file_extension": ".py",
   "mimetype": "text/x-python",
   "name": "python",
   "nbconvert_exporter": "python",
   "pygments_lexer": "ipython3",
   "version": "3.7.1"
  }
 },
 "nbformat": 4,
 "nbformat_minor": 2
}

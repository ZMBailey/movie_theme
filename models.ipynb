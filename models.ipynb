{
 "cells": [
  {
   "cell_type": "code",
   "execution_count": 333,
   "metadata": {},
   "outputs": [
    {
     "name": "stderr",
     "output_type": "stream",
     "text": [
      "[nltk_data] Downloading package wordnet to\n",
      "[nltk_data]     /Users/alexanderbailey/nltk_data...\n",
      "[nltk_data]   Package wordnet is already up-to-date!\n",
      "[nltk_data] Downloading package stopwords to\n",
      "[nltk_data]     /Users/alexanderbailey/nltk_data...\n",
      "[nltk_data]   Package stopwords is already up-to-date!\n"
     ]
    },
    {
     "data": {
      "text/plain": [
       "True"
      ]
     },
     "execution_count": 333,
     "metadata": {},
     "output_type": "execute_result"
    }
   ],
   "source": [
    "import pandas as pd\n",
    "import numpy as np\n",
    "import numpy as np\n",
    "import matplotlib.pyplot as plt\n",
    "import gensim\n",
    "import nltk\n",
    "import datetime\n",
    "import time\n",
    "import pickle\n",
    "import json\n",
    "\n",
    "from pymongo import MongoClient\n",
    "from pprint import pprint\n",
    "from gensim.models import CoherenceModel\n",
    "from gensim.models import word2vec\n",
    "from nltk import word_tokenize\n",
    "from nltk.tag import StanfordNERTagger \n",
    "from nltk.corpus import stopwords\n",
    "\n",
    "from text_processing import (tag_words,remove_stopwords,\n",
    "                             remove_sw,process_doc,\n",
    "                            bigrams,refactor_corpus,get_corpus)\n",
    "\n",
    "from sklearn.ensemble import RandomForestClassifier\n",
    "from sklearn.svm import SVC\n",
    "from sklearn.linear_model import LogisticRegression\n",
    "from sklearn.pipeline import Pipeline\n",
    "from sklearn.model_selection import cross_val_score\n",
    "from xgboost import XGBClassifier\n",
    "%matplotlib inline\n",
    "%config InlineBackend.figure_format = 'retina'\n",
    "np.random.seed(1960)\n",
    "\n",
    "nltk.download('wordnet')\n",
    "nltk.download('stopwords')"
   ]
  },
  {
   "cell_type": "code",
   "execution_count": 334,
   "metadata": {},
   "outputs": [
    {
     "name": "stdout",
     "output_type": "stream",
     "text": [
      "The autoreload extension is already loaded. To reload it, use:\n",
      "  %reload_ext autoreload\n"
     ]
    }
   ],
   "source": [
    "%load_ext autoreload\n",
    "%autoreload 2"
   ]
  },
  {
   "cell_type": "markdown",
   "metadata": {},
   "source": [
    "## Database Retrieval\n",
    "\n",
    "Having stored my database on Mongo previously, all I need to do is connect to my database and retrieve the data. When the data is retrieved from Mongo, it comes with an extra id column. Since the id is of no use to me I will drop it and check my dataframe."
   ]
  },
  {
   "cell_type": "code",
   "execution_count": 269,
   "metadata": {},
   "outputs": [],
   "source": [
    "with open('/Users/alexanderbailey/.secret/mongo_creds.json','r') as f:\n",
    "    params = json.load(f)\n",
    "\n",
    "url = 'mongodb+srv://zmbailey:' + params['password'] + '@cluster0-ykzgc.mongodb.net/test?retryWrites=true&w=majority'\n",
    "\n",
    "client = MongoClient(url)"
   ]
  },
  {
   "cell_type": "code",
   "execution_count": 271,
   "metadata": {},
   "outputs": [
    {
     "name": "stdout",
     "output_type": "stream",
     "text": [
      "(56005, 2)\n"
     ]
    },
    {
     "data": {
      "text/html": [
       "<div>\n",
       "<style scoped>\n",
       "    .dataframe tbody tr th:only-of-type {\n",
       "        vertical-align: middle;\n",
       "    }\n",
       "\n",
       "    .dataframe tbody tr th {\n",
       "        vertical-align: top;\n",
       "    }\n",
       "\n",
       "    .dataframe thead th {\n",
       "        text-align: right;\n",
       "    }\n",
       "</style>\n",
       "<table border=\"1\" class=\"dataframe\">\n",
       "  <thead>\n",
       "    <tr style=\"text-align: right;\">\n",
       "      <th></th>\n",
       "      <th>summary</th>\n",
       "      <th>title</th>\n",
       "    </tr>\n",
       "  </thead>\n",
       "  <tbody>\n",
       "    <tr>\n",
       "      <th>0</th>\n",
       "      <td>nown as 1 Life On The Limit is a 2013 document...</td>\n",
       "      <td>1 (2013 film)</td>\n",
       "    </tr>\n",
       "    <tr>\n",
       "      <th>1</th>\n",
       "      <td>While on the phone with his girlfriend Jill w...</td>\n",
       "      <td>+1 (film)</td>\n",
       "    </tr>\n",
       "    <tr>\n",
       "      <th>2</th>\n",
       "      <td>Gully Mercer Mick Rossi leads a group of prol...</td>\n",
       "      <td>2:22 (2008 film)</td>\n",
       "    </tr>\n",
       "    <tr>\n",
       "      <th>3</th>\n",
       "      <td>o Christmas is a Ghanaian drama movie about Re...</td>\n",
       "      <td>6 Hours To Christmas</td>\n",
       "    </tr>\n",
       "    <tr>\n",
       "      <th>4</th>\n",
       "      <td>r is a 1995 American romantic drama television...</td>\n",
       "      <td>The Affair (1995 film)</td>\n",
       "    </tr>\n",
       "  </tbody>\n",
       "</table>\n",
       "</div>"
      ],
      "text/plain": [
       "                                             summary                   title\n",
       "0  nown as 1 Life On The Limit is a 2013 document...           1 (2013 film)\n",
       "1   While on the phone with his girlfriend Jill w...               +1 (film)\n",
       "2   Gully Mercer Mick Rossi leads a group of prol...        2:22 (2008 film)\n",
       "3  o Christmas is a Ghanaian drama movie about Re...    6 Hours To Christmas\n",
       "4  r is a 1995 American romantic drama television...  The Affair (1995 film)"
      ]
     },
     "execution_count": 271,
     "metadata": {},
     "output_type": "execute_result"
    }
   ],
   "source": [
    "mongodb = client.movieplots\n",
    "mongo_summaries = mongodb.movies\n",
    "movies = pd.DataFrame(list(mongo_summaries.find()))\n",
    "movies = movies[['summary','title']]\n",
    "print(movies.shape)\n",
    "movies.head()"
   ]
  },
  {
   "cell_type": "markdown",
   "metadata": {},
   "source": [
    "## Data Prepration\n",
    "\n",
    "My dataset is a little large to work with, given the size of each text entry. Certain operations take an impractical amount of time, so I will take a smaller sample, and break that up for processing."
   ]
  },
  {
   "cell_type": "code",
   "execution_count": null,
   "metadata": {},
   "outputs": [],
   "source": [
    "import random\n",
    "sample = random.sample(list(movies['summary']),25000)\n",
    "sample1 = sample[:12501]\n",
    "sample2 = sample[12501:]"
   ]
  },
  {
   "cell_type": "code",
   "execution_count": 36,
   "metadata": {},
   "outputs": [],
   "source": [
    "# with open('samples.pkl','rb') as f:\n",
    "#     data = pickle.load(f)\n",
    "# sample = data[2]\n",
    "# sample1 = data[3]\n",
    "# sample2 = data[4]"
   ]
  },
  {
   "cell_type": "code",
   "execution_count": 165,
   "metadata": {},
   "outputs": [
    {
     "data": {
      "text/plain": [
       "25002"
      ]
     },
     "execution_count": 165,
     "metadata": {},
     "output_type": "execute_result"
    }
   ],
   "source": [
    "titles = movies.loc[movies['summary'].isin(sample)]\n",
    "len(titles)"
   ]
  },
  {
   "cell_type": "code",
   "execution_count": 166,
   "metadata": {},
   "outputs": [],
   "source": [
    "titles = titles[(titles.title != 'Island of Death (film)') & (titles.title != \"God's Clay (1919 film)\")]"
   ]
  },
  {
   "cell_type": "markdown",
   "metadata": {},
   "source": [
    "### Name Entity Recognition\n",
    "\n",
    "Movie summaries contain a considerable number of names, both of people and places, which throw off the topic modeling. In order to avoid this, I can use NER to identify names so I can remove them. However, NER takes a long time to run on my data, so I have commented the line out, and pickled the results so that I can quickly load it later.   "
   ]
  },
  {
   "cell_type": "code",
   "execution_count": null,
   "metadata": {},
   "outputs": [],
   "source": [
    "st = StanfordNERTagger('english.all.3class.distsim.crf.ser.gz',\n",
    "                       '/Users/alexanderbailey/Documents/stanford-ner-2018-10-16/stanford-ner.jar')\n",
    "#names1 = tag_words(sample1, st)\n",
    "#names2 = tag_words(sample2, st)"
   ]
  },
  {
   "cell_type": "code",
   "execution_count": null,
   "metadata": {},
   "outputs": [],
   "source": [
    "# with open('data/names_list1.pkl', 'wb') as f:\n",
    "#     pickle.dump(names, f)"
   ]
  },
  {
   "cell_type": "code",
   "execution_count": 101,
   "metadata": {},
   "outputs": [],
   "source": [
    "with open('data/names_list1.pkl', 'rb') as f1:\n",
    "    names1 = pickle.load(f1)\n",
    "with open('data/names_list2.pkl', 'rb') as f2:\n",
    "    names2 = pickle.load(f2)\n",
    "    \n",
    "names = set(names1).union(set(names2))"
   ]
  },
  {
   "cell_type": "code",
   "execution_count": 132,
   "metadata": {},
   "outputs": [
    {
     "data": {
      "text/plain": [
       "113746"
      ]
     },
     "execution_count": 132,
     "metadata": {},
     "output_type": "execute_result"
    }
   ],
   "source": [
    "list(names)[:10]\n",
    "len(names.union(set(map(lambda x: x.lower(),names))))"
   ]
  },
  {
   "cell_type": "markdown",
   "metadata": {},
   "source": [
    "Now that I have the list of names I can append it to the stoplist so any names will be removed from the text."
   ]
  },
  {
   "cell_type": "code",
   "execution_count": 131,
   "metadata": {},
   "outputs": [],
   "source": [
    "names = names.union(set(map(lambda x: x.lower(),names)))\n",
    "stop_words = stopwords.words('english')\n",
    "stop_words += ['film', 'directed', 'film_directed', 'series',\n",
    "               'story', 'american', 'starring', 'films', 'direct',\n",
    "               'produced', 'stars', 'released','premiered','features',\n",
    "              'featuring','interviews','release','version','performances',\n",
    "              'performance','perform','titled','title','distributed','featured',\n",
    "              'adaptation','character','role','including']\n",
    " \n",
    "stop_words = set(stop_words).union(names)"
   ]
  },
  {
   "cell_type": "code",
   "execution_count": 327,
   "metadata": {},
   "outputs": [],
   "source": [
    "# with open('data/stopwords.pkl', 'wb') as f:\n",
    "#     pickle.dump(stop_words, f)"
   ]
  },
  {
   "cell_type": "markdown",
   "metadata": {},
   "source": [
    "Now that we have the stopwords configured, we can preprocess the text."
   ]
  },
  {
   "cell_type": "code",
   "execution_count": 133,
   "metadata": {},
   "outputs": [
    {
     "name": "stdout",
     "output_type": "stream",
     "text": [
      "Time:  0:00:19.972509\n"
     ]
    }
   ],
   "source": [
    "now = datetime.datetime.now()\n",
    "m_corpus, m_id2word, bigram = get_corpus(sample,stop_words)\n",
    "later = datetime.datetime.now()\n",
    "elapsed = later-now\n",
    "print(\"Time: \", elapsed)"
   ]
  },
  {
   "cell_type": "code",
   "execution_count": 324,
   "metadata": {},
   "outputs": [],
   "source": [
    "with open('jar/id2word.pkl','wb') as f:\n",
    "    pickle.dump(m_id2word,f)"
   ]
  },
  {
   "cell_type": "markdown",
   "metadata": {},
   "source": [
    "Now I create my first test LDA model, to see what the topics are like. "
   ]
  },
  {
   "cell_type": "code",
   "execution_count": null,
   "metadata": {},
   "outputs": [],
   "source": [
    "lda_model = gensim.models.LdaMulticore(corpus=m_corpus,\n",
    "                                       num_topics=10,\n",
    "                                       id2word=m_id2word,\n",
    "                                       chunksize=100,\n",
    "                                       eval_every=1,\n",
    "                                       per_word_topics=True,\n",
    "                                       passes=20,\n",
    "                                       workers=4)\n",
    "\n",
    "for idx, topic in lda_model.print_topics(num_topics=-1):\n",
    "    print('Topic : {} Word: {}'.format(idx, topic))"
   ]
  },
  {
   "cell_type": "markdown",
   "metadata": {},
   "source": [
    "Now I'm creating a series of models to looks at coherence values for different numbers of topics. Coherence values are not difinitive, but they can help to suggest a trend, and provide a range of values to focus on."
   ]
  },
  {
   "cell_type": "code",
   "execution_count": 404,
   "metadata": {},
   "outputs": [],
   "source": [
    "def get_coherence_vals(start,end,step):\n",
    "    coherence_values = []\n",
    "    model_list = []\n",
    "    for num_topics in range(start,end,step):\n",
    "        model = gensim.models.LdaMulticore(corpus=m_corpus,\n",
    "                                           num_topics=num_topics,\n",
    "                                           id2word=m_id2word,\n",
    "                                           chunksize=100,\n",
    "                                           eval_every=1,\n",
    "                                           per_word_topics=True,\n",
    "                                           passes=20,\n",
    "                                           workers=3,\n",
    "                                           random_state=85)\n",
    "        model_list.append(model)\n",
    "\n",
    "        coherencemodel = CoherenceModel(model=model, \n",
    "                                        texts=bigram,\n",
    "                                        dictionary=m_id2word,\n",
    "                                       coherence='c_v')\n",
    "        print('model with ' + str(num_topics) + ' topics')\n",
    "        coherence_values.append(coherencemodel.get_coherence())\n",
    "    \n",
    "    return model_list,coherence_values"
   ]
  },
  {
   "cell_type": "markdown",
   "metadata": {},
   "source": [
    "Doing a broad search to look for trends."
   ]
  },
  {
   "cell_type": "code",
   "execution_count": 405,
   "metadata": {},
   "outputs": [
    {
     "name": "stdout",
     "output_type": "stream",
     "text": [
      "model with 5 topics\n",
      "model with 6 topics\n",
      "model with 7 topics\n",
      "model with 8 topics\n",
      "model with 9 topics\n",
      "model with 10 topics\n",
      "model with 11 topics\n",
      "model with 12 topics\n",
      "model with 13 topics\n",
      "model with 14 topics\n",
      "model with 15 topics\n",
      "model with 16 topics\n",
      "model with 17 topics\n",
      "model with 18 topics\n",
      "model with 19 topics\n",
      "Time:  0:23:19.003020\n"
     ]
    }
   ],
   "source": [
    "now = datetime.datetime.now()\n",
    "models7, coherence7 = get_coherence_vals(5,20,1)\n",
    "later = datetime.datetime.now()\n",
    "elapsed = later-now\n",
    "print(\"Time: \", elapsed)"
   ]
  },
  {
   "cell_type": "code",
   "execution_count": 421,
   "metadata": {},
   "outputs": [
    {
     "data": {
      "image/png": "[encoded data removed]",
      "text/plain": [
       "<Figure size 432x288 with 1 Axes>"
      ]
     },
     "metadata": {
      "image/png": {
       "height": 263,
       "width": 393
      },
      "needs_background": "light"
     },
     "output_type": "display_data"
    }
   ],
   "source": [
    "\n",
    "X = range(5,20,1)\n",
    "\n",
    "fig, ax = plt.subplots()\n",
    "ax.plot(X, coherence7, label=\"Coherence Values\")\n",
    "ax.set_xlabel('Number of Topics')\n",
    "ax.set_ylabel('Coherence Score')\n",
    "plt.legend()"
   ]
  },
  {
   "cell_type": "code",
   "execution_count": 418,
   "metadata": {},
   "outputs": [
    {
     "name": "stdout",
     "output_type": "stream",
     "text": [
      "Num Topics = 5  has Coherence Value of 0.3901\n",
      "Num Topics = 6  has Coherence Value of 0.3817\n",
      "Num Topics = 7  has Coherence Value of 0.3775\n",
      "Num Topics = 8  has Coherence Value of 0.385\n",
      "Num Topics = 9  has Coherence Value of 0.3965\n",
      "Num Topics = 10  has Coherence Value of 0.38\n",
      "Num Topics = 11  has Coherence Value of 0.3806\n",
      "Num Topics = 12  has Coherence Value of 0.3825\n",
      "Num Topics = 13  has Coherence Value of 0.4101\n",
      "Num Topics = 14  has Coherence Value of 0.3784\n",
      "Num Topics = 15  has Coherence Value of 0.3822\n"
     ]
    }
   ],
   "source": [
    "for m, cv in zip(X, coherence1):\n",
    "    print(\"Num Topics =\", m, \" has Coherence Value of\", round(cv, 4))"
   ]
  },
  {
   "cell_type": "code",
   "execution_count": 310,
   "metadata": {},
   "outputs": [],
   "source": [
    "models4 = model_list\n",
    "coherence4 = coherence_values"
   ]
  },
  {
   "cell_type": "code",
   "execution_count": 420,
   "metadata": {},
   "outputs": [
    {
     "name": "stdout",
     "output_type": "stream",
     "text": [
      "['ship', 'plane', 'pilot', 'flight', 'bomb', 'passengers', 'ships', 'precode', 'engine', 'launch', ]\n",
      "['trial', 'evidence', 'murdered', 'tape', 'committed', 'patient', 'guilty', 'patients', 'innocent', 'victim', ]\n",
      "['th', 'played', 'shown', 'includes', 'final', 'received', 'september', 'focuses', 'called', 'romantic', ]\n",
      "['tries', 'begins', 'leave', 'runs', 'turns', 'starts', 'attempts', 'apartment', 'gives', 'makes', ]\n",
      "['debut', 'painting', 'wrote', 'unexpected', 'published', 'millionaire', 'narrator', 'reputation', 'ever', 'inmates', ]\n",
      "['decides', 'agrees', 'would', 'gives', 'leave', 'makes', 'meets', 'offers', 'reveals', 'plans', ]\n",
      "['killed', 'named', 'attempt', 'reveals', 'discover', 'attacked', 'attempts', 'led', 'captured', 'others', ]\n",
      "['relationship', 'begins', 'become', 'meets', 'married', 'career', 'couple', 'yearold', 'pregnant', 'boyfriend', ]\n"
     ]
    }
   ],
   "source": [
    "for topic in range(8):\n",
    "    print('[', end=\"\")#'Topic ' + str(topic) + ': ')\n",
    "    for word in range(10):\n",
    "        print(\"'\" + models7[3].show_topic(topic)[word][0] + \"', \", end=\"\")\n",
    "    print(']')\n"
   ]
  },
  {
   "cell_type": "markdown",
   "metadata": {},
   "source": [
    "I have decided on 12 topics. 12 is enough to get some interesting variation, but small enough to still be coherent."
   ]
  },
  {
   "cell_type": "markdown",
   "metadata": {},
   "source": [
    "### Topics 1\n",
    "\n",
    "Topic 0: On the Run\n",
    "tries, runs, begins, leave, starts, turns, makes, attempts, gives, seen\n",
    "\n",
    "Topic 1: Drama\n",
    "romantic, concerns, whose, sexual, played, relationship, experiences, struggles, leading, childhood\n",
    "\n",
    "Topic 2: Performance\n",
    "th, shown, played, debut, includes, received, final, september, december, created\n",
    "\n",
    "Topic 3: Medieval\n",
    "painting, must, wish, villagers, minister, servant, attraction, scheme, coat, spell\n",
    "\n",
    "Topic 4: Action\n",
    "ship, plane, pilot, flight, passengers, aliens, ships, launch, engine, surface\n",
    "\n",
    "Topic 5: Romance\n",
    "meets, decides, relationship, would, become, agrees, married, leave, begins, gives\n",
    "\n",
    "Topic 6: Psychological\n",
    "trial, patient, committed, evidence, patients, roles, psychiatrist, precode, executed, innocent\n",
    "\n",
    "Topic 7: Mystery\n",
    "killed, reveals, named, discovers, attempts, attempt, discover, attacked, manages, plan"
   ]
  },
  {
   "cell_type": "markdown",
   "metadata": {},
   "source": [
    "### Topics 2\n",
    "\n",
    "Topic 0: Crime Drama\n",
    "tape, killed, cop, thugs, involved, arrest, led, dealer, attempts, become,\n",
    "\n",
    "Topic 1: On the Run\n",
    "tries, begins, runs, leave, attempts, turns, starts, causing, try, named, \n",
    "\n",
    "Topic 2: Flight Thriller\n",
    "plane, flight, pilot, passengers, infected, aired, bombing, engine, airplane, climbing,\n",
    "\n",
    "Topic 3: Murder Mystery\n",
    "killed, reveals, discovers, murdered, died, claims, apartment, evidence, begins, investigate,\n",
    "\n",
    "Topic 4: Relationship Drama\n",
    "th, played, includes, concerns, september, received, romantic, shown, november, december, \n",
    "\n",
    "Topic 5: Heist\n",
    "plan, named, plans, scheme, fake, pay, minister, thief, hired, turns, \n",
    "\n",
    "Topic 6: Jail\n",
    "trial, sent, prisoners, execution, sentenced, taken, lawyer, guilty, sentence, member, \n",
    "\n",
    "Topic 7: Highschool\n",
    "contract, script, paying, prom, championship, teams, composer, involves, debate, current, \n",
    "\n",
    "Topic 8: Romance\n",
    "relationship, become, begins, decides, must, would, yearold, seems, married, career, \n",
    "\n",
    "Topic 9: Action\n",
    "killed, ship, reveals, captured, attempt, bomb, led, remaining, others, plan, \n",
    "\n",
    "Topic 10: Decisions\n",
    "leave, meets, decides, gives, agrees, tries, makes, apartment, offers, reveals, \n",
    "\n",
    "Topic 11: Hospital\n",
    "debut, shown, patients, called, narrator, starred, composed, appeared, available, patient,"
   ]
  },
  {
   "cell_type": "code",
   "execution_count": 272,
   "metadata": {},
   "outputs": [
    {
     "data": {
      "text/plain": [
       "{'Crime Drama': 0,\n",
       " 'On the Run': 1,\n",
       " 'Thriller involving Planes': 2,\n",
       " 'Murder Mystery': 3,\n",
       " 'Relationship Drama': 4,\n",
       " 'Heist': 5,\n",
       " 'Jail': 6,\n",
       " 'Highschool': 7,\n",
       " 'Romance': 8,\n",
       " 'Action': 9,\n",
       " 'Tough Decisions': 10,\n",
       " 'Hospitals': 11}"
      ]
     },
     "execution_count": 272,
     "metadata": {},
     "output_type": "execute_result"
    }
   ],
   "source": [
    "topic_names = ['Crime Drama','On the Run','Thriller involving Planes','Murder Mystery','Relationship Drama',\n",
    "               'Heist','Jail','Highschool','Romance','Action',\n",
    "               'Tough Decisions','Hospitals']\n",
    "topic_names1 = ['On the Run','Drama','Performance','Medieval','Action','Romance','Psychological','Mystery']\n",
    "topics_numbered = {t:idx for idx,t in enumerate(topic_names)}\n",
    "topics_numbered"
   ]
  },
  {
   "cell_type": "code",
   "execution_count": 139,
   "metadata": {},
   "outputs": [],
   "source": [
    "topic_vecs = []\n",
    "for i in range(len(sample)):\n",
    "    top_topics = model_list[2].get_document_topics(m_corpus[i], minimum_probability=0.0)\n",
    "    topic_vec = [top_topics[i][1] for i in range(12)]\n",
    "    topic_vecs.append(topic_vec)"
   ]
  },
  {
   "cell_type": "code",
   "execution_count": 312,
   "metadata": {},
   "outputs": [],
   "source": [
    "with open('model1.pkl', 'wb') as f:\n",
    "    pickle.dump(models2[2],f)\n",
    "    \n",
    "with open('model2.pkl', 'wb') as e:\n",
    "    pickle.dump(models4[9],e)"
   ]
  },
  {
   "cell_type": "code",
   "execution_count": 366,
   "metadata": {},
   "outputs": [
    {
     "name": "stdout",
     "output_type": "stream",
     "text": [
      "Murder Mystery\n",
      "Crime Drama\n"
     ]
    }
   ],
   "source": [
    "unseen = 'Dr. Richard Kimble, unjustly accused of murdering his wife, must find the real killer' \n",
    "unseen += 'while being the target of a nationwide manhunt led by a seasoned U.S. Marshal.'\n",
    "\n",
    "corp = process_doc(unseen,m_id2word,stop_words)\n",
    "\n",
    "topic = models2[2].get_document_topics(corp, minimum_probability=0.0)\n",
    "idx, scores = zip(*topic)\n",
    "print(topic_names[scores.index(sorted(scores)[-2])])\n",
    "print(topic_names[scores.index(max(scores))])"
   ]
  },
  {
   "cell_type": "code",
   "execution_count": 318,
   "metadata": {},
   "outputs": [
    {
     "data": {
      "text/plain": [
       "(0.38419017,\n",
       " 0.011907152,\n",
       " 0.011907079,\n",
       " 0.3417804,\n",
       " 0.16686232,\n",
       " 0.011907883,\n",
       " 0.011908002,\n",
       " 0.011907036,\n",
       " 0.011907774,\n",
       " 0.011907904,\n",
       " 0.011907242,\n",
       " 0.01190702)"
      ]
     },
     "execution_count": 318,
     "metadata": {},
     "output_type": "execute_result"
    }
   ],
   "source": [
    "scores"
   ]
  },
  {
   "cell_type": "code",
   "execution_count": null,
   "metadata": {},
   "outputs": [],
   "source": [
    "topic = topic_vecs[0].index(max(topic_vecs[0]))"
   ]
  },
  {
   "cell_type": "markdown",
   "metadata": {},
   "source": [
    "### Extracting Target"
   ]
  },
  {
   "cell_type": "code",
   "execution_count": 147,
   "metadata": {},
   "outputs": [
    {
     "data": {
      "text/plain": [
       "25000"
      ]
     },
     "execution_count": 147,
     "metadata": {},
     "output_type": "execute_result"
    }
   ],
   "source": [
    "topic_nums = [vec.index(max(vec)) for vec in topic_vecs]\n",
    "topics = np.array([topic_names[topic] for topic in topic_nums])\n",
    "len(topics)"
   ]
  },
  {
   "cell_type": "markdown",
   "metadata": {},
   "source": [
    "Now I can apply these topics labels to the data."
   ]
  },
  {
   "cell_type": "code",
   "execution_count": 167,
   "metadata": {},
   "outputs": [],
   "source": [
    "df_movies = titles.copy()\n",
    "df_movies.loc[:,'label'] = topics\n",
    "df_movies = df_movies.reset_index()\n",
    "df_movies = df_movies.drop('index',axis=1)\n",
    "df_movies.head()\n",
    "#df_movies.to_json('labeled_movies.json')"
   ]
  },
  {
   "cell_type": "markdown",
   "metadata": {},
   "source": [
    "## Classification Model\n",
    "\n",
    "Using word embeddings, I will try using a several classifier models, with the newly defined topics as labels.\n",
    "\n",
    "___\n",
    "\n",
    "Since I did not end up using anything below this point in my final product, I have converted everything to markdown.\n"
   ]
  },
  {
   "cell_type": "markdown",
   "metadata": {},
   "source": [
    "### Word Embedding"
   ]
  },
  {
   "cell_type": "markdown",
   "metadata": {},
   "source": [
    "```python\n",
    "df_movies = pd.read_json('labeled_movies.json')\n",
    "texts = df_movies['summary']\n",
    "total_vocabulary = set(word for summary in texts for word in summary)\n",
    "```"
   ]
  },
  {
   "cell_type": "code",
   "execution_count": 169,
   "metadata": {},
   "outputs": [
    {
     "data": {
      "text/html": [
       "<div>\n",
       "<style scoped>\n",
       "    .dataframe tbody tr th:only-of-type {\n",
       "        vertical-align: middle;\n",
       "    }\n",
       "\n",
       "    .dataframe tbody tr th {\n",
       "        vertical-align: top;\n",
       "    }\n",
       "\n",
       "    .dataframe thead th {\n",
       "        text-align: right;\n",
       "    }\n",
       "</style>\n",
       "<table border=\"1\" class=\"dataframe\">\n",
       "  <thead>\n",
       "    <tr style=\"text-align: right;\">\n",
       "      <th></th>\n",
       "      <th>summary</th>\n",
       "      <th>title</th>\n",
       "      <th>label</th>\n",
       "    </tr>\n",
       "  </thead>\n",
       "  <tbody>\n",
       "    <tr>\n",
       "      <th>0</th>\n",
       "      <td>While on the phone with his girlfriend Jill w...</td>\n",
       "      <td>+1 (film)</td>\n",
       "      <td>9</td>\n",
       "    </tr>\n",
       "    <tr>\n",
       "      <th>1</th>\n",
       "      <td>Gully Mercer Mick Rossi leads a group of prol...</td>\n",
       "      <td>2:22 (2008 film)</td>\n",
       "      <td>3</td>\n",
       "    </tr>\n",
       "    <tr>\n",
       "      <th>10</th>\n",
       "      <td>Dyan Cannon plays Madie Levrington a wealthy ...</td>\n",
       "      <td>Coast to Coast (1980 film)</td>\n",
       "      <td>3</td>\n",
       "    </tr>\n",
       "    <tr>\n",
       "      <th>100</th>\n",
       "      <td>Gallery owner Farnsworth takes a painting out...</td>\n",
       "      <td>Color Me Blood Red</td>\n",
       "      <td>10</td>\n",
       "    </tr>\n",
       "    <tr>\n",
       "      <th>1000</th>\n",
       "      <td>Daffy is taking a bubble bath in a pond when ...</td>\n",
       "      <td>Ain't That Ducky</td>\n",
       "      <td>1</td>\n",
       "    </tr>\n",
       "  </tbody>\n",
       "</table>\n",
       "</div>"
      ],
      "text/plain": [
       "                                                summary  \\\n",
       "0      While on the phone with his girlfriend Jill w...   \n",
       "1      Gully Mercer Mick Rossi leads a group of prol...   \n",
       "10     Dyan Cannon plays Madie Levrington a wealthy ...   \n",
       "100    Gallery owner Farnsworth takes a painting out...   \n",
       "1000   Daffy is taking a bubble bath in a pond when ...   \n",
       "\n",
       "                           title  label  \n",
       "0                      +1 (film)      9  \n",
       "1               2:22 (2008 film)      3  \n",
       "10    Coast to Coast (1980 film)      3  \n",
       "100           Color Me Blood Red     10  \n",
       "1000            Ain't That Ducky      1  "
      ]
     },
     "execution_count": 169,
     "metadata": {},
     "output_type": "execute_result"
    }
   ],
   "source": [
    "df_movies['label'] = df_movies['label'].map(topics_numbered)\n",
    "df_movies.head()"
   ]
  },
  {
   "cell_type": "markdown",
   "metadata": {},
   "source": [
    "```python\n",
    "labels = df_movies['label']\n",
    "tokenized_text = df_movies['summary'].map(word_tokenize).values\n",
    "```"
   ]
  },
  {
   "cell_type": "markdown",
   "metadata": {},
   "source": [
    "I am loading GloVe to handle the embeddings."
   ]
  },
  {
   "cell_type": "markdown",
   "metadata": {},
   "source": [
    "```python\n",
    "glove = {}\n",
    "with open('glove.6B.50d.txt', 'rb') as f:\n",
    "    for line in f:\n",
    "        parts = line.split()\n",
    "        word = parts[0].decode('utf-8')\n",
    "        if word in total_vocabulary:\n",
    "            vector = np.array(parts[1:], dtype=np.float32)\n",
    "            glove[word] = vector\n",
    "```"
   ]
  },
  {
   "cell_type": "markdown",
   "metadata": {},
   "source": [
    "By defining a vectorizer object designed to take glove as an input, I can use it in a pipeline."
   ]
  },
  {
   "cell_type": "markdown",
   "metadata": {},
   "source": [
    "```python\n",
    "class W2vVectorizer(object):\n",
    "    \n",
    "    def __init__(self, w2v):\n",
    "        self.w2v = w2v\n",
    "        if len(w2v) == 0:\n",
    "            self.dimensions = 0\n",
    "        else:\n",
    "            self.dimensions = len(w2v[next(iter(glove))])\n",
    "    \n",
    "    def fit(self, X, y):\n",
    "        return self\n",
    "            \n",
    "    def transform(self, X):\n",
    "        return np.array([\n",
    "            np.mean([self.w2v[w] for w in words if w in self.w2v]\n",
    "                   or [np.zeros(self.dimensions)], axis=0) for words in X])\n",
    "```"
   ]
  },
  {
   "cell_type": "markdown",
   "metadata": {},
   "source": [
    "Now I just setup several classification models and see how they perform. "
   ]
  },
  {
   "cell_type": "markdown",
   "metadata": {},
   "source": [
    "```python\n",
    "rf =  Pipeline([(\"Word2Vec Vectorizer\", W2vVectorizer(glove)),\n",
    "              (\"Random Forest\", RandomForestClassifier(n_estimators=100, verbose=True))])\n",
    "svc = Pipeline([(\"Word2Vec Vectorizer\", W2vVectorizer(glove)),\n",
    "                ('Support Vector Machine', SVC(gamma='auto'))])\n",
    "lr = Pipeline([(\"Word2Vec Vectorizer\", W2vVectorizer(glove)),\n",
    "              ('Logistic Regression', LogisticRegression(solver='lbfgs',max_iter=1000,multi_class='auto'))])\n",
    "xgb = Pipeline([('Word2Vec Vectorizer', W2vVectorizer(glove)),\n",
    "              ('XGBoost',XGBClassifier(n_estimators=100))])\n",
    "```"
   ]
  },
  {
   "cell_type": "markdown",
   "metadata": {},
   "source": [
    "```python\n",
    "models = [('Random Forest', rf),\n",
    "          (\"Support Vector Machine\", svc),\n",
    "          (\"Logistic Regression\", lr),\n",
    "          ('XGBoost', xgb)]\n",
    "scores = [(name, cross_val_score(model, tokenized_text, labels, cv=2).mean()) for name, model, in models]\n",
    "```"
   ]
  },
  {
   "cell_type": "markdown",
   "metadata": {},
   "source": [
    "`scores`"
   ]
  },
  {
   "cell_type": "markdown",
   "metadata": {},
   "source": [
    "```\n",
    "[('Random Forest', 0.13920021921793263),\n",
    " ('Support Vector Machine', 0.16123999968742397),\n",
    " ('Logistic Regression', 0.13039960431101721),\n",
    " ('XGBoost', 0.1518795191482603)]\n",
    "```"
   ]
  },
  {
   "cell_type": "markdown",
   "metadata": {},
   "source": [
    "As we can see, the dedicated classifier models all seem to perform poorly, so I will stick with using the LDA's topic probability scores to assign topics to new inputs."
   ]
  },
  {
   "cell_type": "code",
   "execution_count": null,
   "metadata": {},
   "outputs": [],
   "source": []
  }
 ],
 "metadata": {
  "kernelspec": {
   "display_name": "learn-env",
   "language": "python",
   "name": "learn-env"
  },
  "language_info": {
   "codemirror_mode": {
    "name": "ipython",
    "version": 3
   },
   "file_extension": ".py",
   "mimetype": "text/x-python",
   "name": "python",
   "nbconvert_exporter": "python",
   "pygments_lexer": "ipython3",
   "version": "3.7.1"
  }
 },
 "nbformat": 4,
 "nbformat_minor": 2
}

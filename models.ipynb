{
 "cells": [
  {
   "cell_type": "code",
   "execution_count": 99,
   "metadata": {},
   "outputs": [
    {
     "name": "stderr",
     "output_type": "stream",
     "text": [
      "[nltk_data] Downloading package wordnet to\n",
      "[nltk_data]     /Users/alexanderbailey/nltk_data...\n",
      "[nltk_data]   Package wordnet is already up-to-date!\n",
      "[nltk_data] Downloading package stopwords to\n",
      "[nltk_data]     /Users/alexanderbailey/nltk_data...\n",
      "[nltk_data]   Unzipping corpora/stopwords.zip.\n"
     ]
    },
    {
     "data": {
      "text/plain": [
       "True"
      ]
     },
     "execution_count": 99,
     "metadata": {},
     "output_type": "execute_result"
    }
   ],
   "source": [
    "import pandas as pd\n",
    "import numpy as np\n",
    "import gensim\n",
    "import nltk\n",
    "from gensim.utils import simple_preprocess\n",
    "from gensim.parsing.preprocessing import STOPWORDS\n",
    "from gensim.models import CoherenceModel,Phrases\n",
    "from gensim.models.phrases import Phraser\n",
    "from nltk.corpus import stopwords\n",
    "from nltk.stem import WordNetLemmatizer, SnowballStemmer\n",
    "from nltk.stem.porter import *\n",
    "import numpy as np\n",
    "import matplotlib.pyplot as plt\n",
    "%matplotlib inline\n",
    "%config InlineBackend.figure_format = 'retina'\n",
    "np.random.seed(1960)\n",
    "\n",
    "nltk.download('wordnet')\n",
    "nltk.download('stopwords')"
   ]
  },
  {
   "cell_type": "code",
   "execution_count": 34,
   "metadata": {},
   "outputs": [
    {
     "data": {
      "text/html": [
       "<div>\n",
       "<style scoped>\n",
       "    .dataframe tbody tr th:only-of-type {\n",
       "        vertical-align: middle;\n",
       "    }\n",
       "\n",
       "    .dataframe tbody tr th {\n",
       "        vertical-align: top;\n",
       "    }\n",
       "\n",
       "    .dataframe thead th {\n",
       "        text-align: right;\n",
       "    }\n",
       "</style>\n",
       "<table border=\"1\" class=\"dataframe\">\n",
       "  <thead>\n",
       "    <tr style=\"text-align: right;\">\n",
       "      <th></th>\n",
       "      <th>summary</th>\n",
       "      <th>title</th>\n",
       "    </tr>\n",
       "  </thead>\n",
       "  <tbody>\n",
       "    <tr>\n",
       "      <th>0</th>\n",
       "      <td>In 1699 Dr Lemuel Gulliver Kerwin Mathews is ...</td>\n",
       "      <td>The 3 Worlds of Gulliver</td>\n",
       "    </tr>\n",
       "    <tr>\n",
       "      <th>1</th>\n",
       "      <td>The Man Edmond OBrien is the accomplice of Ma...</td>\n",
       "      <td>The 3rd Voice</td>\n",
       "    </tr>\n",
       "    <tr>\n",
       "      <th>10</th>\n",
       "      <td>AbdullaMahipal is a smart and brave young man...</td>\n",
       "      <td>Abdulla (1960 film)</td>\n",
       "    </tr>\n",
       "    <tr>\n",
       "      <th>100</th>\n",
       "      <td>is a French film directed by Julien Duvivier ...</td>\n",
       "      <td>Boulevard (1960 film)</td>\n",
       "    </tr>\n",
       "    <tr>\n",
       "      <th>1000</th>\n",
       "      <td>A Greek military hero named Darios Rory Calho...</td>\n",
       "      <td>The Colossus of Rhodes (film)</td>\n",
       "    </tr>\n",
       "  </tbody>\n",
       "</table>\n",
       "</div>"
      ],
      "text/plain": [
       "                                                summary  \\\n",
       "0      In 1699 Dr Lemuel Gulliver Kerwin Mathews is ...   \n",
       "1      The Man Edmond OBrien is the accomplice of Ma...   \n",
       "10     AbdullaMahipal is a smart and brave young man...   \n",
       "100    is a French film directed by Julien Duvivier ...   \n",
       "1000   A Greek military hero named Darios Rory Calho...   \n",
       "\n",
       "                              title  \n",
       "0          The 3 Worlds of Gulliver  \n",
       "1                     The 3rd Voice  \n",
       "10              Abdulla (1960 film)  \n",
       "100           Boulevard (1960 film)  \n",
       "1000  The Colossus of Rhodes (film)  "
      ]
     },
     "execution_count": 34,
     "metadata": {},
     "output_type": "execute_result"
    }
   ],
   "source": [
    "movies = pd.read_json('data/1960_1980.json')\n",
    "movies.head()"
   ]
  },
  {
   "cell_type": "code",
   "execution_count": null,
   "metadata": {},
   "outputs": [],
   "source": []
  },
  {
   "cell_type": "code",
   "execution_count": 97,
   "metadata": {},
   "outputs": [],
   "source": [
    "def remove_stopwords(texts):\n",
    "    return [[word for word in simple_preprocess(str(doc)) if word not in stopwords.words('english')] for doc in texts]\n",
    "\n",
    "def bigrams(words, bi_min=15, tri_min=10):\n",
    "    bigram = Phrases(words, min_count = bi_min)\n",
    "    bigram_mod = Phraser(bigram)\n",
    "    return bigram_mod\n",
    "\n",
    "def get_corpus(df):\n",
    "    words = list(df['summary'])\n",
    "    words = remove_stopwords(words)\n",
    "    bigram_mod = bigrams(words)\n",
    "    bigram = [bigram_mod[plot] for plot in words]\n",
    "    id2word = gensim.corpora.Dictionary(bigram)\n",
    "    id2word.filter_extremes(no_below=15, no_above=0.35)\n",
    "    id2word.compactify()\n",
    "    corpus = [id2word.doc2bow(text) for text in bigram]\n",
    "    return corpus, id2word, bigram"
   ]
  },
  {
   "cell_type": "code",
   "execution_count": 100,
   "metadata": {},
   "outputs": [],
   "source": [
    "m_corpus, m_id2word, bigram = get_corpus(movies)"
   ]
  },
  {
   "cell_type": "code",
   "execution_count": 35,
   "metadata": {},
   "outputs": [],
   "source": [
    "def lemmatize_stemming(text):\n",
    "    stemmer = SnowballStemmer('english')\n",
    "    return stemmer.stem(WordNetLemmatizer().lemmatize(text,pos='v'))\n",
    "\n",
    "def preprocess(text):\n",
    "    result = []\n",
    "    for token in gensim.utils.simple_preprocess(text):\n",
    "        if token not in gensim.parsing.preprocessing.STOPWORDS and len(token) > 3:\n",
    "            result.append(lemmatize_stemming(token))\n",
    "    return result"
   ]
  },
  {
   "cell_type": "code",
   "execution_count": 38,
   "metadata": {},
   "outputs": [
    {
     "name": "stdout",
     "output_type": "stream",
     "text": [
      "original document: \n",
      "['Monte', 'Carlo', 'German', 'Bomben', 'auf', 'Monte', 'Carlo', 'is', 'a', '1960', 'German', 'comedy', 'film', 'directed', 'by', 'Georg', 'Jacoby', 'and', 'starring', 'Eddie', 'Constantine', 'Marion', 'Michael', 'and', 'Gunther', 'Philipp', 'The', 'film', 'was', 'based', 'on', 'a', 'novel', 'by', 'Fritz', 'ReckMalleczewen', 'which', 'had', 'already', 'between', 'adapted', 'as', 'a', 'film', 'in', '1931', 'as', 'Bombs', 'on', 'Monte', 'Carlo', 'Location', 'shooting', 'took', 'place', 'in', 'Monaco', 'Nice', 'and', 'at', 'the', 'Schleissheim', 'Palace', 'in', 'Munich', 'The', 'films', 'sets', 'were', 'designed', 'by', 'the', 'art', 'directors', 'Ernst', 'H', 'Albrecht', 'and', 'Niko', 'Matul', '', '', '']\n",
      "\n",
      "\n",
      " tokenized and lemmatized document: \n",
      "['mont', 'carlo', 'german', 'bomben', 'mont', 'carlo', 'german', 'comedi', 'film', 'direct', 'georg', 'jacobi', 'star', 'eddi', 'constantin', 'marion', 'michael', 'gunther', 'philipp', 'film', 'base', 'novel', 'fritz', 'reckmalleczewen', 'adapt', 'film', 'bomb', 'mont', 'carlo', 'locat', 'shoot', 'take', 'place', 'monaco', 'nice', 'schleissheim', 'palac', 'munich', 'film', 'set', 'design', 'director', 'ernst', 'albrecht', 'niko', 'matul']\n"
     ]
    }
   ],
   "source": [
    "doc_sample = movies[movies['title'] == 'Bombs on Monte Carlo (1960 film)'].values[0][0]\n",
    "\n",
    "print('original document: ')\n",
    "words = []\n",
    "for word in doc_sample.split(' '):\n",
    "    words.append(word)\n",
    "print(words)\n",
    "print('\\n\\n tokenized and lemmatized document: ')\n",
    "print(preprocess(doc_sample))"
   ]
  },
  {
   "cell_type": "code",
   "execution_count": 39,
   "metadata": {},
   "outputs": [],
   "source": [
    "processed_docs = movies['summary'].map(preprocess)\n"
   ]
  },
  {
   "cell_type": "code",
   "execution_count": 40,
   "metadata": {},
   "outputs": [],
   "source": [
    "dictionary  = gensim.corpora.Dictionary(processed_docs)\n",
    "\n",
    "count = 0\n",
    "for k, v in dictionary.iteritems():\n",
    "    count += 1\n",
    "    if count > 10:\n",
    "        break"
   ]
  },
  {
   "cell_type": "code",
   "execution_count": 41,
   "metadata": {},
   "outputs": [],
   "source": [
    "dictionary.filter_extremes(no_below=20, no_above=0.5, keep_n=100000)"
   ]
  },
  {
   "cell_type": "code",
   "execution_count": 42,
   "metadata": {},
   "outputs": [],
   "source": [
    "bow_corpus = [dictionary.doc2bow(doc) for doc in processed_docs]"
   ]
  },
  {
   "cell_type": "code",
   "execution_count": 43,
   "metadata": {},
   "outputs": [],
   "source": [
    "from gensim import corpora, models\n",
    "\n",
    "tfidf = models.TfidfModel(bow_corpus)\n",
    "corpus_tfidf = tfidf[bow_corpus]\n"
   ]
  },
  {
   "cell_type": "code",
   "execution_count": 101,
   "metadata": {},
   "outputs": [
    {
     "name": "stdout",
     "output_type": "stream",
     "text": [
      "Topic : 0 Word: 0.076*\"film_directed\" + 0.044*\"film_stars\" + 0.032*\"lead_roles\" + 0.029*\"directed\" + 0.025*\"produced\" + 0.023*\"film_musical\" + 0.020*\"indian_malayalam\" + 0.019*\"film_festival\" + 0.017*\"starring\" + 0.012*\"film\"\n",
      "Topic : 1 Word: 0.012*\"men\" + 0.009*\"killed\" + 0.008*\"gang\" + 0.007*\"kill\" + 0.006*\"town\" + 0.006*\"one\" + 0.006*\"two\" + 0.006*\"army\" + 0.006*\"kills\" + 0.006*\"group\"\n",
      "Topic : 2 Word: 0.006*\"father\" + 0.005*\"wife\" + 0.005*\"life\" + 0.005*\"family\" + 0.004*\"one\" + 0.004*\"home\" + 0.004*\"man\" + 0.004*\"mother\" + 0.004*\"tells\" + 0.004*\"house\"\n",
      "Topic : 3 Word: 0.007*\"john\" + 0.007*\"police\" + 0.005*\"car\" + 0.005*\"joe\" + 0.004*\"george\" + 0.004*\"paul\" + 0.004*\"money\" + 0.003*\"harry\" + 0.003*\"david\" + 0.003*\"new\"\n",
      "Topic : 4 Word: 0.057*\"film\" + 0.014*\"directed\" + 0.011*\"film_directed\" + 0.011*\"starring\" + 0.010*\"films\" + 0.008*\"first\" + 0.007*\"movie\" + 0.006*\"released\" + 0.006*\"also\" + 0.005*\"italian\"\n",
      "Topic : 5 Word: 0.020*\"maria\" + 0.017*\"raju\" + 0.013*\"italian\" + 0.009*\"marie\" + 0.009*\"carlo\" + 0.009*\"donovan\" + 0.008*\"gordon\" + 0.008*\"bhaskar\" + 0.008*\"miguel\" + 0.007*\"hans\"\n",
      "Topic : 6 Word: 0.011*\"son\" + 0.009*\"daughter\" + 0.008*\"marriage\" + 0.008*\"also\" + 0.008*\"radha\" + 0.008*\"rao\" + 0.007*\"raja\" + 0.007*\"father\" + 0.007*\"village\" + 0.006*\"gets\"\n",
      "Topic : 7 Word: 0.007*\"tom\" + 0.006*\"back\" + 0.005*\"one\" + 0.005*\"dr\" + 0.004*\"body\" + 0.004*\"house\" + 0.004*\"jerry\" + 0.004*\"find\" + 0.004*\"island\" + 0.003*\"head\"\n"
     ]
    }
   ],
   "source": [
    "lda_model = gensim.models.LdaMulticore(corpus=m_corpus,\n",
    "                                       num_topics=8,\n",
    "                                       id2word=m_id2word,\n",
    "                                       chunksize=100,\n",
    "                                       eval_every=1,\n",
    "                                       per_word_topics=True,\n",
    "                                       passes=20,\n",
    "                                       workers=4)\n",
    "\n",
    "for idx, topic in lda_model.print_topics(-1):\n",
    "    print('Topic : {} Word: {}'.format(idx, topic))"
   ]
  },
  {
   "cell_type": "code",
   "execution_count": 108,
   "metadata": {},
   "outputs": [],
   "source": [
    "coherence_values = []\n",
    "model_list = []\n",
    "for num_topics in range(2,60,6):\n",
    "    model = gensim.models.LdaMulticore(corpus=m_corpus,\n",
    "                                       num_topics=num_topics,\n",
    "                                       id2word=m_id2word,\n",
    "                                       chunksize=100,\n",
    "                                       eval_every=1,\n",
    "                                       per_word_topics=True,\n",
    "                                       passes=20,\n",
    "                                       workers=4)\n",
    "    model_list.append(model)\n",
    "    \n",
    "    coherencemodel = CoherenceModel(model=model, \n",
    "                                    texts=bigram,\n",
    "                                    dictionary=m_id2word,\n",
    "                                   coherence='c_v')\n",
    "    coherence_values.append(coherencemodel.get_coherence())"
   ]
  },
  {
   "cell_type": "code",
   "execution_count": 109,
   "metadata": {},
   "outputs": [
    {
     "data": {
      "image/png": "[encoded data removed]",
      "text/plain": [
       "<Figure size 432x288 with 1 Axes>"
      ]
     },
     "metadata": {
      "image/png": {
       "height": 263,
       "width": 400
      },
      "needs_background": "light"
     },
     "output_type": "display_data"
    }
   ],
   "source": [
    "\n",
    "X = np.arange(2,60,6)\n",
    "\n",
    "fig, ax = plt.subplots()\n",
    "ax.plot(X, coherence_values, label=\"Coherence Values\")\n",
    "ax.set_xlabel('Num Topics')\n",
    "ax.set_ylabel('Coherence Score')\n",
    "plt.legend()\n",
    "plt.show()"
   ]
  },
  {
   "cell_type": "code",
   "execution_count": 106,
   "metadata": {},
   "outputs": [
    {
     "name": "stdout",
     "output_type": "stream",
     "text": [
      "Num Topics = 2  has Coherence Value of 0.4265\n",
      "Num Topics = 8  has Coherence Value of 0.4833\n",
      "Num Topics = 14  has Coherence Value of 0.421\n",
      "Num Topics = 20  has Coherence Value of 0.4513\n",
      "Num Topics = 26  has Coherence Value of 0.4389\n",
      "Num Topics = 32  has Coherence Value of 0.4396\n",
      "Num Topics = 38  has Coherence Value of 0.443\n"
     ]
    }
   ],
   "source": [
    "for m, cv in zip(X, coherence_values):\n",
    "    print(\"Num Topics =\", m, \" has Coherence Value of\", round(cv, 4))"
   ]
  },
  {
   "cell_type": "code",
   "execution_count": 69,
   "metadata": {},
   "outputs": [],
   "source": [
    "train_vecs = []\n",
    "for i in range(len(movies)):\n",
    "    top_topics = lda_model.get_document_topics(corpus_tfidf[i], minimum_probability=0.0)\n",
    "    topic_vec = [top_topics[i][1] for i in range(8)]\n",
    "    train_vecs.append(topic_vec)"
   ]
  },
  {
   "cell_type": "code",
   "execution_count": 83,
   "metadata": {},
   "outputs": [
    {
     "data": {
      "text/plain": [
       "[0.012516569,\n",
       " 0.12139622,\n",
       " 0.54146653,\n",
       " 0.012518243,\n",
       " 0.0125198215,\n",
       " 0.088762626,\n",
       " 0.012531708,\n",
       " 0.1982883]"
      ]
     },
     "execution_count": 83,
     "metadata": {},
     "output_type": "execute_result"
    }
   ],
   "source": [
    "train_vecs[0]"
   ]
  },
  {
   "cell_type": "code",
   "execution_count": 112,
   "metadata": {},
   "outputs": [
    {
     "data": {
      "text/plain": [
       "[('john', 0.006990252),\n",
       " ('police', 0.006927536),\n",
       " ('car', 0.00545362),\n",
       " ('joe', 0.0047498927),\n",
       " ('george', 0.004031561),\n",
       " ('paul', 0.003674468),\n",
       " ('money', 0.0036290162),\n",
       " ('harry', 0.0034054923),\n",
       " ('david', 0.0033684478),\n",
       " ('new', 0.0027360858)]"
      ]
     },
     "execution_count": 112,
     "metadata": {},
     "output_type": "execute_result"
    }
   ],
   "source": [
    "lda_model.show_topic(3)"
   ]
  },
  {
   "cell_type": "code",
   "execution_count": 96,
   "metadata": {},
   "outputs": [
    {
     "data": {
      "text/plain": [
       "nltk.corpus.util.LazyCorpusLoader"
      ]
     },
     "execution_count": 96,
     "metadata": {},
     "output_type": "execute_result"
    }
   ],
   "source": [
    "lda_model[]"
   ]
  },
  {
   "cell_type": "markdown",
   "metadata": {},
   "source": [
    "### Word Embedding"
   ]
  },
  {
   "cell_type": "code",
   "execution_count": null,
   "metadata": {},
   "outputs": [],
   "source": [
    "class W2vVectorizer(object):\n",
    "    \n",
    "    def __init__(self, w2v):\n",
    "        # takes in a dictionary of words and vectors as input\n",
    "        self.w2v = w2v\n",
    "        if len(w2v) == 0:\n",
    "            self.dimensions = 0\n",
    "        else:\n",
    "            self.dimensions = len(w2v[next(iter(glove))])\n",
    "    \n",
    "    # Note from Mike: Even though it doesn't do anything, it's required that this object implement a fit method or else\n",
    "    # It can't be used in a sklearn Pipeline. \n",
    "    def fit(self, X, y):\n",
    "        return self\n",
    "            \n",
    "    def transform(self, X):\n",
    "        return np.array([\n",
    "            np.mean([self.w2v[w] for w in words if w in self.w2v]\n",
    "                   or [np.zeros(self.dimensions)], axis=0) for words in X])"
   ]
  }
 ],
 "metadata": {
  "kernelspec": {
   "display_name": "learn-env",
   "language": "python",
   "name": "learn-env"
  },
  "language_info": {
   "codemirror_mode": {
    "name": "ipython",
    "version": 3
   },
   "file_extension": ".py",
   "mimetype": "text/x-python",
   "name": "python",
   "nbconvert_exporter": "python",
   "pygments_lexer": "ipython3",
   "version": "3.7.1"
  }
 },
 "nbformat": 4,
 "nbformat_minor": 2
}

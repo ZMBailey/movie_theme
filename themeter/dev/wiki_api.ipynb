{
 "cells": [
  {
   "cell_type": "markdown",
   "metadata": {},
   "source": [
    "## Data Collection\n",
    "\n",
    "To build a model, I will need a large number of plot summaries. I have decided to use\n",
    "Wikipedia as a source for these summaries, since they have lengthy summaries, and they have\n",
    "lists of movies that make it easy to search.\n",
    "\n",
    "To begin with I am testing out individual queries to Wikipedia, to make sure I can pull\n",
    "multiple entries from a list."
   ]
  },
  {
   "cell_type": "code",
   "execution_count": null,
   "metadata": {},
   "outputs": [],
   "source": [
    "import requests\n",
    "\n",
    "S = requests.Session()\n",
    "\n",
    "URL = \"https://en.wikipedia.org/w/api.php\"\n",
    "\n",
    "TITLE = \"Category:1961 films|Category:1965 films\"\n",
    "\n",
    "PARAMS = {\n",
    "    'action': \"query\",\n",
    "    'list': 'categorymembers',\n",
    "    'cmtitle': TITLE,\n",
    "    'cmlimit': '10',\n",
    "    'format': \"json\",\n",
    "}\n",
    "\n",
    "R = S.get(url=URL, params=PARAMS)\n",
    "DATA = R.json()"
   ]
  },
  {
   "cell_type": "code",
   "execution_count": null,
   "metadata": {},
   "outputs": [],
   "source": [
    "[item['title'] for item in DATA['query']['categorymembers']]"
   ]
  },
  {
   "cell_type": "code",
   "execution_count": 121,
   "metadata": {},
   "outputs": [],
   "source": [
    "years = []\n",
    "URL = \"https://en.wikipedia.org/w/api.php\"\n",
    "\n",
    "for y in range(1960,1965):\n",
    "    TITLE = \"Category:\" + str(y) + \" films\"\n",
    "\n",
    "    PARAMS = {\n",
    "        'action': \"query\",\n",
    "        'list': 'categorymembers',\n",
    "        'cmtitle': TITLE,\n",
    "        'cmlimit': '10',\n",
    "        'format': \"json\",\n",
    "    }\n",
    "\n",
    "    R = S.get(url=URL, params=PARAMS)\n",
    "    DATA = R.json()\n",
    "    ids = [item['pageid'] for ind,item in enumerate(DATA['query']['categorymembers']) if ind>1]\n",
    "    years.append(ids)\n",
    "years"
   ]
  },
  {
   "cell_type": "code",
   "execution_count": 122,
   "metadata": {},
   "outputs": [
    {
     "data": {
      "text/plain": [
       "600"
      ]
     },
     "execution_count": 122,
     "metadata": {},
     "output_type": "execute_result"
    }
   ],
   "source": [
    "len(sci_fi)"
   ]
  },
  {
   "cell_type": "code",
   "execution_count": null,
   "metadata": {},
   "outputs": [],
   "source": [
    "DATA['parse']"
   ]
  },
  {
   "cell_type": "markdown",
   "metadata": {},
   "source": [
    "The API returns the page content in HTML format, which is a hassle to parse.\n",
    "To get around this I am testing out some wrappers for the api, which may provide extra functionality."
   ]
  },
  {
   "cell_type": "code",
   "execution_count": null,
   "metadata": {},
   "outputs": [],
   "source": [
    "from mediawiki import MediaWiki\n",
    "import wikipedia\n",
    "\n",
    "query = \"Category:1961 films\"\n",
    "\n",
    "c = wikipedia.page(pageid=years[3][6])\n",
    "c.title"
   ]
  },
  {
   "cell_type": "code",
   "execution_count": null,
   "metadata": {},
   "outputs": [],
   "source": [
    "fulltext = c.content"
   ]
  },
  {
   "cell_type": "code",
   "execution_count": null,
   "metadata": {},
   "outputs": [],
   "source": [
    "import string\n",
    "ind1 = fulltext.find('== Plot ==') + 10\n",
    "ind2 = fulltext.find('==',ind1)\n",
    "plottext = fulltext[ind1:ind2]\n",
    "plottext.replace('\\n',' ').translate(str.maketrans('','',string.punctuation))"
   ]
  },
  {
   "cell_type": "markdown",
   "metadata": {},
   "source": [
    "The `wikipedia` package automatically returns a field called `content` that contains the page as plaintext,\n",
    "so I am going to use that for the specific pages to make extracting the plot easier."
   ]
  },
  {
   "cell_type": "code",
   "execution_count": 44,
   "metadata": {},
   "outputs": [],
   "source": [
    "import datetime\n",
    "import time\n",
    "from wikiparse_movies import WikiParser"
   ]
  },
  {
   "cell_type": "code",
   "execution_count": 34,
   "metadata": {},
   "outputs": [
    {
     "name": "stdout",
     "output_type": "stream",
     "text": [
      "The autoreload extension is already loaded. To reload it, use:\n",
      "  %reload_ext autoreload\n"
     ]
    }
   ],
   "source": [
    "%load_ext autoreload\n",
    "%autoreload 2"
   ]
  },
  {
   "cell_type": "markdown",
   "metadata": {},
   "source": [
    "I have created a WikiParser object with all the functionality I need to make calls to the wikipedia api, and now I am running it to get plots from the years 1960-1965. This takes hours to run, so running this cell is not advisable."
   ]
  },
  {
   "cell_type": "code",
   "execution_count": null,
   "metadata": {},
   "outputs": [],
   "source": [
    "now = datetime.datetime.now()\n",
    "\n",
    "wp = WikiParser()\n",
    "yrs_1960_1970 = wp.get_years(1960,1965)\n",
    "\n",
    "later = datetime.datetime.now()\n",
    "elapsed = later-now\n",
    "print(\"Time: \", elapsed) \n",
    "#year_1960 = movies\n",
    "print(len(yrs_1960_1970))"
   ]
  },
  {
   "cell_type": "code",
   "execution_count": null,
   "metadata": {},
   "outputs": [],
   "source": [
    "import pandas as pd\n",
    "\n",
    "yrs1_df = pd.DataFrame.from_dict(yrs_1960_1970)\n",
    "yrs1_df.head()"
   ]
  },
  {
   "cell_type": "code",
   "execution_count": null,
   "metadata": {},
   "outputs": [],
   "source": [
    "yrs1_df = yrs1_df[~yrs1_df['title'].str.startswith('List')]"
   ]
  },
  {
   "cell_type": "markdown",
   "metadata": {},
   "source": [
    "After some examination, there are a few problems with this data. The language used to describe foreign films is somehwat unique, and tends to trow off the topic modeling, so it is necessesary to refine the dataset by only using english-language films. Fortunately this is a specific category on wikipedia, so in lieu of search by each year, I only need to search for english-language films. However, there are so many entries that rather than risk the function breaking in the middle and losing hours of work, I am setting it to create a backup every 10 pages. I will also collect it in two halves, so that each half will complete faster."
   ]
  },
  {
   "cell_type": "code",
   "execution_count": null,
   "metadata": {},
   "outputs": [],
   "source": [
    "now = datetime.datetime.now()\n",
    "\n",
    "wp = WikiParser()\n",
    "english_films_1 = wp.get_plots_from_year('English-language',start=0,end=430)\n",
    "\n",
    "later = datetime.datetime.now()\n",
    "elapsed = later-now\n",
    "print(\"Time: \", elapsed) \n",
    "print(len(english_films_1))"
   ]
  },
  {
   "cell_type": "code",
   "execution_count": 64,
   "metadata": {},
   "outputs": [
    {
     "name": "stdout",
     "output_type": "stream",
     "text": [
      "page: 431 parsing... . . . . . . . . .  \n",
      "page: 432 parsing... . . . . . . . . .  \n",
      "page: 433 parsing... . . . . . . . . .  \n",
      "page: 434 parsing... . . . . . . . . .  \n",
      "page: 435 parsing... . . . . . . . . .  \n",
      "page: 436 parsing... . . . . . . . . .  \n",
      "page: 437 parsing... . . . . . . . . .  \n",
      "page: 438 parsing... . . . . . . . . .  \n",
      "page: 439 parsing... . . . . . . . . .  \n",
      "page: 440 parsing... . . . . . . . . .  \n",
      "page: 441 parsing... . . . . . . . . .  \n",
      "page: 442 parsing... . . . . . . . . .  \n",
      "page: 443 parsing... . . . . . . . . .  \n",
      "page: 444 parsing... . . . . . . . . .  \n",
      "page: 445 parsing... . . . . . . . . .  \n",
      "page: 446 parsing... . . . . . . . . .  \n",
      "page: 447 parsing... . . . . . . . . .  \n",
      "page: 448 parsing... . . . . . . . . .  \n",
      "page: 449 parsing... . . . . . . . . .  \n",
      "page: 450 parsing... . . . . . . . . .  \n",
      "page: 451 parsing... . . . . . . . . .  \n",
      "page: 452 parsing... . . . . . . . . .  \n",
      "page: 453 parsing... . . . . . . . . .  \n",
      "page: 454 parsing... . . . . . . . . .  \n",
      "page: 455 parsing... . . . . . . . . .  \n",
      "page: 456 parsing... . . . . . . . . .  \n",
      "page: 457 parsing... . . . . . . . . .  \n",
      "page: 458 parsing... . . . . . . . . .  \n",
      "page: 459 parsing... . . . . . . . . .  \n",
      "page: 460 parsing... . . . . . . . . .  \n",
      "page: 461 parsing... . . . . . . . . .  \n",
      "page: 462 parsing... . . . . . . . . .  \n",
      "page: 463 parsing... . . . . . . . . .  \n",
      "page: 464 parsing... . . . . . . . . .  \n",
      "page: 465 parsing... . . . . . . . . .  \n",
      "page: 466 parsing... . . . . . . . . .  \n",
      "page: 467 parsing... . . . . . . . . .  \n",
      "page: 468 parsing... . . . . . . . . .  \n",
      "page: 469 parsing... . . . . . . . . .  \n",
      "page: 470 parsing... . . . . . . . . .  \n",
      "page: 471 parsing... . . . . . . . . .  \n",
      "page: 472 parsing... . . . . . . . . .  \n",
      "page: 473 parsing... . . . . . . . . .  \n",
      "page: 474 parsing... . . . . . . . . .  \n",
      "page: 475 parsing... . . . . . . . . .  \n",
      "page: 476 parsing... . . . . . . . . .  \n",
      "page: 477 parsing... . . . . . . . . .  \n",
      "page: 478 parsing... . . . . . . . . .  \n",
      "page: 479 parsing... . . . . . . . .  \n",
      "page: 480 parsing... . . . . . . . . .  \n",
      "page: 481 parsing... . . . . . . . . .  \n",
      "page: 482 parsing... . . . . . . . . .  \n",
      "page: 483 parsing... . . . . . . . . .  \n",
      "page: 484 parsing... . . . . . . . . .  \n",
      "page: 485 parsing... . . . . . . . . .  \n",
      "page: 486 parsing... . . . . . . . . .  \n",
      "page: 487 parsing... . . . . . . . . .  \n",
      "page: 488 parsing... . . . . . . . . .  \n",
      "page: 489 parsing... . . . . . . . . .  \n",
      "page: 490 parsing... . . . . . . . . .  \n",
      "page: 491 parsing... . . . . . . . . .  \n",
      "page: 492 parsing... . . . . . . . . .  \n",
      "page: 493 parsing... . . . . . . . . .  \n",
      "page: 494 parsing... . . . . . . . . .  \n",
      "page: 495 parsing... . . . . . . . . .  \n",
      "page: 496 parsing... . . . . . . . . .  \n",
      "page: 497 parsing... . . . . . . . . .  \n",
      "page: 498 parsing... . . . . . . . . .  \n",
      "page: 499 parsing... . . . . . . . . .  \n",
      "page: 500 parsing... . . . . . . . . .  \n",
      "page: 501 parsing... . . . . . . . . .  \n",
      "page: 502 parsing... . . . . . . . . .  \n",
      "page: 503 parsing... . . . . . . . . .  \n",
      "page: 504 parsing... . . . . . . . . .  \n",
      "page: 505 parsing... . . . . . . . . .  \n",
      "page: 506 parsing... . . . . . . . . .  \n",
      "page: 507 parsing... . . . . . . . . .  \n",
      "page: 508 parsing... . . . . . . . . .  \n",
      "page: 509 parsing... . . . . . . . . .  \n",
      "page: 510 parsing... . . . . . . . . .  \n",
      "page: 511 parsing... . . . . . . . . .  \n",
      "page: 512 parsing... . . . . . . . . .  \n",
      "page: 513 parsing... . . . . . . . . .  \n",
      "page: 514 parsing... . . . . . . . . .  \n",
      "page: 515 parsing... . . . . . . . . .  \n",
      "page: 516 parsing... . . . . . . . . .  \n",
      "page: 517 parsing... . . . . . . . . .  \n",
      "page: 518 parsing... . . . . . . . . .  \n",
      "page: 519 parsing... . . . . . . . . .  \n",
      "page: 520 parsing... . . . . . . . . .  \n",
      "page: 521 parsing... . . . . . . . . .  \n",
      "page: 522 parsing... . . . . . . . . .  \n",
      "page: 523 parsing... . . . . . . . . .  \n",
      "page: 524 parsing... . . . . . . . . .  \n",
      "page: 525 parsing... . . . . . . . . .  \n",
      "page: 526 parsing... . . . . . . . . .  \n",
      "page: 527 parsing... . . . . . . . . .  \n",
      "page: 528 parsing... . . . . . . . . .  \n",
      "page: 529 parsing... . . . . . . . . .  \n",
      "page: 530 parsing... . . . . . . . . .  \n",
      "page: 531 parsing... . . . . . . . . .  \n",
      "page: 532 parsing... . . . . . . . . .  \n",
      "page: 533 parsing... . . . . . . . . .  \n",
      "page: 534 parsing... . . . . . . . . .  \n",
      "page: 535 parsing... . . . . . . . . .  \n",
      "page: 536 parsing... . . . . . . . . .  \n",
      "page: 537 parsing... . . . . . . . . .  \n",
      "page: 538 parsing... . . . . . . . . .  \n",
      "page: 539 parsing... . . . . . . . . .  \n",
      "page: 540 parsing... . . . . . . . . .  \n",
      "page: 541 parsing... . . . . . . . . .  \n",
      "page: 542 parsing... . . . . . . . . .  \n",
      "page: 543 parsing... . . . . . . . . .  \n",
      "page: 544 parsing... . . . . . . . . .  \n",
      "page: 545 parsing... . . . . . . . . .  \n",
      "page: 546 parsing... . . . . . . . . .  \n",
      "page: 547 parsing... . . . . . . . . .  \n",
      "page: 548 parsing... . . . . . . . . .  \n",
      "page: 549 parsing... . . . . . . . . .  \n",
      "page: 550 parsing... . . . . . . . . .  \n",
      "page: 551 parsing... . . . . . . . . .  \n",
      "page: 552 parsing... . . . . . . . . .  \n",
      "page: 553 parsing... . . . . . . . . .  \n",
      "page: 554 parsing... . . . . . . . . .  \n",
      "page: 555 parsing... . . . . . . . . .  \n",
      "page: 556 parsing... . . . . . . . . .  \n",
      "page: 557 parsing... . . . . . . . . .  \n",
      "page: 558 parsing... . . . . . . . . .  \n",
      "page: 559 parsing... . . . . . . . . .  \n",
      "page: 560 parsing... . . . . . . . . .  \n",
      "page: 561 parsing... . . . . . . . . .  \n",
      "page: 562 parsing... . . . . . . . . .  \n",
      "page: 563 parsing... . . . . . . . . .  \n",
      "page: 564 parsing... . . . . . . . . .  \n",
      "page: 565 parsing... . . . . . . . . .  \n",
      "page: 566 parsing... . . . . . . . . .  \n",
      "page: 567 parsing... . . . . . . . . .  \n",
      "page: 568 parsing... . . . . . . . . .  \n",
      "page: 569 parsing... . . . . . . . . .  \n",
      "page: 570 parsing... . . . . . . . . .  \n",
      "page: 571 parsing... . . . . . . . . .  \n",
      "page: 572 parsing... . . . . . . . . .  \n",
      "page: 573 parsing... . . . . . . . . .  \n",
      "page: 574 parsing... . . . . . . . . .  \n",
      "page: 575 parsing... . . . . . . . . .  \n",
      "page: 576 parsing... . . . . . . . . .  \n",
      "page: 577 parsing... . . . . . . . . .  \n",
      "page: 578 parsing... . . . . . . . . .  \n",
      "page: 579 parsing... . . . . . . . . .  \n",
      "page: 580 parsing... . . . . . . . . .  \n",
      "page: 581 parsing... . . . . . . . . .  \n",
      "page: 582 parsing... . . . . . . . . .  \n",
      "page: 583 parsing... . . . . . . . . .  \n",
      "page: 584 parsing... . . . . . . . . .  \n",
      "page: 585 parsing... . . . . . . . . .  \n",
      "page: 586 parsing... . . . . . . . . .  \n",
      "page: 587 parsing... . . . . . . . . .  \n",
      "page: 588 parsing... . . . . . . . . .  \n",
      "page: 589 parsing... . . . . . . . . .  \n",
      "page: 590 parsing... . . . . . . . . .  \n",
      "page: 591 parsing... . . . . . . . . .  \n",
      "page: 592 parsing... . . . . . . . . .  \n",
      "page: 593 parsing... . . . . . . . . .  \n",
      "page: 594 parsing... . . . . . . . . .  \n",
      "page: 595 parsing... . . . . . . . . .  \n",
      "page: 596 parsing... . . . . . . . . .  \n",
      "page: 597 parsing... . . . . . . . . .  \n",
      "page: 598 parsing... . . . . . . . . .  \n",
      "page: 599 parsing... . . . . . . . . .  \n",
      "page: 600 parsing... . . . . . . . . .  \n",
      "page: 601 parsing... . . . . . . . . .  \n",
      "Time:  4:26:49.200782\n",
      "15821\n"
     ]
    }
   ],
   "source": [
    "\n",
    "now = datetime.datetime.now()\n",
    "\n",
    "wp = WikiParser()\n",
    "english_films_2 = wp.get_plots_from_year('English-language',start=431,skip=True)\n",
    "\n",
    "later = datetime.datetime.now()\n",
    "elapsed = later-now\n",
    "print(\"Time: \", elapsed) \n",
    "print(len(english_films_2))"
   ]
  },
  {
   "cell_type": "code",
   "execution_count": 65,
   "metadata": {},
   "outputs": [
    {
     "data": {
      "text/html": [
       "<div>\n",
       "<style scoped>\n",
       "    .dataframe tbody tr th:only-of-type {\n",
       "        vertical-align: middle;\n",
       "    }\n",
       "\n",
       "    .dataframe tbody tr th {\n",
       "        vertical-align: top;\n",
       "    }\n",
       "\n",
       "    .dataframe thead th {\n",
       "        text-align: right;\n",
       "    }\n",
       "</style>\n",
       "<table border=\"1\" class=\"dataframe\">\n",
       "  <thead>\n",
       "    <tr style=\"text-align: right;\">\n",
       "      <th></th>\n",
       "      <th>summary</th>\n",
       "      <th>title</th>\n",
       "    </tr>\n",
       "  </thead>\n",
       "  <tbody>\n",
       "    <tr>\n",
       "      <th>0</th>\n",
       "      <td>nn and Raggedy Andy is a tworeel cartoon produ...</td>\n",
       "      <td>Raggedy Ann and Raggedy Andy (1941 film)</td>\n",
       "    </tr>\n",
       "    <tr>\n",
       "      <th>1</th>\n",
       "      <td>Nita a divorced mother of two boys works as a...</td>\n",
       "      <td>Raggedy Man</td>\n",
       "    </tr>\n",
       "    <tr>\n",
       "      <th>2</th>\n",
       "      <td>The film centres around the character of Tom ...</td>\n",
       "      <td>The Raggedy Rawney</td>\n",
       "    </tr>\n",
       "    <tr>\n",
       "      <th>3</th>\n",
       "      <td>In 1964 an aging overweight Italian American ...</td>\n",
       "      <td>Raging Bull</td>\n",
       "    </tr>\n",
       "    <tr>\n",
       "      <th>4</th>\n",
       "      <td>Bruce Pritchard Malcolm McDowell is a 24yearo...</td>\n",
       "      <td>The Raging Moon</td>\n",
       "    </tr>\n",
       "  </tbody>\n",
       "</table>\n",
       "</div>"
      ],
      "text/plain": [
       "                                             summary  \\\n",
       "0  nn and Raggedy Andy is a tworeel cartoon produ...   \n",
       "1   Nita a divorced mother of two boys works as a...   \n",
       "2   The film centres around the character of Tom ...   \n",
       "3   In 1964 an aging overweight Italian American ...   \n",
       "4   Bruce Pritchard Malcolm McDowell is a 24yearo...   \n",
       "\n",
       "                                      title  \n",
       "0  Raggedy Ann and Raggedy Andy (1941 film)  \n",
       "1                               Raggedy Man  \n",
       "2                        The Raggedy Rawney  \n",
       "3                               Raging Bull  \n",
       "4                           The Raging Moon  "
      ]
     },
     "execution_count": 65,
     "metadata": {},
     "output_type": "execute_result"
    }
   ],
   "source": [
    "eng1_df = pd.DataFrame(english_films_1)\n",
    "eng2_df = pd.DataFrame(english_films_2)\n",
    "eng2_df.head()"
   ]
  },
  {
   "cell_type": "code",
   "execution_count": 66,
   "metadata": {},
   "outputs": [
    {
     "data": {
      "text/plain": [
       "(15821, 2)"
      ]
     },
     "execution_count": 66,
     "metadata": {},
     "output_type": "execute_result"
    }
   ],
   "source": [
    "eng2_df.shape"
   ]
  },
  {
   "cell_type": "markdown",
   "metadata": {},
   "source": [
    "Now that I have the dataset compiled, I will save it as a json file for temporary storage, until I can get it uploaded to a MongoDB."
   ]
  },
  {
   "cell_type": "code",
   "execution_count": 67,
   "metadata": {},
   "outputs": [],
   "source": [
    "# eng1_df.to_json('data/eng_0_430.json')\n",
    "# eng2_df.to_json('data/eng_431_601.json')"
   ]
  },
  {
   "cell_type": "code",
   "execution_count": 137,
   "metadata": {},
   "outputs": [
    {
     "name": "stdout",
     "output_type": "stream",
     "text": [
      "(40184, 2)\n",
      "(15821, 2)\n"
     ]
    },
    {
     "data": {
      "text/html": [
       "<div>\n",
       "<style scoped>\n",
       "    .dataframe tbody tr th:only-of-type {\n",
       "        vertical-align: middle;\n",
       "    }\n",
       "\n",
       "    .dataframe tbody tr th {\n",
       "        vertical-align: top;\n",
       "    }\n",
       "\n",
       "    .dataframe thead th {\n",
       "        text-align: right;\n",
       "    }\n",
       "</style>\n",
       "<table border=\"1\" class=\"dataframe\">\n",
       "  <thead>\n",
       "    <tr style=\"text-align: right;\">\n",
       "      <th></th>\n",
       "      <th>summary</th>\n",
       "      <th>title</th>\n",
       "    </tr>\n",
       "  </thead>\n",
       "  <tbody>\n",
       "    <tr>\n",
       "      <th>0</th>\n",
       "      <td>nown as 1 Life On The Limit is a 2013 document...</td>\n",
       "      <td>1 (2013 film)</td>\n",
       "    </tr>\n",
       "    <tr>\n",
       "      <th>1</th>\n",
       "      <td>While on the phone with his girlfriend Jill w...</td>\n",
       "      <td>+1 (film)</td>\n",
       "    </tr>\n",
       "    <tr>\n",
       "      <th>10</th>\n",
       "      <td>Gully Mercer Mick Rossi leads a group of prol...</td>\n",
       "      <td>2:22 (2008 film)</td>\n",
       "    </tr>\n",
       "    <tr>\n",
       "      <th>100</th>\n",
       "      <td>o Christmas is a Ghanaian drama movie about Re...</td>\n",
       "      <td>6 Hours To Christmas</td>\n",
       "    </tr>\n",
       "    <tr>\n",
       "      <th>1000</th>\n",
       "      <td>r is a 1995 American romantic drama television...</td>\n",
       "      <td>The Affair (1995 film)</td>\n",
       "    </tr>\n",
       "  </tbody>\n",
       "</table>\n",
       "</div>"
      ],
      "text/plain": [
       "                                                summary  \\\n",
       "0     nown as 1 Life On The Limit is a 2013 document...   \n",
       "1      While on the phone with his girlfriend Jill w...   \n",
       "10     Gully Mercer Mick Rossi leads a group of prol...   \n",
       "100   o Christmas is a Ghanaian drama movie about Re...   \n",
       "1000  r is a 1995 American romantic drama television...   \n",
       "\n",
       "                       title  \n",
       "0              1 (2013 film)  \n",
       "1                  +1 (film)  \n",
       "10          2:22 (2008 film)  \n",
       "100     6 Hours To Christmas  \n",
       "1000  The Affair (1995 film)  "
      ]
     },
     "execution_count": 137,
     "metadata": {},
     "output_type": "execute_result"
    }
   ],
   "source": [
    "movies1_df = pd.read_json('themeter/dev/data/eng_1_430.json')\n",
    "movies2_df = pd.read_json('themeter/dev/data/eng_431_601.json')\n",
    "movies = movies1_df.append(movies2_df)\n",
    "print(movies1_df.shape)\n",
    "print(movies2_df.shape)\n",
    "movies.head()"
   ]
  },
  {
   "cell_type": "markdown",
   "metadata": {},
   "source": [
    "## Storing with MongoDB\n",
    "\n",
    "Now that I have the data backed up locally, I will attempt to store it remotely with Mongo."
   ]
  },
  {
   "cell_type": "code",
   "execution_count": 130,
   "metadata": {},
   "outputs": [
    {
     "name": "stdout",
     "output_type": "stream",
     "text": [
      "{'$clusterTime': {'clusterTime': Timestamp(1562004936, 1),\n",
      "                  'signature': {'hash': b'\\x85Y\\xca\\x85\\xbf\\xa3\\xb9\\xa8'\n",
      "                                        b'\\x8c\\x08\\n\\xe60 \\x0fP\\xe6vC\\x7f',\n",
      "                                'keyId': 6703621046206988289}},\n",
      " 'asserts': {'msg': 0, 'regular': 0, 'rollovers': 0, 'user': 0, 'warning': 0},\n",
      " 'connections': {'available': 98, 'current': 2, 'totalCreated': 26},\n",
      " 'extra_info': {'note': 'fields vary by platform', 'page_faults': 0},\n",
      " 'host': 'cluster0-shard-00-01-ykzgc.mongodb.net:27017',\n",
      " 'localTime': datetime.datetime(2019, 7, 1, 18, 15, 38, 943000),\n",
      " 'mem': {'bits': 64,\n",
      "         'mapped': 0,\n",
      "         'mappedWithJournal': 0,\n",
      "         'resident': 0,\n",
      "         'supported': True,\n",
      "         'virtual': 0},\n",
      " 'metrics': {'atlas': {'bytesInWrites': 0,\n",
      "                       'connectionPool': {'totalCreated': 278}}},\n",
      " 'network': {'bytesIn': 35770, 'bytesOut': 511897, 'numRequests': 188},\n",
      " 'ok': 1.0,\n",
      " 'opcounters': {'command': 183,\n",
      "                'delete': 0,\n",
      "                'getmore': 0,\n",
      "                'insert': 0,\n",
      "                'query': 5,\n",
      "                'update': 0},\n",
      " 'opcountersRepl': {'command': 0,\n",
      "                    'delete': 0,\n",
      "                    'getmore': 0,\n",
      "                    'insert': 0,\n",
      "                    'query': 0,\n",
      "                    'update': 0},\n",
      " 'operationTime': Timestamp(1562004936, 1),\n",
      " 'pid': 14219,\n",
      " 'process': 'mongod',\n",
      " 'repl': {'electionId': ObjectId('7fffffff0000000000000002'),\n",
      "          'hosts': ['cluster0-shard-00-00-ykzgc.mongodb.net:27017',\n",
      "                    'cluster0-shard-00-01-ykzgc.mongodb.net:27017',\n",
      "                    'cluster0-shard-00-02-ykzgc.mongodb.net:27017'],\n",
      "          'ismaster': True,\n",
      "          'lastWrite': {'lastWriteDate': datetime.datetime(2019, 7, 1, 18, 15, 36),\n",
      "                        'majorityOpTime': {'t': 2,\n",
      "                                           'ts': Timestamp(1562004936, 1)},\n",
      "                        'majorityWriteDate': datetime.datetime(2019, 7, 1, 18, 15, 36),\n",
      "                        'opTime': {'t': 2, 'ts': Timestamp(1562004936, 1)}},\n",
      "          'me': 'cluster0-shard-00-01-ykzgc.mongodb.net:27017',\n",
      "          'primary': 'cluster0-shard-00-01-ykzgc.mongodb.net:27017',\n",
      "          'rbid': 1,\n",
      "          'secondary': False,\n",
      "          'setName': 'Cluster0-shard-0',\n",
      "          'setVersion': 1,\n",
      "          'tags': {'nodeType': 'ELECTABLE',\n",
      "                   'provider': 'AWS',\n",
      "                   'region': 'US_EAST_1'}},\n",
      " 'storageEngine': {'name': 'wiredTiger',\n",
      "                   'persistent': True,\n",
      "                   'readOnly': False,\n",
      "                   'supportsCommittedReads': True,\n",
      "                   'supportsSnapshotReadConcern': True},\n",
      " 'uptime': 445911.0,\n",
      " 'uptimeEstimate': 445911,\n",
      " 'uptimeMillis': 445911681,\n",
      " 'version': '4.0.10'}\n"
     ]
    }
   ],
   "source": [
    "from pymongo import MongoClient\n",
    "from pprint import pprint\n",
    "import json\n",
    "\n",
    "with open('/Users/alexanderbailey/.secret/mongo_creds.json','r') as f:\n",
    "    params = json.load(f)\n",
    "\n",
    "url = 'mongodb+srv://zmbailey:' + params['password'] + '@cluster0-ykzgc.mongodb.net/test?retryWrites=true&w=majority'\n",
    "\n",
    "client = MongoClient(url)\n",
    "db=client.admin\n",
    "\n",
    "serverStatusResult=db.command(\"serverStatus\")\n",
    "pprint(serverStatusResult)"
   ]
  },
  {
   "cell_type": "code",
   "execution_count": 131,
   "metadata": {},
   "outputs": [],
   "source": [
    "mongodb = client.movieplots"
   ]
  },
  {
   "cell_type": "code",
   "execution_count": 134,
   "metadata": {},
   "outputs": [
    {
     "name": "stdout",
     "output_type": "stream",
     "text": [
      "[ObjectId('5d1a4e861293e4051fb185ae'), ObjectId('5d1a4e861293e4051fb185af'), ObjectId('5d1a4e861293e4051fb185b0'), ObjectId('5d1a4e861293e4051fb185b1'), ObjectId('5d1a4e861293e4051fb185b2'), ObjectId('5d1a4e861293e4051fb185b3'), ObjectId('5d1a4e861293e4051fb185b4'), ObjectId('5d1a4e861293e4051fb185b5'), ObjectId('5d1a4e861293e4051fb185b6'), ObjectId('5d1a4e861293e4051fb185b7')]\n"
     ]
    }
   ],
   "source": [
    "#mon = mongodb.movies.insert_many(movies.to_dict('records'))\n",
    "print(mon.inserted_ids[:10])"
   ]
  },
  {
   "cell_type": "code",
   "execution_count": null,
   "metadata": {},
   "outputs": [],
   "source": []
  }
 ],
 "metadata": {
  "kernelspec": {
   "display_name": "learn-env",
   "language": "python",
   "name": "learn-env"
  },
  "language_info": {
   "codemirror_mode": {
    "name": "ipython",
    "version": 3
   },
   "file_extension": ".py",
   "mimetype": "text/x-python",
   "name": "python",
   "nbconvert_exporter": "python",
   "pygments_lexer": "ipython3",
   "version": "3.7.1"
  }
 },
 "nbformat": 4,
 "nbformat_minor": 2
}

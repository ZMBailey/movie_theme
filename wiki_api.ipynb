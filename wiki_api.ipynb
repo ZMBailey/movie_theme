{
 "cells": [
  {
   "cell_type": "markdown",
   "metadata": {},
   "source": [
    "## Data Collection\n",
    "\n",
    "To build a model, I will need a large number of plot summaries. I have decided to use\n",
    "Wikipedia as a source for these summaries, since they have lengthy summaries, and they have\n",
    "lists of movies that make it easy to search.\n",
    "\n",
    "To begin with I am testing out individual queries to Wikipedia, to make sure I can pull\n",
    "multiple entries from a list."
   ]
  },
  {
   "cell_type": "code",
   "execution_count": null,
   "metadata": {},
   "outputs": [],
   "source": [
    "import requests\n",
    "\n",
    "S = requests.Session()\n",
    "\n",
    "URL = \"https://en.wikipedia.org/w/api.php\"\n",
    "\n",
    "TITLE = \"Category:1961 films|Category:1965 films\"\n",
    "\n",
    "PARAMS = {\n",
    "    'action': \"query\",\n",
    "    'list': 'categorymembers',\n",
    "    'cmtitle': TITLE,\n",
    "    'cmlimit': '10',\n",
    "    'format': \"json\",\n",
    "}\n",
    "\n",
    "R = S.get(url=URL, params=PARAMS)\n",
    "DATA = R.json()"
   ]
  },
  {
   "cell_type": "code",
   "execution_count": null,
   "metadata": {},
   "outputs": [],
   "source": [
    "print(DATA['error'])\n",
    "#[item['title'] for item in DATA['query']['categorymembers']]"
   ]
  },
  {
   "cell_type": "code",
   "execution_count": 121,
   "metadata": {},
   "outputs": [],
   "source": [
    "years = []\n",
    "URL = \"https://en.wikipedia.org/w/api.php\"\n",
    "\n",
    "for y in range(1960,1965):\n",
    "    TITLE = \"Category:\" + str(y) + \" films\"\n",
    "\n",
    "    PARAMS = {\n",
    "        'action': \"query\",\n",
    "        'list': 'categorymembers',\n",
    "        'cmtitle': TITLE,\n",
    "        'cmlimit': '10',\n",
    "        'format': \"json\",\n",
    "    }\n",
    "\n",
    "    R = S.get(url=URL, params=PARAMS)\n",
    "    DATA = R.json()\n",
    "    ids = [item['pageid'] for ind,item in enumerate(DATA['query']['categorymembers']) if ind>1]\n",
    "    years.append(ids)\n",
    "years"
   ]
  },
  {
   "cell_type": "code",
   "execution_count": 122,
   "metadata": {},
   "outputs": [
    {
     "data": {
      "text/plain": [
       "600"
      ]
     },
     "execution_count": 122,
     "metadata": {},
     "output_type": "execute_result"
    }
   ],
   "source": [
    "len(sci_fi)"
   ]
  },
  {
   "cell_type": "code",
   "execution_count": null,
   "metadata": {},
   "outputs": [],
   "source": [
    "DATA['parse']"
   ]
  },
  {
   "cell_type": "markdown",
   "metadata": {},
   "source": [
    "It is difficult to extract plaintext from the page content that the standard api returns,\n",
    "so I am testing out some wrappers for the api, which may provide extra functionality."
   ]
  },
  {
   "cell_type": "code",
   "execution_count": null,
   "metadata": {},
   "outputs": [],
   "source": [
    "from mediawiki import MediaWiki\n",
    "import wikipedia\n",
    "\n",
    "query = \"Category:1961 films\"\n",
    "\n",
    "c = wikipedia.page(pageid=years[3][6])\n",
    "c.title"
   ]
  },
  {
   "cell_type": "code",
   "execution_count": null,
   "metadata": {},
   "outputs": [],
   "source": [
    "fulltext = c.content"
   ]
  },
  {
   "cell_type": "code",
   "execution_count": null,
   "metadata": {},
   "outputs": [],
   "source": [
    "import string\n",
    "ind1 = fulltext.find('== Plot ==') + 10\n",
    "ind2 = fulltext.find('==',ind1)\n",
    "plottext = fulltext[ind1:ind2]\n",
    "plottext.replace('\\n',' ').translate(str.maketrans('','',string.punctuation))"
   ]
  },
  {
   "cell_type": "markdown",
   "metadata": {},
   "source": [
    "The `wikipedia` package automatically returns a field called `content` that contains the page as plaintext,\n",
    "so I am going to use that for the specific pages to make extracting the plot easier."
   ]
  },
  {
   "cell_type": "code",
   "execution_count": 44,
   "metadata": {},
   "outputs": [],
   "source": [
    "import datetime\n",
    "import time\n",
    "from wikiparse_movies import WikiParser"
   ]
  },
  {
   "cell_type": "code",
   "execution_count": 34,
   "metadata": {},
   "outputs": [
    {
     "name": "stdout",
     "output_type": "stream",
     "text": [
      "The autoreload extension is already loaded. To reload it, use:\n",
      "  %reload_ext autoreload\n"
     ]
    }
   ],
   "source": [
    "%load_ext autoreload\n",
    "%autoreload 2"
   ]
  },
  {
   "cell_type": "markdown",
   "metadata": {},
   "source": [
    "I have created a WikiParser object with all the functionality I need to make calls to the wikipedia api, and now I am running it to get plots from the years 1960-1965."
   ]
  },
  {
   "cell_type": "code",
   "execution_count": null,
   "metadata": {},
   "outputs": [],
   "source": [
    "now = datetime.datetime.now()\n",
    "\n",
    "wp = WikiParser()\n",
    "yrs_1960_1970 = wp.get_years(1960,1965)\n",
    "\n",
    "later = datetime.datetime.now()\n",
    "elapsed = later-now\n",
    "print(\"Time: \", elapsed) \n",
    "#year_1960 = movies\n",
    "print(len(yrs_1960_1970))"
   ]
  },
  {
   "cell_type": "code",
   "execution_count": null,
   "metadata": {},
   "outputs": [],
   "source": [
    "import pandas as pd\n",
    "\n",
    "yrs1_df = pd.DataFrame.from_dict(yrs_1960_1970)\n",
    "yrs1_df.head()"
   ]
  },
  {
   "cell_type": "code",
   "execution_count": null,
   "metadata": {},
   "outputs": [],
   "source": [
    "yrs1_df = yrs1_df[~yrs1_df['title'].str.startswith('List')]"
   ]
  },
  {
   "cell_type": "markdown",
   "metadata": {},
   "source": [
    "After some examination, there are a few problems with this data. The language used to describe foreign films it somehwat unique, and tends to trow off the topic modeling, so it is necessesary to refine the dataset by only using english-language films. Fortunately this is a specific category on wikipedia, so in lieu of search by each year, I only need to search for english-language films. "
   ]
  },
  {
   "cell_type": "code",
   "execution_count": 64,
   "metadata": {},
   "outputs": [
    {
     "name": "stdout",
     "output_type": "stream",
     "text": [
      "page: 431 parsing... . . . . . . . . .  \n",
      "page: 432 parsing... . . . . . . . . .  \n",
      "page: 433 parsing... . . . . . . . . .  \n",
      "page: 434 parsing... . . . . . . . . .  \n",
      "page: 435 parsing... . . . . . . . . .  \n",
      "page: 436 parsing... . . . . . . . . .  \n",
      "page: 437 parsing... . . . . . . . . .  \n",
      "page: 438 parsing... . . . . . . . . .  \n",
      "page: 439 parsing... . . . . . . . . .  \n",
      "page: 440 parsing... . . . . . . . . .  \n",
      "page: 441 parsing... . . . . . . . . .  \n",
      "page: 442 parsing... . . . . . . . . .  \n",
      "page: 443 parsing... . . . . . . . . .  \n",
      "page: 444 parsing... . . . . . . . . .  \n",
      "page: 445 parsing... . . . . . . . . .  \n",
      "page: 446 parsing... . . . . . . . . .  \n",
      "page: 447 parsing... . . . . . . . . .  \n",
      "page: 448 parsing... . . . . . . . . .  \n",
      "page: 449 parsing... . . . . . . . . .  \n",
      "page: 450 parsing... . . . . . . . . .  \n",
      "page: 451 parsing... . . . . . . . . .  \n",
      "page: 452 parsing... . . . . . . . . .  \n",
      "page: 453 parsing... . . . . . . . . .  \n",
      "page: 454 parsing... . . . . . . . . .  \n",
      "page: 455 parsing... . . . . . . . . .  \n",
      "page: 456 parsing... . . . . . . . . .  \n",
      "page: 457 parsing... . . . . . . . . .  \n",
      "page: 458 parsing... . . . . . . . . .  \n",
      "page: 459 parsing... . . . . . . . . .  \n",
      "page: 460 parsing... . . . . . . . . .  \n",
      "page: 461 parsing... . . . . . . . . .  \n",
      "page: 462 parsing... . . . . . . . . .  \n",
      "page: 463 parsing... . . . . . . . . .  \n",
      "page: 464 parsing... . . . . . . . . .  \n",
      "page: 465 parsing... . . . . . . . . .  \n",
      "page: 466 parsing... . . . . . . . . .  \n",
      "page: 467 parsing... . . . . . . . . .  \n",
      "page: 468 parsing... . . . . . . . . .  \n",
      "page: 469 parsing... . . . . . . . . .  \n",
      "page: 470 parsing... . . . . . . . . .  \n",
      "page: 471 parsing... . . . . . . . . .  \n",
      "page: 472 parsing... . . . . . . . . .  \n",
      "page: 473 parsing... . . . . . . . . .  \n",
      "page: 474 parsing... . . . . . . . . .  \n",
      "page: 475 parsing... . . . . . . . . .  \n",
      "page: 476 parsing... . . . . . . . . .  \n",
      "page: 477 parsing... . . . . . . . . .  \n",
      "page: 478 parsing... . . . . . . . . .  \n",
      "page: 479 parsing... . . . . . . . .  \n",
      "page: 480 parsing... . . . . . . . . .  \n",
      "page: 481 parsing... . . . . . . . . .  \n",
      "page: 482 parsing... . . . . . . . . .  \n",
      "page: 483 parsing... . . . . . . . . .  \n",
      "page: 484 parsing... . . . . . . . . .  \n",
      "page: 485 parsing... . . . . . . . . .  \n",
      "page: 486 parsing... . . . . . . . . .  \n",
      "page: 487 parsing... . . . . . . . . .  \n",
      "page: 488 parsing... . . . . . . . . .  \n",
      "page: 489 parsing... . . . . . . . . .  \n",
      "page: 490 parsing... . . . . . . . . .  \n",
      "page: 491 parsing... . . . . . . . . .  \n",
      "page: 492 parsing... . . . . . . . . .  \n",
      "page: 493 parsing... . . . . . . . . .  \n",
      "page: 494 parsing... . . . . . . . . .  \n",
      "page: 495 parsing... . . . . . . . . .  \n",
      "page: 496 parsing... . . . . . . . . .  \n",
      "page: 497 parsing... . . . . . . . . .  \n",
      "page: 498 parsing... . . . . . . . . .  \n",
      "page: 499 parsing... . . . . . . . . .  \n",
      "page: 500 parsing... . . . . . . . . .  \n",
      "page: 501 parsing... . . . . . . . . .  \n",
      "page: 502 parsing... . . . . . . . . .  \n",
      "page: 503 parsing... . . . . . . . . .  \n",
      "page: 504 parsing... . . . . . . . . .  \n",
      "page: 505 parsing... . . . . . . . . .  \n",
      "page: 506 parsing... . . . . . . . . .  \n",
      "page: 507 parsing... . . . . . . . . .  \n",
      "page: 508 parsing... . . . . . . . . .  \n",
      "page: 509 parsing... . . . . . . . . .  \n",
      "page: 510 parsing... . . . . . . . . .  \n",
      "page: 511 parsing... . . . . . . . . .  \n",
      "page: 512 parsing... . . . . . . . . .  \n",
      "page: 513 parsing... . . . . . . . . .  \n",
      "page: 514 parsing... . . . . . . . . .  \n",
      "page: 515 parsing... . . . . . . . . .  \n",
      "page: 516 parsing... . . . . . . . . .  \n",
      "page: 517 parsing... . . . . . . . . .  \n",
      "page: 518 parsing... . . . . . . . . .  \n",
      "page: 519 parsing... . . . . . . . . .  \n",
      "page: 520 parsing... . . . . . . . . .  \n",
      "page: 521 parsing... . . . . . . . . .  \n",
      "page: 522 parsing... . . . . . . . . .  \n",
      "page: 523 parsing... . . . . . . . . .  \n",
      "page: 524 parsing... . . . . . . . . .  \n",
      "page: 525 parsing... . . . . . . . . .  \n",
      "page: 526 parsing... . . . . . . . . .  \n",
      "page: 527 parsing... . . . . . . . . .  \n",
      "page: 528 parsing... . . . . . . . . .  \n",
      "page: 529 parsing... . . . . . . . . .  \n",
      "page: 530 parsing... . . . . . . . . .  \n",
      "page: 531 parsing... . . . . . . . . .  \n",
      "page: 532 parsing... . . . . . . . . .  \n",
      "page: 533 parsing... . . . . . . . . .  \n",
      "page: 534 parsing... . . . . . . . . .  \n",
      "page: 535 parsing... . . . . . . . . .  \n",
      "page: 536 parsing... . . . . . . . . .  \n",
      "page: 537 parsing... . . . . . . . . .  \n",
      "page: 538 parsing... . . . . . . . . .  \n",
      "page: 539 parsing... . . . . . . . . .  \n",
      "page: 540 parsing... . . . . . . . . .  \n",
      "page: 541 parsing... . . . . . . . . .  \n",
      "page: 542 parsing... . . . . . . . . .  \n",
      "page: 543 parsing... . . . . . . . . .  \n",
      "page: 544 parsing... . . . . . . . . .  \n",
      "page: 545 parsing... . . . . . . . . .  \n",
      "page: 546 parsing... . . . . . . . . .  \n",
      "page: 547 parsing... . . . . . . . . .  \n",
      "page: 548 parsing... . . . . . . . . .  \n",
      "page: 549 parsing... . . . . . . . . .  \n",
      "page: 550 parsing... . . . . . . . . .  \n",
      "page: 551 parsing... . . . . . . . . .  \n",
      "page: 552 parsing... . . . . . . . . .  \n",
      "page: 553 parsing... . . . . . . . . .  \n",
      "page: 554 parsing... . . . . . . . . .  \n",
      "page: 555 parsing... . . . . . . . . .  \n",
      "page: 556 parsing... . . . . . . . . .  \n",
      "page: 557 parsing... . . . . . . . . .  \n",
      "page: 558 parsing... . . . . . . . . .  \n",
      "page: 559 parsing... . . . . . . . . .  \n",
      "page: 560 parsing... . . . . . . . . .  \n",
      "page: 561 parsing... . . . . . . . . .  \n",
      "page: 562 parsing... . . . . . . . . .  \n",
      "page: 563 parsing... . . . . . . . . .  \n",
      "page: 564 parsing... . . . . . . . . .  \n",
      "page: 565 parsing... . . . . . . . . .  \n",
      "page: 566 parsing... . . . . . . . . .  \n",
      "page: 567 parsing... . . . . . . . . .  \n",
      "page: 568 parsing... . . . . . . . . .  \n",
      "page: 569 parsing... . . . . . . . . .  \n",
      "page: 570 parsing... . . . . . . . . .  \n",
      "page: 571 parsing... . . . . . . . . .  \n",
      "page: 572 parsing... . . . . . . . . .  \n",
      "page: 573 parsing... . . . . . . . . .  \n",
      "page: 574 parsing... . . . . . . . . .  \n",
      "page: 575 parsing... . . . . . . . . .  \n",
      "page: 576 parsing... . . . . . . . . .  \n",
      "page: 577 parsing... . . . . . . . . .  \n",
      "page: 578 parsing... . . . . . . . . .  \n",
      "page: 579 parsing... . . . . . . . . .  \n",
      "page: 580 parsing... . . . . . . . . .  \n",
      "page: 581 parsing... . . . . . . . . .  \n",
      "page: 582 parsing... . . . . . . . . .  \n",
      "page: 583 parsing... . . . . . . . . .  \n",
      "page: 584 parsing... . . . . . . . . .  \n",
      "page: 585 parsing... . . . . . . . . .  \n",
      "page: 586 parsing... . . . . . . . . .  \n",
      "page: 587 parsing... . . . . . . . . .  \n",
      "page: 588 parsing... . . . . . . . . .  \n",
      "page: 589 parsing... . . . . . . . . .  \n",
      "page: 590 parsing... . . . . . . . . .  \n",
      "page: 591 parsing... . . . . . . . . .  \n",
      "page: 592 parsing... . . . . . . . . .  \n",
      "page: 593 parsing... . . . . . . . . .  \n",
      "page: 594 parsing... . . . . . . . . .  \n",
      "page: 595 parsing... . . . . . . . . .  \n",
      "page: 596 parsing... . . . . . . . . .  \n",
      "page: 597 parsing... . . . . . . . . .  \n",
      "page: 598 parsing... . . . . . . . . .  \n",
      "page: 599 parsing... . . . . . . . . .  \n",
      "page: 600 parsing... . . . . . . . . .  \n",
      "page: 601 parsing... . . . . . . . . .  \n",
      "Time:  4:26:49.200782\n",
      "15821\n"
     ]
    }
   ],
   "source": [
    "#430\n",
    "#\n",
    "\n",
    "now = datetime.datetime.now()\n",
    "\n",
    "wp = WikiParser()\n",
    "english_films_2 = wp.get_plots_from_year('English-language',start=431,skip=True)\n",
    "\n",
    "later = datetime.datetime.now()\n",
    "elapsed = later-now\n",
    "print(\"Time: \", elapsed) \n",
    "#year_1960 = movies\n",
    "print(len(english_films_2))"
   ]
  },
  {
   "cell_type": "code",
   "execution_count": 65,
   "metadata": {},
   "outputs": [
    {
     "data": {
      "text/html": [
       "<div>\n",
       "<style scoped>\n",
       "    .dataframe tbody tr th:only-of-type {\n",
       "        vertical-align: middle;\n",
       "    }\n",
       "\n",
       "    .dataframe tbody tr th {\n",
       "        vertical-align: top;\n",
       "    }\n",
       "\n",
       "    .dataframe thead th {\n",
       "        text-align: right;\n",
       "    }\n",
       "</style>\n",
       "<table border=\"1\" class=\"dataframe\">\n",
       "  <thead>\n",
       "    <tr style=\"text-align: right;\">\n",
       "      <th></th>\n",
       "      <th>summary</th>\n",
       "      <th>title</th>\n",
       "    </tr>\n",
       "  </thead>\n",
       "  <tbody>\n",
       "    <tr>\n",
       "      <th>0</th>\n",
       "      <td>nn and Raggedy Andy is a tworeel cartoon produ...</td>\n",
       "      <td>Raggedy Ann and Raggedy Andy (1941 film)</td>\n",
       "    </tr>\n",
       "    <tr>\n",
       "      <th>1</th>\n",
       "      <td>Nita a divorced mother of two boys works as a...</td>\n",
       "      <td>Raggedy Man</td>\n",
       "    </tr>\n",
       "    <tr>\n",
       "      <th>2</th>\n",
       "      <td>The film centres around the character of Tom ...</td>\n",
       "      <td>The Raggedy Rawney</td>\n",
       "    </tr>\n",
       "    <tr>\n",
       "      <th>3</th>\n",
       "      <td>In 1964 an aging overweight Italian American ...</td>\n",
       "      <td>Raging Bull</td>\n",
       "    </tr>\n",
       "    <tr>\n",
       "      <th>4</th>\n",
       "      <td>Bruce Pritchard Malcolm McDowell is a 24yearo...</td>\n",
       "      <td>The Raging Moon</td>\n",
       "    </tr>\n",
       "  </tbody>\n",
       "</table>\n",
       "</div>"
      ],
      "text/plain": [
       "                                             summary  \\\n",
       "0  nn and Raggedy Andy is a tworeel cartoon produ...   \n",
       "1   Nita a divorced mother of two boys works as a...   \n",
       "2   The film centres around the character of Tom ...   \n",
       "3   In 1964 an aging overweight Italian American ...   \n",
       "4   Bruce Pritchard Malcolm McDowell is a 24yearo...   \n",
       "\n",
       "                                      title  \n",
       "0  Raggedy Ann and Raggedy Andy (1941 film)  \n",
       "1                               Raggedy Man  \n",
       "2                        The Raggedy Rawney  \n",
       "3                               Raging Bull  \n",
       "4                           The Raging Moon  "
      ]
     },
     "execution_count": 65,
     "metadata": {},
     "output_type": "execute_result"
    }
   ],
   "source": [
    "yrs4_df = pd.DataFrame(english_films_2)\n",
    "yrs4_df.head()"
   ]
  },
  {
   "cell_type": "code",
   "execution_count": 66,
   "metadata": {},
   "outputs": [
    {
     "data": {
      "text/plain": [
       "(15821, 2)"
      ]
     },
     "execution_count": 66,
     "metadata": {},
     "output_type": "execute_result"
    }
   ],
   "source": [
    "yrs4_df.shape"
   ]
  },
  {
   "cell_type": "markdown",
   "metadata": {},
   "source": [
    "Now that I have the dataset compiled, I will save it as a json file for temporary storage, until I can get it uploaded to a MongoDB."
   ]
  },
  {
   "cell_type": "code",
   "execution_count": 67,
   "metadata": {},
   "outputs": [],
   "source": [
    "yrs4_df.to_json('data/eng_431_601.json')"
   ]
  },
  {
   "cell_type": "code",
   "execution_count": null,
   "metadata": {},
   "outputs": [],
   "source": [
    "movies1_df = pd.read_json('1960_1964.json')\n",
    "movies2_df = pd.read_json('1965_1970.json')\n",
    "movies_df = movies1_df.append(movies2_df)\n",
    "print(movies_df.shape)\n",
    "movies_df.head()"
   ]
  },
  {
   "cell_type": "code",
   "execution_count": 95,
   "metadata": {},
   "outputs": [],
   "source": [
    "import pickle\n",
    "with open('samples.pkl','rb') as f:\n",
    "    data = pickle.load(f)\n",
    "m_corpus = data[0]\n",
    "m_id2word = data[1]\n",
    "sample = data[2]\n",
    "sample1 = data[3]\n",
    "sample2 = data[4]"
   ]
  },
  {
   "cell_type": "code",
   "execution_count": 106,
   "metadata": {},
   "outputs": [],
   "source": [
    "def get_tag(idx,doc,st):\n",
    "    if idx % 1000 == 0:\n",
    "        print(idx)\n",
    "    return st.tag(doc.split())\n",
    "\n",
    "def tag_words(texts, st):\n",
    "    tags = [get_tag(idx,doc,st) for idx,doc in enumerate(texts)]\n",
    "    print(tags[:10])\n",
    "    names = [set([word for word,tag in doc if tag != 'O']) for doc in tags]\n",
    "    return set.union(*names)\n"
   ]
  },
  {
   "cell_type": "code",
   "execution_count": 107,
   "metadata": {},
   "outputs": [
    {
     "name": "stdout",
     "output_type": "stream",
     "text": [
      "0\n",
      "1000\n",
      "2000\n",
      "3000\n",
      "4000\n",
      "5000\n",
      "6000\n",
      "7000\n",
      "8000\n",
      "9000\n",
      "10000\n",
      "11000\n",
      "12000\n",
      "[[('rmenian', 'O'), ('Դանիէլ', 'O'), ('is', 'O'), ('a', 'O'), ('multi', 'O'), ('award', 'O'), ('winning', 'O'), ('arthouse', 'O'), ('short', 'O'), ('film', 'O'), ('by', 'O'), ('British', 'O'), ('writer', 'O'), ('and', 'O'), ('director', 'O'), ('Garo', 'PERSON'), ('Berberian', 'PERSON'), ('telling', 'O'), ('the', 'O'), ('story', 'O'), ('of', 'O'), ('the', 'O'), ('last', 'O'), ('months', 'O'), ('of', 'O'), ('poet', 'O'), ('Taniel', 'PERSON'), ('Varoujan', 'PERSON'), ('until', 'O'), ('his', 'O'), ('murder', 'O'), ('during', 'O'), ('the', 'O'), ('Armenian', 'O'), ('Genocide', 'O'), ('at', 'O'), ('the', 'O'), ('age', 'O'), ('of', 'O'), ('31', 'O'), ('the', 'O'), ('day', 'O'), ('of', 'O'), ('his', 'O'), ('son’s', 'O'), ('birth', 'O'), ('The', 'O'), ('film', 'O'), ('is', 'O'), ('the', 'O'), ('first', 'O'), ('to', 'O'), ('deal', 'O'), ('with', 'O'), ('the', 'O'), ('story', 'O'), ('of', 'O'), ('a', 'O'), ('man', 'O'), ('considered', 'O'), ('to', 'O'), ('be', 'O'), ('one', 'O'), ('of', 'O'), ('Armenia’s', 'O'), ('greatest', 'O'), ('poets', 'O'), ('with', 'O'), ('international', 'O'), ('fame', 'O'), ('The', 'O'), ('film', 'O'), ('is', 'O'), ('loosely', 'O'), ('based', 'O'), ('on', 'O'), ('the', 'O'), ('memoirs', 'O'), ('of', 'O'), ('Aram', 'PERSON'), ('Andonian', 'PERSON'), ('a', 'O'), ('journalist', 'O'), ('arrested', 'O'), ('on', 'O'), ('the', 'O'), ('same', 'O'), ('day', 'O'), ('as', 'O'), ('Varoujan', 'PERSON'), ('on', 'O'), ('24', 'O'), ('April', 'O'), ('1915', 'O'), ('when', 'O'), ('some', 'O'), ('250', 'O'), ('Armenian', 'O'), ('intellectuals', 'O'), ('and', 'O'), ('community', 'O'), ('leaders', 'O'), ('were', 'O'), ('rounded', 'O'), ('up', 'O'), ('and', 'O'), ('deported', 'O'), ('in', 'O'), ('the', 'O'), ('first', 'O'), ('major', 'O'), ('event', 'O'), ('of', 'O'), ('the', 'O'), ('Armenian', 'O'), ('Genocide', 'O'), ('The', 'O'), ('film', 'O'), ('takes', 'O'), ('an', 'O'), ('arthouse', 'O'), ('approach', 'O'), ('to', 'O'), ('the', 'O'), ('subject', 'O'), ('seen', 'O'), ('in', 'O'), ('filmnoir', 'O'), ('with', 'O'), ('a', 'O'), ('narrative', 'O'), ('in', 'O'), ('poetry', 'O'), ('both', 'O'), ('with', 'O'), ('Varoujan’s', 'O'), ('now', 'O'), ('endangered', 'O'), ('Western', 'O'), ('Armenian', 'O'), ('language', 'O'), ('according', 'O'), ('to', 'O'), ('Unesco', 'ORGANIZATION'), ('classification', 'O'), ('read', 'O'), ('by', 'O'), ('Yegya', 'PERSON'), ('Akgun', 'PERSON'), ('and', 'O'), ('Ben', 'O'), ('Hodgson’s', 'O'), ('English', 'O'), ('poem', 'O'), ('Indelible', 'O'), ('narrated', 'O'), ('by', 'O'), ('Sean', 'PERSON'), ('Bean', 'PERSON'), ('to', 'O'), ('critical', 'O'), ('acclaim', 'O'), ('Philip', 'O'), ('Glass’s', 'O'), ('Glassworks', 'O'), ('played', 'O'), ('by', 'O'), ('Valentina', 'PERSON'), ('Lisitsa', 'PERSON'), ('Michael', 'PERSON'), ('Nyman’s', 'O'), ('Out', 'O'), ('of', 'O'), ('the', 'O'), ('Ruins', 'ORGANIZATION'), ('Jordi', 'ORGANIZATION'), ('Savall’s', 'ORGANIZATION'), ('Armenian', 'ORGANIZATION'), ('Spirit', 'ORGANIZATION'), ('and', 'O'), ('Tigran', 'PERSON'), ('Hamasyan’s', 'PERSON'), ('Luis', 'PERSON'), ('I', 'O'), ('Luso', 'O'), ('form', 'O'), ('the', 'O'), ('soundtrack', 'O')], [('of', 'O'), ('Tillies', 'ORGANIZATION'), ('Dragon', 'ORGANIZATION'), ('is', 'O'), ('an', 'O'), ('American', 'O'), ('animated', 'O'), ('film', 'O'), ('directed', 'O'), ('and', 'O'), ('written', 'O'), ('by', 'O'), ('Mike', 'PERSON'), ('Stribling', 'PERSON'), ('and', 'O'), ('animated', 'O'), ('by', 'O'), ('Steven', 'PERSON'), ('Hahn', 'PERSON'), ('The', 'O'), ('film', 'O'), ('is', 'O'), ('about', 'O'), ('a', 'O'), ('little', 'O'), ('girl', 'O'), ('named', 'O'), ('Tillie', 'PERSON'), ('who', 'O'), ('befriends', 'O'), ('a', 'O'), ('playful', 'O'), ('dragon', 'O'), ('named', 'O'), ('Herman', 'PERSON'), ('Together', 'O'), ('the', 'O'), ('two', 'O'), ('take', 'O'), ('part', 'O'), ('in', 'O'), ('a', 'O'), ('variety', 'O'), ('of', 'O'), ('adventures', 'O'), ('including', 'O'), ('Tillies', 'O'), ('struggle', 'O'), ('to', 'O'), ('protect', 'O'), ('her', 'O'), ('new', 'O'), ('friend', 'O'), ('from', 'O'), ('the', 'O'), ('people', 'O'), ('of', 'O'), ('her', 'O'), ('village', 'O'), ('who', 'O'), ('view', 'O'), ('all', 'O'), ('dragons', 'O'), ('as', 'O'), ('firebreathing', 'O'), ('maneaters', 'O'), ('in', 'O'), ('need', 'O'), ('of', 'O'), ('extermination', 'O'), ('The', 'O'), ('technical', 'O'), ('crew', 'O'), ('on', 'O'), ('this', 'O'), ('film', 'O'), ('featured', 'O'), ('a', 'O'), ('variety', 'O'), ('of', 'O'), ('former', 'O'), ('Disney', 'ORGANIZATION'), ('employees', 'O')], [('Hunter', 'PERSON'), ('is', 'O'), ('a', 'O'), ('fan', 'O'), ('film', 'O'), ('that', 'O'), ('made', 'O'), ('its', 'O'), ('debut', 'O'), ('on', 'O'), ('the', 'O'), ('internet', 'O'), ('on', 'O'), ('August', 'O'), ('30', 'O'), ('2002', 'O'), ('created', 'O'), ('by', 'O'), ('fans', 'O'), ('of', 'O'), ('the', 'O'), ('Star', 'ORGANIZATION'), ('Wars', 'ORGANIZATION'), ('franchise', 'O'), ('It', 'O'), ('is', 'O'), ('a', 'O'), ('spoof', 'O'), ('of', 'O'), ('Star', 'ORGANIZATION'), ('Wars', 'ORGANIZATION'), ('and', 'O'), ('The', 'O'), ('Crocodile', 'PERSON'), ('Hunter', 'PERSON'), ('with', 'O'), ('Boba', 'O'), ('Fett', 'O'), ('sliding', 'O'), ('into', 'O'), ('the', 'O'), ('Steve', 'PERSON'), ('Irwin', 'PERSON'), ('role', 'O'), ('hunting', 'O'), ('Jedi', 'O'), ('along', 'O'), ('with', 'O'), ('his', 'O'), ('wife', 'O'), ('Terri', 'PERSON'), ('Fett', 'PERSON'), ('While', 'O'), ('the', 'O'), ('film', 'O'), ('primarily', 'O'), ('spoofs', 'O'), ('the', 'O'), ('Star', 'ORGANIZATION'), ('Wars', 'ORGANIZATION'), ('universe', 'O'), ('in', 'O'), ('the', 'O'), ('format', 'O'), ('of', 'O'), ('a', 'O'), ('Crocodile', 'O'), ('Hunter', 'O'), ('special', 'O'), ('there', 'O'), ('are', 'O'), ('several', 'O'), ('other', 'O'), ('notable', 'O'), ('targets', 'O'), ('including', 'O'), ('swipes', 'O'), ('at', 'O'), ('Army', 'ORGANIZATION'), ('of', 'ORGANIZATION'), ('Darkness', 'ORGANIZATION'), ('Crocodile', 'ORGANIZATION'), ('Dundee', 'ORGANIZATION'), ('Star', 'ORGANIZATION'), ('Trek', 'ORGANIZATION'), ('Shaft', 'ORGANIZATION'), ('The', 'O'), ('Princess', 'O'), ('Bride', 'O'), ('and', 'O'), ('Aliens', 'O'), ('The', 'O'), ('film', 'O'), ('starts', 'O'), ('with', 'O'), ('a', 'O'), ('quick', 'O'), ('series', 'O'), ('of', 'O'), ('faux', 'O'), ('channel', 'O'), ('changes', 'O'), ('opening', 'O'), ('with', 'O'), ('a', 'O'), ('cameo', 'O'), ('appearance', 'O'), ('by', 'O'), ('Crazy', 'PERSON'), ('Watto', 'PERSON'), ('and', 'O'), ('continuing', 'O'), ('with', 'O'), ('Star', 'ORGANIZATION'), ('Wars', 'ORGANIZATION'), ('versions', 'O'), ('of', 'O'), ('Cheers', 'O'), ('and', 'O'), ('The', 'O'), ('Six', 'O'), ('Million', 'O'), ('Dollar', 'O'), ('Man', 'O'), ('The', 'O'), ('film', 'O'), ('bears', 'O'), ('the', 'O'), ('odd', 'O'), ('credit', 'O'), ('Special', 'O'), ('Thanks', 'O'), ('to', 'O'), ('Peter', 'PERSON'), ('Mayhew', 'PERSON'), ('for', 'O'), ('giving', 'O'), ('us', 'O'), ('the', 'O'), ('inspiration', 'O'), ('–', 'O'), ('thats', 'O'), ('right', 'O'), ('blame', 'O'), ('the', 'O'), ('Wookiee', 'O'), ('According', 'O'), ('to', 'O'), ('Star', 'ORGANIZATION'), ('Wars', 'ORGANIZATION'), ('Insider', 'ORGANIZATION'), ('this', 'O'), ('credit', 'O'), ('is', 'O'), ('due', 'O'), ('to', 'O'), ('a', 'O'), ('missed', 'O'), ('dinner', 'O'), ('engagement', 'O'), ('with', 'O'), ('the', 'O'), ('Star', 'ORGANIZATION'), ('Wars', 'ORGANIZATION'), ('actor', 'O'), ('which', 'O'), ('led', 'O'), ('the', 'O'), ('filmmakers', 'O'), ('to', 'O'), ('amuse', 'O'), ('themselves', 'O'), ('while', 'O'), ('waiting', 'O'), ('for', 'O'), ('him', 'O'), ('eventually', 'O'), ('hitting', 'O'), ('upon', 'O'), ('the', 'O'), ('idea', 'O'), ('that', 'O'), ('became', 'O'), ('this', 'O'), ('film', 'O'), ('They', 'O'), ('goodnaturedly', 'O'), ('credit', 'O'), ('his', 'O'), ('not', 'O'), ('appearing', 'O'), ('at', 'O'), ('dinner', 'O'), ('with', 'O'), ('kickstarting', 'O'), ('the', 'O'), ('film', 'O'), ('The', 'O'), ('film', 'O'), ('has', 'O'), ('played', 'O'), ('at', 'O'), ('many', 'O'), ('film', 'O'), ('festivals', 'O'), ('and', 'O'), ('proven', 'O'), ('popular', 'O'), ('with', 'O'), ('Star', 'ORGANIZATION'), ('Wars', 'ORGANIZATION'), ('fans', 'O'), ('winning', 'O'), ('several', 'O'), ('awards', 'O'), ('including', 'O'), ('Best', 'O'), ('Visual', 'O'), ('Effects', 'O'), ('at', 'O'), ('the', 'O'), ('2003', 'O'), ('Dahlonega', 'ORGANIZATION'), ('International', 'ORGANIZATION'), ('Film', 'ORGANIZATION'), ('Festival', 'ORGANIZATION'), ('and', 'O'), ('the', 'O'), ('Audience', 'O'), ('Choice', 'O'), ('Award', 'O'), ('in', 'O'), ('the', 'O'), ('Lucasfilmsponsored', 'O'), ('2003', 'O'), ('Official', 'O'), ('Star', 'O'), ('Wars', 'O'), ('Fan', 'O'), ('Film', 'O'), ('Awards', 'O'), ('In', 'O'), ('August', 'O'), ('2010', 'O'), ('Time', 'ORGANIZATION'), ('magazine', 'ORGANIZATION'), ('listed', 'O'), ('it', 'O'), ('as', 'O'), ('one', 'O'), ('of', 'O'), ('the', 'O'), ('Top', 'O'), ('10', 'O'), ('Star', 'ORGANIZATION'), ('Wars', 'ORGANIZATION'), ('fanfilms', 'O')], [('Ethan', 'PERSON'), ('Mascarenhas', 'PERSON'), ('Hrithik', 'PERSON'), ('Roshan', 'PERSON'), ('is', 'O'), ('a', 'O'), ('former', 'O'), ('magician', 'O'), ('who', 'O'), ('is', 'O'), ('a', 'O'), ('quadriplegic', 'O'), ('He', 'O'), ('becomes', 'O'), ('the', 'O'), ('Radio', 'O'), ('Jockey', 'O'), ('of', 'O'), ('an', 'O'), ('FM', 'O'), ('Station', 'O'), ('called', 'O'), ('Radio', 'O'), ('Zindagi', 'O'), ('His', 'O'), ('show', 'O'), ('spreads', 'O'), ('magic', 'O'), ('hope', 'O'), ('and', 'O'), ('laughter', 'O'), ('through', 'O'), ('his', 'O'), ('irrepressible', 'O'), ('wit', 'O'), ('and', 'O'), ('humor', 'O'), ('to', 'O'), ('every', 'O'), ('listener', 'O'), ('and', 'O'), ('caller', 'O'), ('making', 'O'), ('it', 'O'), ('difficult', 'O'), ('to', 'O'), ('imagine', 'O'), ('that', 'O'), ('this', 'O'), ('is', 'O'), ('a', 'O'), ('man', 'O'), ('who', 'O'), ('has', 'O'), ('been', 'O'), ('immobilized', 'O'), ('with', 'O'), ('a', 'O'), ('spinal', 'O'), ('injury', 'O'), ('for', 'O'), ('the', 'O'), ('last', 'O'), ('fourteen', 'O'), ('years', 'O'), ('Sofia', 'LOCATION'), ('DSouza', 'O'), ('Aishwarya', 'PERSON'), ('Rai', 'PERSON'), ('is', 'O'), ('his', 'O'), ('nurse', 'O'), ('who', 'O'), ('has', 'O'), ('been', 'O'), ('accompanying', 'O'), ('him', 'O'), ('for', 'O'), ('the', 'O'), ('past', 'O'), ('twelve', 'O'), ('years', 'O'), ('On', 'O'), ('the', 'O'), ('fourteenth', 'O'), ('anniversary', 'O'), ('of', 'O'), ('his', 'O'), ('accident', 'O'), ('Ethan', 'PERSON'), ('decides', 'O'), ('to', 'O'), ('file', 'O'), ('an', 'O'), ('appeal', 'O'), ('to', 'O'), ('the', 'O'), ('court', 'O'), ('for', 'O'), ('mercy', 'O'), ('killing', 'O'), ('Ethan', 'PERSON'), ('takes', 'O'), ('the', 'O'), ('help', 'O'), ('of', 'O'), ('his', 'O'), ('best', 'O'), ('friend', 'O'), ('and', 'O'), ('lawyer', 'O'), ('Devyani', 'PERSON'), ('Dutta', 'PERSON'), ('Shernaz', 'PERSON'), ('Patel', 'PERSON'), ('to', 'O'), ('support', 'O'), ('his', 'O'), ('appeal', 'O'), ('Devyani', 'PERSON'), ('understands', 'O'), ('Ethans', 'O'), ('appeal', 'O'), ('and', 'O'), ('agrees', 'O'), ('to', 'O'), ('his', 'O'), ('reasoning', 'O'), ('and', 'O'), ('decides', 'O'), ('to', 'O'), ('support', 'O'), ('him', 'O'), ('in', 'O'), ('his', 'O'), ('cause', 'O'), ('Surprising', 'O'), ('everyone', 'O'), ('with', 'O'), ('her', 'O'), ('stance', 'O'), ('Ethans', 'O'), ('mother', 'O'), ('Isabel', 'PERSON'), ('Mascarenhas', 'PERSON'), ('Nafisa', 'PERSON'), ('Ali', 'PERSON'), ('also', 'O'), ('supports', 'O'), ('him', 'O'), ('in', 'O'), ('his', 'O'), ('petition', 'O'), ('backing', 'O'), ('her', 'O'), ('sons', 'O'), ('demand', 'O'), ('Ethans', 'O'), ('physician', 'O'), ('Dr', 'PERSON'), ('Nayak', 'PERSON'), ('Suhel', 'PERSON'), ('Seth', 'PERSON'), ('with', 'O'), ('whom', 'O'), ('he', 'O'), ('has', 'O'), ('consistently', 'O'), ('persuaded', 'O'), ('to', 'O'), ('retract', 'O'), ('his', 'O'), ('case', 'O'), ('he', 'O'), ('finally', 'O'), ('relents', 'O'), ('to', 'O'), ('Ethans', 'O'), ('appeal', 'O'), ('when', 'O'), ('he', 'O'), ('realizes', 'O'), ('that', 'O'), ('the', 'O'), ('friend', 'O'), ('in', 'O'), ('him', 'O'), ('is', 'O'), ('much', 'O'), ('stronger', 'O'), ('than', 'O'), ('the', 'O'), ('medic', 'O'), ('In', 'O'), ('the', 'O'), ('meantime', 'O'), ('a', 'O'), ('young', 'O'), ('man', 'O'), ('named', 'O'), ('Omar', 'PERSON'), ('Siddiqui', 'PERSON'), ('Aditya', 'PERSON'), ('Roy', 'PERSON'), ('Kapur', 'PERSON'), ('enters', 'O'), ('Ethans', 'O'), ('life', 'O'), ('to', 'O'), ('learn', 'O'), ('magic', 'O'), ('from', 'O'), ('him', 'O'), ('whom', 'O'), ('he', 'O'), ('considers', 'O'), ('to', 'O'), ('be', 'O'), ('the', 'O'), ('greatest', 'O'), ('of', 'O'), ('magicians', 'O'), ('Impressed', 'O'), ('by', 'O'), ('his', 'O'), ('love', 'O'), ('for', 'O'), ('magic', 'O'), ('Ethan', 'PERSON'), ('agrees', 'O'), ('to', 'O'), ('pass', 'O'), ('on', 'O'), ('his', 'O'), ('legacy', 'O'), ('to', 'O'), ('Omar', 'PERSON'), ('Later', 'PERSON'), ('Omar', 'PERSON'), ('confesses', 'O'), ('to', 'O'), ('Ethan', 'PERSON'), ('that', 'O'), ('he', 'O'), ('is', 'O'), ('the', 'O'), ('son', 'O'), ('of', 'O'), ('Yassar', 'PERSON'), ('Siddiqui', 'PERSON'), ('who', 'O'), ('happens', 'O'), ('to', 'O'), ('be', 'O'), ('responsible', 'O'), ('for', 'O'), ('causing', 'O'), ('Ethan’s', 'O'), ('accident', 'O'), ('Ethan', 'PERSON'), ('knew', 'O'), ('of', 'O'), ('this', 'O'), ('the', 'O'), ('entire', 'O'), ('time', 'O'), ('yet', 'O'), ('that', 'O'), ('didn’t', 'O'), ('come', 'O'), ('in', 'O'), ('the', 'O'), ('way', 'O'), ('of', 'O'), ('passing', 'O'), ('his', 'O'), ('legacy', 'O'), ('to', 'O'), ('Omar', 'O'), ('On', 'O'), ('the', 'O'), ('day', 'O'), ('of', 'O'), ('verdict', 'O'), ('Ethans', 'O'), ('plea', 'O'), ('is', 'O'), ('rejected', 'O'), ('by', 'O'), ('the', 'O'), ('court', 'O'), ('saying', 'O'), ('the', 'O'), ('legal', 'O'), ('code', 'O'), ('of', 'O'), ('the', 'O'), ('country', 'O'), ('cannot', 'O'), ('be', 'O'), ('violated', 'O'), ('in', 'O'), ('any', 'O'), ('circumstance', 'O'), ('Ethan', 'PERSON'), ('spends', 'O'), ('his', 'O'), ('time', 'O'), ('alone', 'O'), ('in', 'O'), ('his', 'O'), ('empty', 'O'), ('home', 'O'), ('when', 'O'), ('Sofia', 'LOCATION'), ('returns', 'O'), ('She', 'O'), ('confesses', 'O'), ('to', 'O'), ('Ethan', 'PERSON'), ('that', 'O'), ('she', 'O'), ('got', 'O'), ('the', 'O'), ('divorce', 'O'), ('and', 'O'), ('tells', 'O'), ('him', 'O'), ('that', 'O'), ('she', 'O'), ('will', 'O'), ('help', 'O'), ('with', 'O'), ('his', 'O'), ('euthanasia', 'O'), ('whatever', 'O'), ('the', 'O'), ('consequences', 'O'), ('be', 'O'), ('as', 'O'), ('Ethan', 'PERSON'), ('means', 'O'), ('more', 'O'), ('to', 'O'), ('her', 'O'), ('On', 'O'), ('hearing', 'O'), ('her', 'O'), ('words', 'O'), ('Ethan', 'PERSON'), ('realizes', 'O'), ('how', 'O'), ('much', 'O'), ('Sofia', 'LOCATION'), ('loves', 'O'), ('him', 'O'), ('He', 'O'), ('proposes', 'O'), ('to', 'O'), ('her', 'O'), ('and', 'O'), ('Sofia', 'LOCATION'), ('agrees', 'O'), ('Ethan', 'PERSON'), ('throws', 'O'), ('a', 'O'), ('farewell', 'O'), ('party', 'O'), ('for', 'O'), ('their', 'O'), ('friends', 'O'), ('and', 'O'), ('guests', 'O'), ('where', 'O'), ('Ethan', 'PERSON'), ('speaks', 'O'), ('about', 'O'), ('everyone', 'O'), ('who', 'O'), ('has', 'O'), ('meant', 'O'), ('very', 'O'), ('dear', 'O'), ('to', 'O'), ('him', 'O'), ('and', 'O'), ('finally', 'O'), ('tells', 'O'), ('everyone', 'O'), ('about', 'O'), ('his', 'O'), ('and', 'O'), ('Sofias', 'PERSON'), ('love', 'O'), ('Ethan', 'PERSON'), ('says', 'O'), ('that', 'O'), ('he', 'O'), ('will', 'O'), ('be', 'O'), ('dying', 'O'), ('a', 'O'), ('happy', 'O'), ('man', 'O'), ('with', 'O'), ('no', 'O'), ('regrets', 'O'), ('and', 'O'), ('a', 'O'), ('heart', 'O'), ('full', 'O'), ('of', 'O'), ('Sofias', 'O'), ('love', 'O'), ('and', 'O'), ('bids', 'O'), ('all', 'O'), ('goodbye', 'O'), ('At', 'O'), ('these', 'O'), ('words', 'O'), ('all', 'O'), ('the', 'O'), ('guests', 'O'), ('embrace', 'O'), ('him', 'O'), ('with', 'O'), ('Ethan', 'PERSON'), ('laughing', 'O'), ('heartily', 'O')], [('The', 'O'), ('film', 'O'), ('tells', 'O'), ('the', 'O'), ('story', 'O'), ('of', 'O'), ('Lieutenant', 'O'), ('Roger', 'PERSON'), ('Carrington', 'PERSON'), ('Berry', 'PERSON'), ('a', 'O'), ('soldier', 'O'), ('fighting', 'O'), ('for', 'O'), ('the', 'O'), ('United', 'ORGANIZATION'), ('States', 'ORGANIZATION'), ('Army', 'ORGANIZATION'), ('Air', 'ORGANIZATION'), ('Forces', 'ORGANIZATION'), ('during', 'O'), ('the', 'O'), ('closing', 'O'), ('days', 'O'), ('of', 'O'), ('World', 'O'), ('War', 'O'), ('II', 'O'), ('After', 'O'), ('accidentally', 'O'), ('falling', 'O'), ('out', 'O'), ('of', 'O'), ('a', 'O'), ('plane', 'O'), ('and', 'O'), ('landing', 'O'), ('in', 'O'), ('German', 'O'), ('territory', 'O'), ('he', 'O'), ('is', 'O'), ('hidden', 'O'), ('by', 'O'), ('a', 'O'), ('local', 'O'), ('baroness', 'O'), ('named', 'O'), ('Marlene', 'PERSON'), ('Gabor', 'PERSON'), ('Luckily', 'PERSON'), ('Marlene', 'PERSON'), ('is', 'O'), ('against', 'O'), ('the', 'O'), ('Nazis', 'ORGANIZATION'), ('and', 'O'), ('sympathizes', 'O'), ('with', 'O'), ('Carrington', 'PERSON'), ('taking', 'O'), ('him', 'O'), ('under', 'O'), ('her', 'O'), ('wing', 'O'), ('to', 'O'), ('recover', 'O'), ('and', 'O'), ('eventually', 'O'), ('falling', 'O'), ('in', 'O'), ('love', 'O'), ('with', 'O'), ('him', 'O'), ('Unfortunately', 'O'), ('when', 'O'), ('World', 'O'), ('War', 'O'), ('II', 'O'), ('ends', 'O'), ('Marlene', 'PERSON'), ('realizes', 'O'), ('that', 'O'), ('Carrington', 'PERSON'), ('will', 'O'), ('leave', 'O'), ('when', 'O'), ('he', 'O'), ('finds', 'O'), ('this', 'O'), ('out', 'O'), ('Not', 'O'), ('wanting', 'O'), ('him', 'O'), ('to', 'O'), ('go', 'O'), ('yet', 'O'), ('she', 'O'), ('decides', 'O'), ('not', 'O'), ('to', 'O'), ('tell', 'O'), ('him', 'O'), ('about', 'O'), ('the', 'O'), ('war', 'O'), ('ending', 'O'), ('so', 'O'), ('he', 'O'), ('will', 'O'), ('stay', 'O'), ('and', 'O'), ('she', 'O'), ('manages', 'O'), ('to', 'O'), ('keep', 'O'), ('him', 'O'), ('with', 'O'), ('her', 'O'), ('for', 'O'), ('nearly', 'O'), ('five', 'O'), ('years', 'O'), ('Around', 'O'), ('then', 'O'), ('is', 'O'), ('when', 'O'), ('Carrington', 'PERSON'), ('convinces', 'O'), ('himself', 'O'), ('that', 'O'), ('its', 'O'), ('his', 'O'), ('duty', 'O'), ('to', 'O'), ('continue', 'O'), ('fighting', 'O'), ('and', 'O'), ('he', 'O'), ('leaves', 'O'), ('Marlenes', 'O'), ('estate', 'O'), ('not', 'O'), ('realizing', 'O'), ('hes', 'O'), ('now', 'O'), ('in', 'O'), ('a', 'O'), ('peacetime', 'O'), ('country', 'O'), ('The', 'O'), ('only', 'O'), ('problem', 'O'), ('is', 'O'), ('no', 'O'), ('one', 'O'), ('can', 'O'), ('tell', 'O'), ('him', 'O'), ('the', 'O'), ('war', 'O'), ('is', 'O'), ('over', 'O'), ('because', 'O'), ('no', 'O'), ('one', 'O'), ('around', 'O'), ('him', 'O'), ('speaks', 'O'), ('English', 'O'), ('including', 'O'), ('the', 'O'), ('Baroness', 'PERSON'), ('maid', 'O'), ('Eva', 'PERSON'), ('who', 'O'), ('accompanies', 'O'), ('him', 'O')], [('is', 'O'), ('a', 'O'), ('1929', 'O'), ('American', 'O'), ('comedy', 'O'), ('film', 'O'), ('directed', 'O'), ('by', 'O'), ('Mervyn', 'PERSON'), ('LeRoy', 'PERSON'), ('and', 'O'), ('written', 'O'), ('by', 'O'), ('Robert', 'PERSON'), ('S', 'PERSON'), ('Carr', 'PERSON'), ('Humphrey', 'PERSON'), ('Pearson', 'PERSON'), ('and', 'O'), ('Louis', 'PERSON'), ('Stevens', 'PERSON'), ('It', 'O'), ('stars', 'O'), ('Alice', 'PERSON'), ('White', 'PERSON'), ('and', 'O'), ('features', 'O'), ('Louise', 'PERSON'), ('Fazenda', 'PERSON'), ('William', 'PERSON'), ('Bakewell', 'PERSON'), ('Doris', 'PERSON'), ('Dawson', 'PERSON'), ('Ben', 'PERSON'), ('Hall', 'PERSON'), ('and', 'O'), ('Charles', 'PERSON'), ('Sellon', 'PERSON'), ('The', 'O'), ('film', 'O'), ('was', 'O'), ('released', 'O'), ('by', 'O'), ('First', 'ORGANIZATION'), ('National', 'ORGANIZATION'), ('Pictures', 'ORGANIZATION'), ('on', 'O'), ('May', 'O'), ('5', 'O'), ('1929', 'O')], [('teloff', 'O'), ('Memoirs', 'O'), ('of', 'O'), ('a', 'O'), ('Bookseller', 'O'), ('is', 'O'), ('a', 'O'), ('1987', 'O'), ('American', 'O'), ('short', 'O'), ('documentary', 'O'), ('film', 'O'), ('produced', 'O'), ('by', 'O'), ('Deborah', 'PERSON'), ('Dickson', 'PERSON'), ('It', 'O'), ('follows', 'O'), ('Frances', 'PERSON'), ('Steloff', 'PERSON'), ('the', 'O'), ('founder', 'O'), ('of', 'O'), ('the', 'O'), ('Gotham', 'ORGANIZATION'), ('Book', 'ORGANIZATION'), ('Mart', 'ORGANIZATION'), ('in', 'O'), ('New', 'LOCATION'), ('York', 'LOCATION'), ('City', 'LOCATION'), ('a', 'O'), ('center', 'O'), ('for', 'O'), ('avantgarde', 'O'), ('literature', 'O'), ('and', 'O'), ('literati', 'O'), ('since', 'O'), ('1920', 'O'), ('It', 'O'), ('was', 'O'), ('nominated', 'O'), ('for', 'O'), ('an', 'O'), ('Academy', 'O'), ('Award', 'O'), ('for', 'O'), ('Best', 'ORGANIZATION'), ('Documentary', 'ORGANIZATION'), ('Short', 'ORGANIZATION')], [('A', 'O'), ('scientist', 'O'), ('and', 'O'), ('neoNazi', 'O'), ('doctor', 'O'), ('named', 'O'), ('Serafin', 'PERSON'), ('has', 'O'), ('developed', 'O'), ('a', 'O'), ('way', 'O'), ('to', 'O'), ('create', 'O'), ('a', 'O'), ('physically', 'O'), ('superior', 'O'), ('human', 'O'), ('being', 'O'), ('He', 'O'), ('tests', 'O'), ('it', 'O'), ('out', 'O'), ('on', 'O'), ('his', 'O'), ('adopted', 'O'), ('daughter', 'O'), ('Goldine', 'O'), ('From', 'O'), ('childhood', 'O'), ('Goldines', 'O'), ('father', 'O'), ('has', 'O'), ('injected', 'O'), ('her', 'O'), ('with', 'O'), ('vitamins', 'O'), ('and', 'O'), ('hormones', 'O'), ('Now', 'O'), ('that', 'O'), ('she', 'O'), ('is', 'O'), ('grown', 'O'), ('it', 'O'), ('is', 'O'), ('time', 'O'), ('to', 'O'), ('give', 'O'), ('her', 'O'), ('a', 'O'), ('test', 'O'), ('run', 'O'), ('Serafin', 'PERSON'), ('declares', 'O'), ('that', 'O'), ('his', 'O'), ('Goldengirl', 'ORGANIZATION'), ('will', 'O'), ('enter', 'O'), ('and', 'O'), ('win', 'O'), ('three', 'O'), ('races', 'O'), ('at', 'O'), ('the', 'O'), ('1980', 'O'), ('Summer', 'O'), ('Olympics', 'O'), ('in', 'O'), ('Moscow', 'LOCATION'), ('To', 'O'), ('subsidize', 'O'), ('his', 'O'), ('work', 'O'), ('Serafin', 'PERSON'), ('sells', 'O'), ('shares', 'O'), ('in', 'O'), ('his', 'O'), ('daughters', 'O'), ('future', 'O'), ('to', 'O'), ('a', 'O'), ('syndicate', 'O'), ('of', 'O'), ('businessmen', 'O'), ('who', 'O'), ('send', 'O'), ('merchandising', 'O'), ('expert', 'O'), ('Dryden', 'PERSON'), ('to', 'O'), ('look', 'O'), ('out', 'O'), ('for', 'O'), ('their', 'O'), ('interests', 'O'), ('Goldines', 'O'), ('personal', 'O'), ('and', 'O'), ('emotional', 'O'), ('development', 'O'), ('meanwhile', 'O'), ('is', 'O'), ('left', 'O'), ('in', 'O'), ('the', 'O'), ('hands', 'O'), ('of', 'O'), ('a', 'O'), ('psychologist', 'O'), ('Dr', 'PERSON'), ('Sammy', 'PERSON'), ('Lee', 'PERSON'), ('Goldine', 'PERSON'), ('competes', 'O'), ('in', 'O'), ('Moscow', 'LOCATION'), ('with', 'O'), ('unexpected', 'O'), ('results', 'O')], [('Picking', 'O'), ('up', 'O'), ('after', 'O'), ('the', 'O'), ('story', 'O'), ('of', 'O'), ('a', 'O'), ('man', 'O'), ('whos', 'O'), ('had', 'O'), ('a', 'O'), ('successful', 'O'), ('film', 'O'), ('career', 'O'), ('but', 'O'), ('since', 'O'), ('falling', 'O'), ('on', 'O'), ('hard', 'O'), ('times', 'O'), ('can', 'O'), ('only', 'O'), ('find', 'O'), ('employment', 'O'), ('working', 'O'), ('in', 'O'), ('the', 'O'), ('adult', 'O'), ('entertainment', 'O'), ('industry', 'O'), ('as', 'O'), ('a', 'O'), ('means', 'O'), ('to', 'O'), ('provide', 'O'), ('for', 'O'), ('his', 'O'), ('family', 'O'), ('Based', 'O'), ('on', 'O'), ('a', 'O'), ('true', 'O'), ('story', 'O'), ('My', 'O'), ('Trip', 'O'), ('to', 'O'), ('the', 'O'), ('Dark', 'O'), ('Side', 'O'), ('is', 'O'), ('one', 'O'), ('man’s', 'O'), ('journey', 'O'), ('traveling', 'O'), ('from', 'O'), ('the', 'O'), ('pinnacle', 'O'), ('of', 'O'), ('a', 'O'), ('Hollywood', 'LOCATION'), ('career', 'O'), ('which', 'O'), ('takes', 'O'), ('an', 'O'), ('unexpected', 'O'), ('turn', 'O'), ('into', 'O'), ('the', 'O'), ('dark', 'O'), ('and', 'O'), ('deceptive', 'O'), ('world', 'O'), ('of', 'O'), ('the', 'O'), ('adult', 'O'), ('entertainment', 'O'), ('industry', 'O')], [('Mr', 'PERSON'), ('Quincy', 'PERSON'), ('Magoo', 'PERSON'), ('Leslie', 'PERSON'), ('Nielsen', 'PERSON'), ('a', 'O'), ('wealthy', 'O'), ('canned', 'O'), ('vegetable', 'O'), ('factory', 'O'), ('owner', 'O'), ('goes', 'O'), ('to', 'O'), ('the', 'O'), ('museum', 'O'), ('to', 'O'), ('attend', 'O'), ('a', 'O'), ('party', 'O'), ('While', 'O'), ('there', 'O'), ('Waldo', 'PERSON'), ('Matt', 'PERSON'), ('Keeslar', 'PERSON'), ('Mr', 'PERSON'), ('Magoos', 'PERSON'), ('nephew', 'O'), ('spies', 'O'), ('a', 'O'), ('woman', 'O'), ('named', 'O'), ('Stacey', 'PERSON'), ('Sampanahoditra', 'PERSON'), ('Jennifer', 'PERSON'), ('Garner', 'PERSON'), ('on', 'O'), ('whom', 'O'), ('he', 'O'), ('develops', 'O'), ('a', 'O'), ('crush', 'O'), ('Later', 'O'), ('that', 'O'), ('night', 'O'), ('jewel', 'O'), ('thieves', 'O'), ('Luanne', 'PERSON'), ('LeSeur', 'PERSON'), ('Kelly', 'PERSON'), ('Lynch', 'PERSON'), ('and', 'O'), ('Bob', 'PERSON'), ('Morgan', 'PERSON'), ('Nick', 'PERSON'), ('Chinlund', 'PERSON'), ('steal', 'O'), ('the', 'O'), ('museums', 'O'), ('beautiful', 'O'), ('ruby', 'O'), ('The', 'O'), ('Star', 'O'), ('of', 'O'), ('Kuristan', 'O'), ('and', 'O'), ('escape', 'O'), ('on', 'O'), ('a', 'O'), ('boat', 'O'), ('to', 'O'), ('Austin', 'LOCATION'), ('Cloquet', 'PERSON'), ('Malcolm', 'PERSON'), ('McDowell', 'PERSON'), ('Bobs', 'O'), ('boss', 'O'), ('Meanwhile', 'O'), ('Mr', 'PERSON'), ('Magoo', 'PERSON'), ('and', 'O'), ('his', 'O'), ('dog', 'O'), ('Angus', 'PERSON'), ('go', 'O'), ('fishing', 'O'), ('in', 'O'), ('the', 'O'), ('same', 'O'), ('area', 'O'), ('as', 'O'), ('the', 'O'), ('jewel', 'O'), ('thieves', 'O'), ('boat', 'O'), ('Luanne', 'PERSON'), ('picks', 'O'), ('a', 'O'), ('fight', 'O'), ('with', 'O'), ('Bob', 'PERSON'), ('and', 'O'), ('in', 'O'), ('the', 'O'), ('scuffle', 'O'), ('they', 'O'), ('lose', 'O'), ('the', 'O'), ('ruby', 'O'), ('which', 'O'), ('lands', 'O'), ('in', 'O'), ('Mr', 'PERSON'), ('Magoos', 'PERSON'), ('boat', 'O'), ('unbeknownst', 'O'), ('to', 'O'), ('Magoo', 'PERSON'), ('Bob', 'PERSON'), ('goes', 'O'), ('after', 'O'), ('the', 'O'), ('ruby', 'O'), ('but', 'O'), ('fails', 'O'), ('by', 'O'), ('falling', 'O'), ('onto', 'O'), ('the', 'O'), ('paddle', 'O'), ('wheel', 'O'), ('of', 'O'), ('a', 'O'), ('paddle', 'O'), ('boat', 'O'), ('At', 'O'), ('the', 'O'), ('museum', 'O'), ('the', 'O'), ('curator', 'O'), ('and', 'O'), ('Stacey', 'PERSON'), ('send', 'O'), ('two', 'O'), ('agents', 'O'), ('Gustav', 'PERSON'), ('Anders', 'PERSON'), ('of', 'O'), ('the', 'O'), ('CIA', 'ORGANIZATION'), ('Ernie', 'ORGANIZATION'), ('Hudson', 'ORGANIZATION'), ('and', 'O'), ('Chuck', 'PERSON'), ('Stupak', 'PERSON'), ('of', 'O'), ('the', 'O'), ('FBI', 'ORGANIZATION'), ('Stephen', 'PERSON'), ('Tobolowsky', 'PERSON'), ('to', 'O'), ('track', 'O'), ('down', 'O'), ('the', 'O'), ('ruby', 'O'), ('and', 'O'), ('spy', 'O'), ('on', 'O'), ('Mr', 'PERSON'), ('Magoo', 'PERSON'), ('whom', 'O'), ('they', 'O'), ('believe', 'O'), ('stole', 'O'), ('the', 'O'), ('ruby', 'O'), ('Stacey', 'PERSON'), ('mentions', 'O'), ('she', 'O'), ('was', 'O'), ('invited', 'O'), ('to', 'O'), ('the', 'O'), ('opera', 'O'), ('where', 'O'), ('the', 'O'), ('Magoos', 'O'), ('go', 'O'), ('that', 'O'), ('night', 'O'), ('Anders', 'PERSON'), ('and', 'O'), ('Stupak', 'PERSON'), ('also', 'O'), ('visit', 'O'), ('the', 'O'), ('opera', 'O'), ('to', 'O'), ('look', 'O'), ('for', 'O'), ('Mr', 'PERSON'), ('Magoo', 'PERSON'), ('who', 'O'), ('is', 'O'), ('in', 'O'), ('the', 'O'), ('show', 'O'), ('At', 'O'), ('the', 'O'), ('opera', 'O'), ('Mr', 'PERSON'), ('Magoo', 'PERSON'), ('meets', 'O'), ('Luanne', 'PERSON'), ('who', 'O'), ('pretends', 'O'), ('to', 'O'), ('be', 'O'), ('a', 'O'), ('magazine', 'O'), ('reporter', 'O'), ('named', 'O'), ('Prunella', 'O'), ('Pagliachi', 'O'), ('She', 'O'), ('wishes', 'O'), ('Mr', 'PERSON'), ('Magoo', 'PERSON'), ('luck', 'O'), ('at', 'O'), ('the', 'O'), ('opera', 'O'), ('who', 'O'), ('immediately', 'O'), ('takes', 'O'), ('a', 'O'), ('liking', 'O'), ('to', 'O'), ('her', 'O'), ('Stupak', 'PERSON'), ('sneaks', 'O'), ('on', 'O'), ('the', 'O'), ('stage', 'O'), ('and', 'O'), ('fails', 'O'), ('to', 'O'), ('find', 'O'), ('any', 'O'), ('clue', 'O'), ('about', 'O'), ('Mr', 'PERSON'), ('Magoo', 'PERSON'), ('with', 'O'), ('Mr', 'PERSON'), ('Magoo', 'PERSON'), ('accidentally', 'O'), ('hitting', 'O'), ('Stupak', 'PERSON'), ('with', 'O'), ('a', 'O'), ('big', 'O'), ('tool', 'O'), ('The', 'O'), ('next', 'O'), ('morning', 'O'), ('Luanne', 'PERSON'), ('tricks', 'O'), ('Mr', 'PERSON'), ('Magoo', 'PERSON'), ('into', 'O'), ('taking', 'O'), ('her', 'O'), ('to', 'O'), ('his', 'O'), ('house', 'O'), ('with', 'O'), ('an', 'O'), ('injured', 'O'), ('ankle', 'O'), ('Stupak', 'PERSON'), ('finds', 'O'), ('a', 'O'), ('notebook', 'O'), ('with', 'O'), ('Luannes', 'O'), ('fingerprints', 'O'), ('on', 'O'), ('it', 'O'), ('and', 'O'), ('realizes', 'O'), ('who', 'O'), ('Mr', 'PERSON'), ('Magoo', 'PERSON'), ('is', 'O'), ('with', 'O'), ('He', 'O'), ('and', 'O'), ('Anders', 'PERSON'), ('go', 'O'), ('to', 'O'), ('Mr', 'PERSON'), ('Magoos', 'PERSON'), ('house', 'O'), ('where', 'O'), ('Stupak', 'PERSON'), ('sneaks', 'O'), ('in', 'O'), ('looking', 'O'), ('for', 'O'), ('the', 'O'), ('ruby', 'O'), ('Mr', 'PERSON'), ('Magoo', 'PERSON'), ('and', 'O'), ('Luanne', 'PERSON'), ('arrive', 'O'), ('at', 'O'), ('the', 'O'), ('house', 'O'), ('and', 'O'), ('Stupak', 'PERSON'), ('hides', 'O'), ('from', 'O'), ('them', 'O'), ('Bob', 'PERSON'), ('sneaks', 'O'), ('into', 'O'), ('Mr', 'PERSON'), ('Magoos', 'PERSON'), ('house', 'O'), ('and', 'O'), ('finds', 'O'), ('the', 'O'), ('ruby', 'O'), ('Upon', 'O'), ('being', 'O'), ('caught', 'O'), ('in', 'O'), ('the', 'O'), ('act', 'O'), ('he', 'O'), ('steals', 'O'), ('Mr', 'PERSON'), ('Magoos', 'PERSON'), ('prized', 'O'), ('Studebaker', 'O'), ('with', 'O'), ('the', 'O'), ('Magoos', 'ORGANIZATION'), ('and', 'O'), ('Luanne', 'PERSON'), ('chasing', 'O'), ('after', 'O'), ('him', 'O'), ('in', 'O'), ('Magoos', 'O'), ('Eggplantmobile', 'O'), ('Bob', 'PERSON'), ('loses', 'O'), ('them', 'O'), ('and', 'O'), ('brings', 'O'), ('the', 'O'), ('ruby', 'O'), ('to', 'O'), ('Austin', 'ORGANIZATION'), ('Austin', 'ORGANIZATION'), ('plans', 'O'), ('an', 'O'), ('auction', 'O'), ('for', 'O'), ('his', 'O'), ('criminal', 'O'), ('friends', 'O'), ('from', 'O'), ('around', 'O'), ('the', 'O'), ('world', 'O'), ('and', 'O'), ('shows', 'O'), ('them', 'O'), ('the', 'O'), ('ruby', 'O'), ('Mr', 'PERSON'), ('Magoo', 'PERSON'), ('disguises', 'O'), ('himself', 'O'), ('as', 'O'), ('Ortega', 'PERSON'), ('Peru', 'PERSON'), ('a', 'O'), ('thief', 'O'), ('from', 'O'), ('Brazil', 'LOCATION'), ('who', 'O'), ('never', 'O'), ('goes', 'O'), ('anywhere', 'O'), ('and', 'O'), ('joins', 'O'), ('the', 'O'), ('auction', 'O'), ('which', 'O'), ('is', 'O'), ('taking', 'O'), ('place', 'O'), ('in', 'O'), ('a', 'O'), ('communal', 'O'), ('indoor', 'O'), ('pool', 'O'), ('However', 'O'), ('he', 'O'), ('is', 'O'), ('discovered', 'O'), ('when', 'O'), ('the', 'O'), ('fake', 'O'), ('tattoo', 'O'), ('on', 'O'), ('his', 'O'), ('chest', 'O'), ('is', 'O'), ('washed', 'O'), ('away', 'O'), ('by', 'O'), ('the', 'O'), ('water', 'O'), ('Luanne', 'PERSON'), ('breaks', 'O'), ('up', 'O'), ('the', 'O'), ('auction', 'O'), ('steals', 'O'), ('the', 'O'), ('ruby', 'O'), ('and', 'O'), ('escapes', 'O'), ('on', 'O'), ('a', 'O'), ('snow', 'O'), ('mobile', 'O'), ('away', 'O'), ('from', 'O'), ('the', 'O'), ('lair', 'O'), ('The', 'O'), ('government', 'O'), ('arrests', 'O'), ('Austin', 'PERSON'), ('and', 'O'), ('his', 'O'), ('friends', 'O'), ('while', 'O'), ('Mr', 'PERSON'), ('Magoo', 'PERSON'), ('gives', 'O'), ('chase', 'O'), ('on', 'O'), ('an', 'O'), ('ironing', 'O'), ('board', 'O'), ('and', 'O'), ('winds', 'O'), ('up', 'O'), ('in', 'O'), ('the', 'O'), ('middle', 'O'), ('of', 'O'), ('a', 'O'), ('womens', 'O'), ('skiing', 'O'), ('competition', 'O'), ('Waldo', 'PERSON'), ('and', 'O'), ('Angus', 'PERSON'), ('sneak', 'O'), ('out', 'O'), ('of', 'O'), ('the', 'O'), ('lair', 'O'), ('catch', 'O'), ('up', 'O'), ('with', 'O'), ('Magoo', 'PERSON'), ('and', 'O'), ('track', 'O'), ('down', 'O'), ('the', 'O'), ('ruby', 'O'), ('Angus', 'PERSON'), ('sees', 'O'), ('Luanne', 'PERSON'), ('in', 'O'), ('disguise', 'O'), ('as', 'O'), ('an', 'O'), ('old', 'O'), ('woman', 'O'), ('and', 'O'), ('spills', 'O'), ('her', 'O'), ('purse', 'O'), ('which', 'O'), ('gives', 'O'), ('Mr', 'PERSON'), ('Magoo', 'PERSON'), ('and', 'O'), ('Waldo', 'PERSON'), ('a', 'O'), ('clue', 'O'), ('about', 'O'), ('where', 'O'), ('Luanne', 'PERSON'), ('is', 'O'), ('going', 'O'), ('The', 'O'), ('Magoos', 'O'), ('follow', 'O'), ('Luanne', 'PERSON'), ('to', 'O'), ('Brazil', 'LOCATION'), ('where', 'O'), ('Waldo', 'PERSON'), ('spies', 'O'), ('on', 'O'), ('the', 'O'), ('real', 'O'), ('Ortega', 'PERSON'), ('Miguel', 'PERSON'), ('Ferrer', 'PERSON'), ('and', 'O'), ('his', 'O'), ('friends', 'O'), ('Mr', 'PERSON'), ('Magoo', 'PERSON'), ('steals', 'O'), ('a', 'O'), ('bride', 'O'), ('dress', 'O'), ('from', 'O'), ('Ortegas', 'ORGANIZATION'), ('girlfriend', 'O'), ('Rosita', 'PERSON'), ('Monique', 'PERSON'), ('Rusu', 'PERSON'), ('and', 'O'), ('is', 'O'), ('led', 'O'), ('to', 'O'), ('the', 'O'), ('wedding', 'O'), ('Mr', 'PERSON'), ('Magoo', 'PERSON'), ('steals', 'O'), ('the', 'O'), ('ruby', 'O'), ('from', 'O'), ('Ortega', 'PERSON'), ('and', 'O'), ('finds', 'O'), ('himself', 'O'), ('being', 'O'), ('chased', 'O'), ('by', 'O'), ('Perus', 'PERSON'), ('men', 'O'), ('the', 'O'), ('government', 'O'), ('agents', 'O'), ('and', 'O'), ('Luanne', 'PERSON'), ('Magoo', 'PERSON'), ('then', 'O'), ('is', 'O'), ('trapped', 'O'), ('on', 'O'), ('a', 'O'), ('raft', 'O'), ('just', 'O'), ('before', 'O'), ('it', 'O'), ('goes', 'O'), ('over', 'O'), ('a', 'O'), ('waterfall', 'O'), ('but', 'O'), ('manages', 'O'), ('to', 'O'), ('invert', 'O'), ('the', 'O'), ('raft', 'O'), ('like', 'O'), ('a', 'O'), ('parachute', 'O'), ('so', 'O'), ('he', 'O'), ('can', 'O'), ('gently', 'O'), ('float', 'O'), ('to', 'O'), ('safety', 'O'), ('He', 'O'), ('and', 'O'), ('Waldo', 'PERSON'), ('return', 'O'), ('the', 'O'), ('ruby', 'O'), ('to', 'O'), ('the', 'O'), ('museum', 'O'), ('with', 'O'), ('the', 'O'), ('government', 'O'), ('arresting', 'O'), ('Ortega', 'PERSON'), ('Luanne', 'PERSON'), ('and', 'O'), ('the', 'O'), ('people', 'O'), ('from', 'O'), ('Brazil', 'LOCATION'), ('Mr', 'PERSON'), ('Magoo', 'PERSON'), ('and', 'O'), ('Angus', 'PERSON'), ('go', 'O'), ('home', 'O'), ('after', 'O'), ('returning', 'O'), ('the', 'O'), ('ruby', 'O'), ('back', 'O'), ('to', 'O'), ('the', 'O'), ('museum', 'O')]]\n"
     ]
    }
   ],
   "source": [
    "st = StanfordNERTagger('english.all.3class.distsim.crf.ser.gz',\n",
    "                       '/Users/alexanderbailey/Documents/stanford-ner-2018-10-16/stanford-ner.jar')\n",
    "names2 = tag_words(sample2, st)"
   ]
  },
  {
   "cell_type": "code",
   "execution_count": 108,
   "metadata": {},
   "outputs": [],
   "source": [
    "import pickle\n",
    "with open('data/names_list2.pkl', 'wb') as f:\n",
    "    pickle.dump(names2, f)"
   ]
  },
  {
   "cell_type": "code",
   "execution_count": 129,
   "metadata": {},
   "outputs": [
    {
     "name": "stdout",
     "output_type": "stream",
     "text": [
      "(56005, 2)\n"
     ]
    },
    {
     "data": {
      "text/html": [
       "<div>\n",
       "<style scoped>\n",
       "    .dataframe tbody tr th:only-of-type {\n",
       "        vertical-align: middle;\n",
       "    }\n",
       "\n",
       "    .dataframe tbody tr th {\n",
       "        vertical-align: top;\n",
       "    }\n",
       "\n",
       "    .dataframe thead th {\n",
       "        text-align: right;\n",
       "    }\n",
       "</style>\n",
       "<table border=\"1\" class=\"dataframe\">\n",
       "  <thead>\n",
       "    <tr style=\"text-align: right;\">\n",
       "      <th></th>\n",
       "      <th>summary</th>\n",
       "      <th>title</th>\n",
       "    </tr>\n",
       "  </thead>\n",
       "  <tbody>\n",
       "    <tr>\n",
       "      <th>0</th>\n",
       "      <td>nown as 1 Life On The Limit is a 2013 document...</td>\n",
       "      <td>1 (2013 film)</td>\n",
       "    </tr>\n",
       "    <tr>\n",
       "      <th>1</th>\n",
       "      <td>While on the phone with his girlfriend Jill w...</td>\n",
       "      <td>+1 (film)</td>\n",
       "    </tr>\n",
       "    <tr>\n",
       "      <th>10</th>\n",
       "      <td>Gully Mercer Mick Rossi leads a group of prol...</td>\n",
       "      <td>2:22 (2008 film)</td>\n",
       "    </tr>\n",
       "    <tr>\n",
       "      <th>100</th>\n",
       "      <td>o Christmas is a Ghanaian drama movie about Re...</td>\n",
       "      <td>6 Hours To Christmas</td>\n",
       "    </tr>\n",
       "    <tr>\n",
       "      <th>1000</th>\n",
       "      <td>r is a 1995 American romantic drama television...</td>\n",
       "      <td>The Affair (1995 film)</td>\n",
       "    </tr>\n",
       "  </tbody>\n",
       "</table>\n",
       "</div>"
      ],
      "text/plain": [
       "                                                summary  \\\n",
       "0     nown as 1 Life On The Limit is a 2013 document...   \n",
       "1      While on the phone with his girlfriend Jill w...   \n",
       "10     Gully Mercer Mick Rossi leads a group of prol...   \n",
       "100   o Christmas is a Ghanaian drama movie about Re...   \n",
       "1000  r is a 1995 American romantic drama television...   \n",
       "\n",
       "                       title  \n",
       "0              1 (2013 film)  \n",
       "1                  +1 (film)  \n",
       "10          2:22 (2008 film)  \n",
       "100     6 Hours To Christmas  \n",
       "1000  The Affair (1995 film)  "
      ]
     },
     "execution_count": 129,
     "metadata": {},
     "output_type": "execute_result"
    }
   ],
   "source": [
    "movies1_df = pd.read_json('data/eng_1_430.json')\n",
    "movies2_df = pd.read_json('data/eng_431_601.json')\n",
    "movies = movies1_df.append(movies2_df)\n",
    "print(movies.shape)\n",
    "movies.head()"
   ]
  },
  {
   "cell_type": "markdown",
   "metadata": {},
   "source": [
    "## Storing with MongoDB\n",
    "\n",
    "Now that I have the data backed up locally, I will attempt to store it remotely with Mongo."
   ]
  },
  {
   "cell_type": "code",
   "execution_count": 130,
   "metadata": {},
   "outputs": [
    {
     "name": "stdout",
     "output_type": "stream",
     "text": [
      "{'$clusterTime': {'clusterTime': Timestamp(1562004936, 1),\n",
      "                  'signature': {'hash': b'\\x85Y\\xca\\x85\\xbf\\xa3\\xb9\\xa8'\n",
      "                                        b'\\x8c\\x08\\n\\xe60 \\x0fP\\xe6vC\\x7f',\n",
      "                                'keyId': 6703621046206988289}},\n",
      " 'asserts': {'msg': 0, 'regular': 0, 'rollovers': 0, 'user': 0, 'warning': 0},\n",
      " 'connections': {'available': 98, 'current': 2, 'totalCreated': 26},\n",
      " 'extra_info': {'note': 'fields vary by platform', 'page_faults': 0},\n",
      " 'host': 'cluster0-shard-00-01-ykzgc.mongodb.net:27017',\n",
      " 'localTime': datetime.datetime(2019, 7, 1, 18, 15, 38, 943000),\n",
      " 'mem': {'bits': 64,\n",
      "         'mapped': 0,\n",
      "         'mappedWithJournal': 0,\n",
      "         'resident': 0,\n",
      "         'supported': True,\n",
      "         'virtual': 0},\n",
      " 'metrics': {'atlas': {'bytesInWrites': 0,\n",
      "                       'connectionPool': {'totalCreated': 278}}},\n",
      " 'network': {'bytesIn': 35770, 'bytesOut': 511897, 'numRequests': 188},\n",
      " 'ok': 1.0,\n",
      " 'opcounters': {'command': 183,\n",
      "                'delete': 0,\n",
      "                'getmore': 0,\n",
      "                'insert': 0,\n",
      "                'query': 5,\n",
      "                'update': 0},\n",
      " 'opcountersRepl': {'command': 0,\n",
      "                    'delete': 0,\n",
      "                    'getmore': 0,\n",
      "                    'insert': 0,\n",
      "                    'query': 0,\n",
      "                    'update': 0},\n",
      " 'operationTime': Timestamp(1562004936, 1),\n",
      " 'pid': 14219,\n",
      " 'process': 'mongod',\n",
      " 'repl': {'electionId': ObjectId('7fffffff0000000000000002'),\n",
      "          'hosts': ['cluster0-shard-00-00-ykzgc.mongodb.net:27017',\n",
      "                    'cluster0-shard-00-01-ykzgc.mongodb.net:27017',\n",
      "                    'cluster0-shard-00-02-ykzgc.mongodb.net:27017'],\n",
      "          'ismaster': True,\n",
      "          'lastWrite': {'lastWriteDate': datetime.datetime(2019, 7, 1, 18, 15, 36),\n",
      "                        'majorityOpTime': {'t': 2,\n",
      "                                           'ts': Timestamp(1562004936, 1)},\n",
      "                        'majorityWriteDate': datetime.datetime(2019, 7, 1, 18, 15, 36),\n",
      "                        'opTime': {'t': 2, 'ts': Timestamp(1562004936, 1)}},\n",
      "          'me': 'cluster0-shard-00-01-ykzgc.mongodb.net:27017',\n",
      "          'primary': 'cluster0-shard-00-01-ykzgc.mongodb.net:27017',\n",
      "          'rbid': 1,\n",
      "          'secondary': False,\n",
      "          'setName': 'Cluster0-shard-0',\n",
      "          'setVersion': 1,\n",
      "          'tags': {'nodeType': 'ELECTABLE',\n",
      "                   'provider': 'AWS',\n",
      "                   'region': 'US_EAST_1'}},\n",
      " 'storageEngine': {'name': 'wiredTiger',\n",
      "                   'persistent': True,\n",
      "                   'readOnly': False,\n",
      "                   'supportsCommittedReads': True,\n",
      "                   'supportsSnapshotReadConcern': True},\n",
      " 'uptime': 445911.0,\n",
      " 'uptimeEstimate': 445911,\n",
      " 'uptimeMillis': 445911681,\n",
      " 'version': '4.0.10'}\n"
     ]
    }
   ],
   "source": [
    "from pymongo import MongoClient\n",
    "from pprint import pprint\n",
    "import json\n",
    "\n",
    "with open('/Users/alexanderbailey/.secret/mongo_creds.json','r') as f:\n",
    "    params = json.load(f)\n",
    "\n",
    "url = 'mongodb+srv://zmbailey:' + params['password'] + '@cluster0-ykzgc.mongodb.net/test?retryWrites=true&w=majority'\n",
    "\n",
    "client = MongoClient(url)\n",
    "db=client.admin\n",
    "\n",
    "serverStatusResult=db.command(\"serverStatus\")\n",
    "pprint(serverStatusResult)"
   ]
  },
  {
   "cell_type": "code",
   "execution_count": 131,
   "metadata": {},
   "outputs": [],
   "source": [
    "mongodb = client.movieplots"
   ]
  },
  {
   "cell_type": "code",
   "execution_count": 134,
   "metadata": {},
   "outputs": [
    {
     "name": "stdout",
     "output_type": "stream",
     "text": [
      "[ObjectId('5d1a4e861293e4051fb185ae'), ObjectId('5d1a4e861293e4051fb185af'), ObjectId('5d1a4e861293e4051fb185b0'), ObjectId('5d1a4e861293e4051fb185b1'), ObjectId('5d1a4e861293e4051fb185b2'), ObjectId('5d1a4e861293e4051fb185b3'), ObjectId('5d1a4e861293e4051fb185b4'), ObjectId('5d1a4e861293e4051fb185b5'), ObjectId('5d1a4e861293e4051fb185b6'), ObjectId('5d1a4e861293e4051fb185b7')]\n"
     ]
    }
   ],
   "source": [
    "#mon = mongodb.movies.insert_many(movies.to_dict('records'))\n",
    "print(mon.inserted_ids[:10])"
   ]
  },
  {
   "cell_type": "code",
   "execution_count": null,
   "metadata": {},
   "outputs": [],
   "source": []
  }
 ],
 "metadata": {
  "kernelspec": {
   "display_name": "learn-env",
   "language": "python",
   "name": "learn-env"
  },
  "language_info": {
   "codemirror_mode": {
    "name": "ipython",
    "version": 3
   },
   "file_extension": ".py",
   "mimetype": "text/x-python",
   "name": "python",
   "nbconvert_exporter": "python",
   "pygments_lexer": "ipython3",
   "version": "3.7.1"
  }
 },
 "nbformat": 4,
 "nbformat_minor": 2
}

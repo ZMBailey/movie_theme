{
 "cells": [
  {
   "cell_type": "code",
   "execution_count": null,
   "metadata": {},
   "outputs": [],
   "source": [
    "import requests\n",
    "\n",
    "S = requests.Session()\n",
    "\n",
    "URL = \"https://en.wikipedia.org/w/api.php\"\n",
    "\n",
    "TITLE = \"Category:1961 films|Category:1965 films\"\n",
    "\n",
    "PARAMS = {\n",
    "    'action': \"query\",\n",
    "    'list': 'categorymembers',\n",
    "    'cmtitle': TITLE,\n",
    "    'cmlimit': '10',\n",
    "    'format': \"json\",\n",
    "}\n",
    "\n",
    "R = S.get(url=URL, params=PARAMS)\n",
    "DATA = R.json()"
   ]
  },
  {
   "cell_type": "code",
   "execution_count": null,
   "metadata": {},
   "outputs": [],
   "source": [
    "print(DATA['error'])\n",
    "#[item['title'] for item in DATA['query']['categorymembers']]"
   ]
  },
  {
   "cell_type": "code",
   "execution_count": null,
   "metadata": {},
   "outputs": [],
   "source": [
    "years = []\n",
    "URL = \"https://en.wikipedia.org/w/api.php\"\n",
    "\n",
    "for y in range(1960,1965):\n",
    "    TITLE = \"Category:\" + str(y) + \" films\"\n",
    "\n",
    "    PARAMS = {\n",
    "        'action': \"query\",\n",
    "        'list': 'categorymembers',\n",
    "        'cmtitle': TITLE,\n",
    "        'cmlimit': '10',\n",
    "        'format': \"json\",\n",
    "    }\n",
    "\n",
    "    R = S.get(url=URL, params=PARAMS)\n",
    "    DATA = R.json()\n",
    "    ids = [item['pageid'] for ind,item in enumerate(DATA['query']['categorymembers']) if ind>1]\n",
    "    years.append(ids)\n",
    "years"
   ]
  },
  {
   "cell_type": "code",
   "execution_count": null,
   "metadata": {},
   "outputs": [],
   "source": [
    "DATA['query']"
   ]
  },
  {
   "cell_type": "code",
   "execution_count": null,
   "metadata": {},
   "outputs": [],
   "source": [
    "def get_plot(raw_text):\n",
    "    '''accepts a WikipediaPage object, and extracts the plot\n",
    "        text(if there is any) and returns it in plain text, with no punctuation.\n",
    "        If no plot text exists, return -1.'''\n",
    "    fulltext = raw_text.content\n",
    "    ind1 = fulltext.find('== Plot ==') + 10\n",
    "    ind2 = fulltext.find('==',ind1)\n",
    "    plottext = fulltext[ind1:ind2]\n",
    "    plottext = plottext.replace('\\n',' ').translate(str.maketrans('','',string.punctuation))\n",
    "    if len(plottext) > 5:\n",
    "        return plottext\n",
    "    else:\n",
    "        return -1"
   ]
  },
  {
   "cell_type": "code",
   "execution_count": null,
   "metadata": {},
   "outputs": [],
   "source": [
    "import wikipedia\n",
    "import string\n",
    "plots = []\n",
    "miss = 0\n",
    "\n",
    "for id in years[4]:\n",
    "    try:\n",
    "        movie = wikipedia.page(pageid=id)\n",
    "        plot = get_plot(movie)\n",
    "        if plot != -1:\n",
    "            plots.append(plot)\n",
    "    except wikipedia.exceptions.DisambiguationError:\n",
    "        miss += 1\n",
    "plots"
   ]
  },
  {
   "cell_type": "code",
   "execution_count": null,
   "metadata": {},
   "outputs": [],
   "source": [
    "DATA['parse']"
   ]
  },
  {
   "cell_type": "code",
   "execution_count": null,
   "metadata": {},
   "outputs": [],
   "source": [
    "from mediawiki import MediaWiki\n",
    "import wikipedia\n",
    "\n",
    "query = \"Category:1961 films\"\n",
    "\n",
    "c = wikipedia.page(pageid=years[3][6])\n",
    "c.title"
   ]
  },
  {
   "cell_type": "code",
   "execution_count": null,
   "metadata": {},
   "outputs": [],
   "source": [
    "fulltext = c.content"
   ]
  },
  {
   "cell_type": "code",
   "execution_count": null,
   "metadata": {},
   "outputs": [],
   "source": [
    "import string\n",
    "ind1 = fulltext.find('== Plot ==') + 10\n",
    "ind2 = fulltext.find('==',ind1)\n",
    "plottext = fulltext[ind1:ind2]\n",
    "plottext.replace('\\n',' ').translate(str.maketrans('','',string.punctuation))"
   ]
  },
  {
   "cell_type": "code",
   "execution_count": null,
   "metadata": {},
   "outputs": [],
   "source": [
    "import datetime\n",
    "import time\n",
    "from wikiparse_movies import WikiParser\n",
    "%load_ext autoreload\n",
    "%autoreload 2"
   ]
  },
  {
   "cell_type": "code",
   "execution_count": null,
   "metadata": {},
   "outputs": [],
   "source": [
    "now = datetime.datetime.now()\n",
    "\n",
    "wp = WikiParser()\n",
    "yrs_1960_1970 = wp.get_years(1960,1965)\n",
    "\n",
    "later = datetime.datetime.now()\n",
    "elapsed = later-now\n",
    "print(\"Time: \", elapsed) \n",
    "#year_1960 = movies\n",
    "print(len(yrs_1960_1970))"
   ]
  },
  {
   "cell_type": "code",
   "execution_count": null,
   "metadata": {},
   "outputs": [],
   "source": [
    "import pandas as pd\n",
    "\n",
    "yrs1_df = pd.DataFrame.from_dict(yrs_1960_1970)\n",
    "yrs1_df.head()"
   ]
  },
  {
   "cell_type": "code",
   "execution_count": null,
   "metadata": {},
   "outputs": [],
   "source": [
    "yrs1_df = yrs1_df[~yrs1_df['title'].str.startswith('List')]"
   ]
  },
  {
   "cell_type": "code",
   "execution_count": null,
   "metadata": {},
   "outputs": [],
   "source": [
    "yrs1_df.to_json('1960_1964.json')"
   ]
  },
  {
   "cell_type": "code",
   "execution_count": null,
   "metadata": {},
   "outputs": [],
   "source": [
    "#1970***\n",
    "#1975<--\n",
    "#1980\n",
    "#1985\n",
    "#1990\n",
    "#1995\n",
    "#2000\n",
    "\n",
    "now = datetime.datetime.now()\n",
    "\n",
    "wp = WikiParser()\n",
    "yrs_1971_1975 = wp.get_years(1971,1975)\n",
    "\n",
    "later = datetime.datetime.now()\n",
    "elapsed = later-now\n",
    "print(\"Time: \", elapsed) \n",
    "#year_1960 = movies\n",
    "print(len(yrs_1971_1975))"
   ]
  },
  {
   "cell_type": "code",
   "execution_count": null,
   "metadata": {},
   "outputs": [],
   "source": [
    "yrs2_df = pd.DataFrame.from_dict(yrs_1965_1970)\n",
    "yrs2_df.head()"
   ]
  },
  {
   "cell_type": "code",
   "execution_count": null,
   "metadata": {},
   "outputs": [],
   "source": [
    "yrs2_df.to_json('1965_1970.json')"
   ]
  },
  {
   "cell_type": "code",
   "execution_count": null,
   "metadata": {},
   "outputs": [],
   "source": []
  }
 ],
 "metadata": {
  "kernelspec": {
   "display_name": "learn-env",
   "language": "python",
   "name": "learn-env"
  },
  "language_info": {
   "codemirror_mode": {
    "name": "ipython",
    "version": 3
   },
   "file_extension": ".py",
   "mimetype": "text/x-python",
   "name": "python",
   "nbconvert_exporter": "python",
   "pygments_lexer": "ipython3",
   "version": "3.7.1"
  }
 },
 "nbformat": 4,
 "nbformat_minor": 2
}
